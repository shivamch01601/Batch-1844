{
 "cells": [
  {
   "cell_type": "markdown",
   "id": "5857f5c1",
   "metadata": {},
   "source": [
    "# World Happiness Report "
   ]
  },
  {
   "cell_type": "markdown",
   "id": "12e79d6e",
   "metadata": {},
   "source": [
    "### we need to predict the happiness score considering all the other factors mentioned in the dataset. "
   ]
  },
  {
   "cell_type": "code",
   "execution_count": 428,
   "id": "2b092a99",
   "metadata": {},
   "outputs": [],
   "source": [
    "# import libraries\n",
    "import pandas as pd\n",
    "import numpy as np"
   ]
  },
  {
   "cell_type": "code",
   "execution_count": 429,
   "id": "99a10c27",
   "metadata": {
    "scrolled": false
   },
   "outputs": [
    {
     "data": {
      "text/html": [
       "<div>\n",
       "<style scoped>\n",
       "    .dataframe tbody tr th:only-of-type {\n",
       "        vertical-align: middle;\n",
       "    }\n",
       "\n",
       "    .dataframe tbody tr th {\n",
       "        vertical-align: top;\n",
       "    }\n",
       "\n",
       "    .dataframe thead th {\n",
       "        text-align: right;\n",
       "    }\n",
       "</style>\n",
       "<table border=\"1\" class=\"dataframe\">\n",
       "  <thead>\n",
       "    <tr style=\"text-align: right;\">\n",
       "      <th></th>\n",
       "      <th>Country</th>\n",
       "      <th>Region</th>\n",
       "      <th>Happiness Rank</th>\n",
       "      <th>Happiness Score</th>\n",
       "      <th>Standard Error</th>\n",
       "      <th>Economy (GDP per Capita)</th>\n",
       "      <th>Family</th>\n",
       "      <th>Health (Life Expectancy)</th>\n",
       "      <th>Freedom</th>\n",
       "      <th>Trust (Government Corruption)</th>\n",
       "      <th>Generosity</th>\n",
       "      <th>Dystopia Residual</th>\n",
       "    </tr>\n",
       "  </thead>\n",
       "  <tbody>\n",
       "    <tr>\n",
       "      <th>0</th>\n",
       "      <td>Switzerland</td>\n",
       "      <td>Western Europe</td>\n",
       "      <td>1</td>\n",
       "      <td>7.587</td>\n",
       "      <td>0.03411</td>\n",
       "      <td>1.39651</td>\n",
       "      <td>1.34951</td>\n",
       "      <td>0.94143</td>\n",
       "      <td>0.66557</td>\n",
       "      <td>0.41978</td>\n",
       "      <td>0.29678</td>\n",
       "      <td>2.51738</td>\n",
       "    </tr>\n",
       "    <tr>\n",
       "      <th>1</th>\n",
       "      <td>Iceland</td>\n",
       "      <td>Western Europe</td>\n",
       "      <td>2</td>\n",
       "      <td>7.561</td>\n",
       "      <td>0.04884</td>\n",
       "      <td>1.30232</td>\n",
       "      <td>1.40223</td>\n",
       "      <td>0.94784</td>\n",
       "      <td>0.62877</td>\n",
       "      <td>0.14145</td>\n",
       "      <td>0.43630</td>\n",
       "      <td>2.70201</td>\n",
       "    </tr>\n",
       "    <tr>\n",
       "      <th>2</th>\n",
       "      <td>Denmark</td>\n",
       "      <td>Western Europe</td>\n",
       "      <td>3</td>\n",
       "      <td>7.527</td>\n",
       "      <td>0.03328</td>\n",
       "      <td>1.32548</td>\n",
       "      <td>1.36058</td>\n",
       "      <td>0.87464</td>\n",
       "      <td>0.64938</td>\n",
       "      <td>0.48357</td>\n",
       "      <td>0.34139</td>\n",
       "      <td>2.49204</td>\n",
       "    </tr>\n",
       "    <tr>\n",
       "      <th>3</th>\n",
       "      <td>Norway</td>\n",
       "      <td>Western Europe</td>\n",
       "      <td>4</td>\n",
       "      <td>7.522</td>\n",
       "      <td>0.03880</td>\n",
       "      <td>1.45900</td>\n",
       "      <td>1.33095</td>\n",
       "      <td>0.88521</td>\n",
       "      <td>0.66973</td>\n",
       "      <td>0.36503</td>\n",
       "      <td>0.34699</td>\n",
       "      <td>2.46531</td>\n",
       "    </tr>\n",
       "    <tr>\n",
       "      <th>4</th>\n",
       "      <td>Canada</td>\n",
       "      <td>North America</td>\n",
       "      <td>5</td>\n",
       "      <td>7.427</td>\n",
       "      <td>0.03553</td>\n",
       "      <td>1.32629</td>\n",
       "      <td>1.32261</td>\n",
       "      <td>0.90563</td>\n",
       "      <td>0.63297</td>\n",
       "      <td>0.32957</td>\n",
       "      <td>0.45811</td>\n",
       "      <td>2.45176</td>\n",
       "    </tr>\n",
       "    <tr>\n",
       "      <th>...</th>\n",
       "      <td>...</td>\n",
       "      <td>...</td>\n",
       "      <td>...</td>\n",
       "      <td>...</td>\n",
       "      <td>...</td>\n",
       "      <td>...</td>\n",
       "      <td>...</td>\n",
       "      <td>...</td>\n",
       "      <td>...</td>\n",
       "      <td>...</td>\n",
       "      <td>...</td>\n",
       "      <td>...</td>\n",
       "    </tr>\n",
       "    <tr>\n",
       "      <th>153</th>\n",
       "      <td>Rwanda</td>\n",
       "      <td>Sub-Saharan Africa</td>\n",
       "      <td>154</td>\n",
       "      <td>3.465</td>\n",
       "      <td>0.03464</td>\n",
       "      <td>0.22208</td>\n",
       "      <td>0.77370</td>\n",
       "      <td>0.42864</td>\n",
       "      <td>0.59201</td>\n",
       "      <td>0.55191</td>\n",
       "      <td>0.22628</td>\n",
       "      <td>0.67042</td>\n",
       "    </tr>\n",
       "    <tr>\n",
       "      <th>154</th>\n",
       "      <td>Benin</td>\n",
       "      <td>Sub-Saharan Africa</td>\n",
       "      <td>155</td>\n",
       "      <td>3.340</td>\n",
       "      <td>0.03656</td>\n",
       "      <td>0.28665</td>\n",
       "      <td>0.35386</td>\n",
       "      <td>0.31910</td>\n",
       "      <td>0.48450</td>\n",
       "      <td>0.08010</td>\n",
       "      <td>0.18260</td>\n",
       "      <td>1.63328</td>\n",
       "    </tr>\n",
       "    <tr>\n",
       "      <th>155</th>\n",
       "      <td>Syria</td>\n",
       "      <td>Middle East and Northern Africa</td>\n",
       "      <td>156</td>\n",
       "      <td>3.006</td>\n",
       "      <td>0.05015</td>\n",
       "      <td>0.66320</td>\n",
       "      <td>0.47489</td>\n",
       "      <td>0.72193</td>\n",
       "      <td>0.15684</td>\n",
       "      <td>0.18906</td>\n",
       "      <td>0.47179</td>\n",
       "      <td>0.32858</td>\n",
       "    </tr>\n",
       "    <tr>\n",
       "      <th>156</th>\n",
       "      <td>Burundi</td>\n",
       "      <td>Sub-Saharan Africa</td>\n",
       "      <td>157</td>\n",
       "      <td>2.905</td>\n",
       "      <td>0.08658</td>\n",
       "      <td>0.01530</td>\n",
       "      <td>0.41587</td>\n",
       "      <td>0.22396</td>\n",
       "      <td>0.11850</td>\n",
       "      <td>0.10062</td>\n",
       "      <td>0.19727</td>\n",
       "      <td>1.83302</td>\n",
       "    </tr>\n",
       "    <tr>\n",
       "      <th>157</th>\n",
       "      <td>Togo</td>\n",
       "      <td>Sub-Saharan Africa</td>\n",
       "      <td>158</td>\n",
       "      <td>2.839</td>\n",
       "      <td>0.06727</td>\n",
       "      <td>0.20868</td>\n",
       "      <td>0.13995</td>\n",
       "      <td>0.28443</td>\n",
       "      <td>0.36453</td>\n",
       "      <td>0.10731</td>\n",
       "      <td>0.16681</td>\n",
       "      <td>1.56726</td>\n",
       "    </tr>\n",
       "  </tbody>\n",
       "</table>\n",
       "<p>158 rows × 12 columns</p>\n",
       "</div>"
      ],
      "text/plain": [
       "         Country                           Region  Happiness Rank  \\\n",
       "0    Switzerland                   Western Europe               1   \n",
       "1        Iceland                   Western Europe               2   \n",
       "2        Denmark                   Western Europe               3   \n",
       "3         Norway                   Western Europe               4   \n",
       "4         Canada                    North America               5   \n",
       "..           ...                              ...             ...   \n",
       "153       Rwanda               Sub-Saharan Africa             154   \n",
       "154        Benin               Sub-Saharan Africa             155   \n",
       "155        Syria  Middle East and Northern Africa             156   \n",
       "156      Burundi               Sub-Saharan Africa             157   \n",
       "157         Togo               Sub-Saharan Africa             158   \n",
       "\n",
       "     Happiness Score  Standard Error  Economy (GDP per Capita)   Family  \\\n",
       "0              7.587         0.03411                   1.39651  1.34951   \n",
       "1              7.561         0.04884                   1.30232  1.40223   \n",
       "2              7.527         0.03328                   1.32548  1.36058   \n",
       "3              7.522         0.03880                   1.45900  1.33095   \n",
       "4              7.427         0.03553                   1.32629  1.32261   \n",
       "..               ...             ...                       ...      ...   \n",
       "153            3.465         0.03464                   0.22208  0.77370   \n",
       "154            3.340         0.03656                   0.28665  0.35386   \n",
       "155            3.006         0.05015                   0.66320  0.47489   \n",
       "156            2.905         0.08658                   0.01530  0.41587   \n",
       "157            2.839         0.06727                   0.20868  0.13995   \n",
       "\n",
       "     Health (Life Expectancy)  Freedom  Trust (Government Corruption)  \\\n",
       "0                     0.94143  0.66557                        0.41978   \n",
       "1                     0.94784  0.62877                        0.14145   \n",
       "2                     0.87464  0.64938                        0.48357   \n",
       "3                     0.88521  0.66973                        0.36503   \n",
       "4                     0.90563  0.63297                        0.32957   \n",
       "..                        ...      ...                            ...   \n",
       "153                   0.42864  0.59201                        0.55191   \n",
       "154                   0.31910  0.48450                        0.08010   \n",
       "155                   0.72193  0.15684                        0.18906   \n",
       "156                   0.22396  0.11850                        0.10062   \n",
       "157                   0.28443  0.36453                        0.10731   \n",
       "\n",
       "     Generosity  Dystopia Residual  \n",
       "0       0.29678            2.51738  \n",
       "1       0.43630            2.70201  \n",
       "2       0.34139            2.49204  \n",
       "3       0.34699            2.46531  \n",
       "4       0.45811            2.45176  \n",
       "..          ...                ...  \n",
       "153     0.22628            0.67042  \n",
       "154     0.18260            1.63328  \n",
       "155     0.47179            0.32858  \n",
       "156     0.19727            1.83302  \n",
       "157     0.16681            1.56726  \n",
       "\n",
       "[158 rows x 12 columns]"
      ]
     },
     "execution_count": 429,
     "metadata": {},
     "output_type": "execute_result"
    }
   ],
   "source": [
    "# read data\n",
    "df = pd.read_csv('https://raw.githubusercontent.com/dsrscientist/DSData/master/happiness_score_dataset.csv')\n",
    "df"
   ]
  },
  {
   "cell_type": "markdown",
   "id": "70278749",
   "metadata": {},
   "source": [
    "* here we observe our target column or label contains continous data so, it is a regression problem"
   ]
  },
  {
   "cell_type": "markdown",
   "id": "5e280467",
   "metadata": {},
   "source": [
    "* according to me country and region should not affect happiness score and we will check it in analysis phase"
   ]
  },
  {
   "cell_type": "markdown",
   "id": "803f86d5",
   "metadata": {},
   "source": [
    "### Let's check blank , null , and dulpicate values"
   ]
  },
  {
   "cell_type": "code",
   "execution_count": 430,
   "id": "55a0a21c",
   "metadata": {},
   "outputs": [
    {
     "data": {
      "text/plain": [
       "Country                          0\n",
       "Region                           0\n",
       "Happiness Rank                   0\n",
       "Happiness Score                  0\n",
       "Standard Error                   0\n",
       "Economy (GDP per Capita)         0\n",
       "Family                           0\n",
       "Health (Life Expectancy)         0\n",
       "Freedom                          0\n",
       "Trust (Government Corruption)    0\n",
       "Generosity                       0\n",
       "Dystopia Residual                0\n",
       "dtype: int64"
      ]
     },
     "execution_count": 430,
     "metadata": {},
     "output_type": "execute_result"
    }
   ],
   "source": [
    "# checking null values\n",
    "df.isna().sum()"
   ]
  },
  {
   "cell_type": "code",
   "execution_count": 431,
   "id": "9b34e376",
   "metadata": {},
   "outputs": [
    {
     "data": {
      "text/plain": [
       "0"
      ]
     },
     "execution_count": 431,
     "metadata": {},
     "output_type": "execute_result"
    }
   ],
   "source": [
    "# checking duplicates\n",
    "df.duplicated().sum()"
   ]
  },
  {
   "cell_type": "code",
   "execution_count": 432,
   "id": "ef747522",
   "metadata": {},
   "outputs": [
    {
     "data": {
      "text/html": [
       "<div>\n",
       "<style scoped>\n",
       "    .dataframe tbody tr th:only-of-type {\n",
       "        vertical-align: middle;\n",
       "    }\n",
       "\n",
       "    .dataframe tbody tr th {\n",
       "        vertical-align: top;\n",
       "    }\n",
       "\n",
       "    .dataframe thead th {\n",
       "        text-align: right;\n",
       "    }\n",
       "</style>\n",
       "<table border=\"1\" class=\"dataframe\">\n",
       "  <thead>\n",
       "    <tr style=\"text-align: right;\">\n",
       "      <th></th>\n",
       "      <th>Country</th>\n",
       "      <th>Region</th>\n",
       "      <th>Happiness Rank</th>\n",
       "      <th>Happiness Score</th>\n",
       "      <th>Standard Error</th>\n",
       "      <th>Economy (GDP per Capita)</th>\n",
       "      <th>Family</th>\n",
       "      <th>Health (Life Expectancy)</th>\n",
       "      <th>Freedom</th>\n",
       "      <th>Trust (Government Corruption)</th>\n",
       "      <th>Generosity</th>\n",
       "      <th>Dystopia Residual</th>\n",
       "    </tr>\n",
       "  </thead>\n",
       "  <tbody>\n",
       "  </tbody>\n",
       "</table>\n",
       "</div>"
      ],
      "text/plain": [
       "Empty DataFrame\n",
       "Columns: [Country, Region, Happiness Rank, Happiness Score, Standard Error, Economy (GDP per Capita), Family, Health (Life Expectancy), Freedom, Trust (Government Corruption), Generosity, Dystopia Residual]\n",
       "Index: []"
      ]
     },
     "execution_count": 432,
     "metadata": {},
     "output_type": "execute_result"
    }
   ],
   "source": [
    "# checking black spaces\n",
    "df.loc[df['Country']==\" \"]\n",
    "df.loc[df['Region']==\" \"]\n",
    "df.loc[df['Happiness Rank']==\" \"]\n",
    "df.loc[df['Happiness Score']==\" \"]\n",
    "df.loc[df['Standard Error']==\" \"]\n",
    "df.loc[df['Economy (GDP per Capita)']==\" \"]\n",
    "df.loc[df['Family']==\" \"]\n",
    "df.loc[df['Health (Life Expectancy)']==\" \"]\n",
    "df.loc[df['Freedom']==\" \"]\n",
    "df.loc[df['Trust (Government Corruption)']==\" \"]\n",
    "df.loc[df['Generosity']==\" \"]\n",
    "df.loc[df['Dystopia Residual']==\" \"]"
   ]
  },
  {
   "cell_type": "markdown",
   "id": "991cc3d4",
   "metadata": {},
   "source": [
    "* we can observe here , there is no null, missing and duplicate value present in our dataset. Now we will move on "
   ]
  },
  {
   "cell_type": "code",
   "execution_count": 433,
   "id": "5b67054d",
   "metadata": {},
   "outputs": [
    {
     "name": "stdout",
     "output_type": "stream",
     "text": [
      "(158, 12)\n",
      "<class 'pandas.core.frame.DataFrame'>\n",
      "RangeIndex: 158 entries, 0 to 157\n",
      "Data columns (total 12 columns):\n",
      " #   Column                         Non-Null Count  Dtype  \n",
      "---  ------                         --------------  -----  \n",
      " 0   Country                        158 non-null    object \n",
      " 1   Region                         158 non-null    object \n",
      " 2   Happiness Rank                 158 non-null    int64  \n",
      " 3   Happiness Score                158 non-null    float64\n",
      " 4   Standard Error                 158 non-null    float64\n",
      " 5   Economy (GDP per Capita)       158 non-null    float64\n",
      " 6   Family                         158 non-null    float64\n",
      " 7   Health (Life Expectancy)       158 non-null    float64\n",
      " 8   Freedom                        158 non-null    float64\n",
      " 9   Trust (Government Corruption)  158 non-null    float64\n",
      " 10  Generosity                     158 non-null    float64\n",
      " 11  Dystopia Residual              158 non-null    float64\n",
      "dtypes: float64(9), int64(1), object(2)\n",
      "memory usage: 14.9+ KB\n"
     ]
    }
   ],
   "source": [
    "# checking shape and info of dataset\n",
    "print(df.shape)\n",
    "df.info()"
   ]
  },
  {
   "cell_type": "markdown",
   "id": "31700cec",
   "metadata": {},
   "source": [
    "* Here we observe the datatype of each column i.e Most columns contains float data and happiness rank contain integer data and region and country contain object data"
   ]
  },
  {
   "cell_type": "markdown",
   "id": "b7656c97",
   "metadata": {},
   "source": [
    "### Let's check stats of dataset"
   ]
  },
  {
   "cell_type": "code",
   "execution_count": 434,
   "id": "0d00adcb",
   "metadata": {},
   "outputs": [
    {
     "data": {
      "text/html": [
       "<div>\n",
       "<style scoped>\n",
       "    .dataframe tbody tr th:only-of-type {\n",
       "        vertical-align: middle;\n",
       "    }\n",
       "\n",
       "    .dataframe tbody tr th {\n",
       "        vertical-align: top;\n",
       "    }\n",
       "\n",
       "    .dataframe thead th {\n",
       "        text-align: right;\n",
       "    }\n",
       "</style>\n",
       "<table border=\"1\" class=\"dataframe\">\n",
       "  <thead>\n",
       "    <tr style=\"text-align: right;\">\n",
       "      <th></th>\n",
       "      <th>Happiness Rank</th>\n",
       "      <th>Happiness Score</th>\n",
       "      <th>Standard Error</th>\n",
       "      <th>Economy (GDP per Capita)</th>\n",
       "      <th>Family</th>\n",
       "      <th>Health (Life Expectancy)</th>\n",
       "      <th>Freedom</th>\n",
       "      <th>Trust (Government Corruption)</th>\n",
       "      <th>Generosity</th>\n",
       "      <th>Dystopia Residual</th>\n",
       "    </tr>\n",
       "  </thead>\n",
       "  <tbody>\n",
       "    <tr>\n",
       "      <th>count</th>\n",
       "      <td>158.000000</td>\n",
       "      <td>158.000000</td>\n",
       "      <td>158.000000</td>\n",
       "      <td>158.000000</td>\n",
       "      <td>158.000000</td>\n",
       "      <td>158.000000</td>\n",
       "      <td>158.000000</td>\n",
       "      <td>158.000000</td>\n",
       "      <td>158.000000</td>\n",
       "      <td>158.000000</td>\n",
       "    </tr>\n",
       "    <tr>\n",
       "      <th>mean</th>\n",
       "      <td>79.493671</td>\n",
       "      <td>5.375734</td>\n",
       "      <td>0.047885</td>\n",
       "      <td>0.846137</td>\n",
       "      <td>0.991046</td>\n",
       "      <td>0.630259</td>\n",
       "      <td>0.428615</td>\n",
       "      <td>0.143422</td>\n",
       "      <td>0.237296</td>\n",
       "      <td>2.098977</td>\n",
       "    </tr>\n",
       "    <tr>\n",
       "      <th>std</th>\n",
       "      <td>45.754363</td>\n",
       "      <td>1.145010</td>\n",
       "      <td>0.017146</td>\n",
       "      <td>0.403121</td>\n",
       "      <td>0.272369</td>\n",
       "      <td>0.247078</td>\n",
       "      <td>0.150693</td>\n",
       "      <td>0.120034</td>\n",
       "      <td>0.126685</td>\n",
       "      <td>0.553550</td>\n",
       "    </tr>\n",
       "    <tr>\n",
       "      <th>min</th>\n",
       "      <td>1.000000</td>\n",
       "      <td>2.839000</td>\n",
       "      <td>0.018480</td>\n",
       "      <td>0.000000</td>\n",
       "      <td>0.000000</td>\n",
       "      <td>0.000000</td>\n",
       "      <td>0.000000</td>\n",
       "      <td>0.000000</td>\n",
       "      <td>0.000000</td>\n",
       "      <td>0.328580</td>\n",
       "    </tr>\n",
       "    <tr>\n",
       "      <th>25%</th>\n",
       "      <td>40.250000</td>\n",
       "      <td>4.526000</td>\n",
       "      <td>0.037268</td>\n",
       "      <td>0.545808</td>\n",
       "      <td>0.856823</td>\n",
       "      <td>0.439185</td>\n",
       "      <td>0.328330</td>\n",
       "      <td>0.061675</td>\n",
       "      <td>0.150553</td>\n",
       "      <td>1.759410</td>\n",
       "    </tr>\n",
       "    <tr>\n",
       "      <th>50%</th>\n",
       "      <td>79.500000</td>\n",
       "      <td>5.232500</td>\n",
       "      <td>0.043940</td>\n",
       "      <td>0.910245</td>\n",
       "      <td>1.029510</td>\n",
       "      <td>0.696705</td>\n",
       "      <td>0.435515</td>\n",
       "      <td>0.107220</td>\n",
       "      <td>0.216130</td>\n",
       "      <td>2.095415</td>\n",
       "    </tr>\n",
       "    <tr>\n",
       "      <th>75%</th>\n",
       "      <td>118.750000</td>\n",
       "      <td>6.243750</td>\n",
       "      <td>0.052300</td>\n",
       "      <td>1.158448</td>\n",
       "      <td>1.214405</td>\n",
       "      <td>0.811013</td>\n",
       "      <td>0.549092</td>\n",
       "      <td>0.180255</td>\n",
       "      <td>0.309883</td>\n",
       "      <td>2.462415</td>\n",
       "    </tr>\n",
       "    <tr>\n",
       "      <th>max</th>\n",
       "      <td>158.000000</td>\n",
       "      <td>7.587000</td>\n",
       "      <td>0.136930</td>\n",
       "      <td>1.690420</td>\n",
       "      <td>1.402230</td>\n",
       "      <td>1.025250</td>\n",
       "      <td>0.669730</td>\n",
       "      <td>0.551910</td>\n",
       "      <td>0.795880</td>\n",
       "      <td>3.602140</td>\n",
       "    </tr>\n",
       "  </tbody>\n",
       "</table>\n",
       "</div>"
      ],
      "text/plain": [
       "       Happiness Rank  Happiness Score  Standard Error  \\\n",
       "count      158.000000       158.000000      158.000000   \n",
       "mean        79.493671         5.375734        0.047885   \n",
       "std         45.754363         1.145010        0.017146   \n",
       "min          1.000000         2.839000        0.018480   \n",
       "25%         40.250000         4.526000        0.037268   \n",
       "50%         79.500000         5.232500        0.043940   \n",
       "75%        118.750000         6.243750        0.052300   \n",
       "max        158.000000         7.587000        0.136930   \n",
       "\n",
       "       Economy (GDP per Capita)      Family  Health (Life Expectancy)  \\\n",
       "count                158.000000  158.000000                158.000000   \n",
       "mean                   0.846137    0.991046                  0.630259   \n",
       "std                    0.403121    0.272369                  0.247078   \n",
       "min                    0.000000    0.000000                  0.000000   \n",
       "25%                    0.545808    0.856823                  0.439185   \n",
       "50%                    0.910245    1.029510                  0.696705   \n",
       "75%                    1.158448    1.214405                  0.811013   \n",
       "max                    1.690420    1.402230                  1.025250   \n",
       "\n",
       "          Freedom  Trust (Government Corruption)  Generosity  \\\n",
       "count  158.000000                     158.000000  158.000000   \n",
       "mean     0.428615                       0.143422    0.237296   \n",
       "std      0.150693                       0.120034    0.126685   \n",
       "min      0.000000                       0.000000    0.000000   \n",
       "25%      0.328330                       0.061675    0.150553   \n",
       "50%      0.435515                       0.107220    0.216130   \n",
       "75%      0.549092                       0.180255    0.309883   \n",
       "max      0.669730                       0.551910    0.795880   \n",
       "\n",
       "       Dystopia Residual  \n",
       "count         158.000000  \n",
       "mean            2.098977  \n",
       "std             0.553550  \n",
       "min             0.328580  \n",
       "25%             1.759410  \n",
       "50%             2.095415  \n",
       "75%             2.462415  \n",
       "max             3.602140  "
      ]
     },
     "execution_count": 434,
     "metadata": {},
     "output_type": "execute_result"
    }
   ],
   "source": [
    "df.describe()\n"
   ]
  },
  {
   "cell_type": "code",
   "execution_count": 435,
   "id": "3da16a73",
   "metadata": {},
   "outputs": [
    {
     "data": {
      "text/html": [
       "<div>\n",
       "<style scoped>\n",
       "    .dataframe tbody tr th:only-of-type {\n",
       "        vertical-align: middle;\n",
       "    }\n",
       "\n",
       "    .dataframe tbody tr th {\n",
       "        vertical-align: top;\n",
       "    }\n",
       "\n",
       "    .dataframe thead th {\n",
       "        text-align: right;\n",
       "    }\n",
       "</style>\n",
       "<table border=\"1\" class=\"dataframe\">\n",
       "  <thead>\n",
       "    <tr style=\"text-align: right;\">\n",
       "      <th></th>\n",
       "      <th>Country</th>\n",
       "      <th>Region</th>\n",
       "    </tr>\n",
       "  </thead>\n",
       "  <tbody>\n",
       "    <tr>\n",
       "      <th>count</th>\n",
       "      <td>158</td>\n",
       "      <td>158</td>\n",
       "    </tr>\n",
       "    <tr>\n",
       "      <th>unique</th>\n",
       "      <td>158</td>\n",
       "      <td>10</td>\n",
       "    </tr>\n",
       "    <tr>\n",
       "      <th>top</th>\n",
       "      <td>Switzerland</td>\n",
       "      <td>Sub-Saharan Africa</td>\n",
       "    </tr>\n",
       "    <tr>\n",
       "      <th>freq</th>\n",
       "      <td>1</td>\n",
       "      <td>40</td>\n",
       "    </tr>\n",
       "  </tbody>\n",
       "</table>\n",
       "</div>"
      ],
      "text/plain": [
       "            Country              Region\n",
       "count           158                 158\n",
       "unique          158                  10\n",
       "top     Switzerland  Sub-Saharan Africa\n",
       "freq              1                  40"
      ]
     },
     "execution_count": 435,
     "metadata": {},
     "output_type": "execute_result"
    }
   ],
   "source": [
    "df.describe(include = ['O'])"
   ]
  },
  {
   "cell_type": "markdown",
   "id": "c35c32e2",
   "metadata": {},
   "source": [
    "* Quantile range ,mean and std looks normal. we will confirm that the data is normally distributed or not and outliers in visualization part"
   ]
  },
  {
   "cell_type": "markdown",
   "id": "d54be7ae",
   "metadata": {},
   "source": [
    "### Let's check skweness and correlation numerically"
   ]
  },
  {
   "cell_type": "markdown",
   "id": "9a466198",
   "metadata": {},
   "source": [
    "##### lest's convert string to float"
   ]
  },
  {
   "cell_type": "code",
   "execution_count": 436,
   "id": "f501a980",
   "metadata": {},
   "outputs": [],
   "source": [
    "# importing OrdinalEncoder\n",
    "from sklearn.preprocessing import OrdinalEncoder\n",
    "enc=OrdinalEncoder()"
   ]
  },
  {
   "cell_type": "code",
   "execution_count": 437,
   "id": "ee6b30f2",
   "metadata": {},
   "outputs": [
    {
     "data": {
      "text/html": [
       "<div>\n",
       "<style scoped>\n",
       "    .dataframe tbody tr th:only-of-type {\n",
       "        vertical-align: middle;\n",
       "    }\n",
       "\n",
       "    .dataframe tbody tr th {\n",
       "        vertical-align: top;\n",
       "    }\n",
       "\n",
       "    .dataframe thead th {\n",
       "        text-align: right;\n",
       "    }\n",
       "</style>\n",
       "<table border=\"1\" class=\"dataframe\">\n",
       "  <thead>\n",
       "    <tr style=\"text-align: right;\">\n",
       "      <th></th>\n",
       "      <th>Country</th>\n",
       "      <th>Region</th>\n",
       "      <th>Happiness Rank</th>\n",
       "      <th>Happiness Score</th>\n",
       "      <th>Standard Error</th>\n",
       "      <th>Economy (GDP per Capita)</th>\n",
       "      <th>Family</th>\n",
       "      <th>Health (Life Expectancy)</th>\n",
       "      <th>Freedom</th>\n",
       "      <th>Trust (Government Corruption)</th>\n",
       "      <th>Generosity</th>\n",
       "      <th>Dystopia Residual</th>\n",
       "    </tr>\n",
       "  </thead>\n",
       "  <tbody>\n",
       "    <tr>\n",
       "      <th>0</th>\n",
       "      <td>135.0</td>\n",
       "      <td>9.0</td>\n",
       "      <td>1</td>\n",
       "      <td>7.587</td>\n",
       "      <td>0.03411</td>\n",
       "      <td>1.39651</td>\n",
       "      <td>1.34951</td>\n",
       "      <td>0.94143</td>\n",
       "      <td>0.66557</td>\n",
       "      <td>0.41978</td>\n",
       "      <td>0.29678</td>\n",
       "      <td>2.51738</td>\n",
       "    </tr>\n",
       "    <tr>\n",
       "      <th>1</th>\n",
       "      <td>58.0</td>\n",
       "      <td>9.0</td>\n",
       "      <td>2</td>\n",
       "      <td>7.561</td>\n",
       "      <td>0.04884</td>\n",
       "      <td>1.30232</td>\n",
       "      <td>1.40223</td>\n",
       "      <td>0.94784</td>\n",
       "      <td>0.62877</td>\n",
       "      <td>0.14145</td>\n",
       "      <td>0.43630</td>\n",
       "      <td>2.70201</td>\n",
       "    </tr>\n",
       "    <tr>\n",
       "      <th>2</th>\n",
       "      <td>37.0</td>\n",
       "      <td>9.0</td>\n",
       "      <td>3</td>\n",
       "      <td>7.527</td>\n",
       "      <td>0.03328</td>\n",
       "      <td>1.32548</td>\n",
       "      <td>1.36058</td>\n",
       "      <td>0.87464</td>\n",
       "      <td>0.64938</td>\n",
       "      <td>0.48357</td>\n",
       "      <td>0.34139</td>\n",
       "      <td>2.49204</td>\n",
       "    </tr>\n",
       "    <tr>\n",
       "      <th>3</th>\n",
       "      <td>105.0</td>\n",
       "      <td>9.0</td>\n",
       "      <td>4</td>\n",
       "      <td>7.522</td>\n",
       "      <td>0.03880</td>\n",
       "      <td>1.45900</td>\n",
       "      <td>1.33095</td>\n",
       "      <td>0.88521</td>\n",
       "      <td>0.66973</td>\n",
       "      <td>0.36503</td>\n",
       "      <td>0.34699</td>\n",
       "      <td>2.46531</td>\n",
       "    </tr>\n",
       "    <tr>\n",
       "      <th>4</th>\n",
       "      <td>24.0</td>\n",
       "      <td>5.0</td>\n",
       "      <td>5</td>\n",
       "      <td>7.427</td>\n",
       "      <td>0.03553</td>\n",
       "      <td>1.32629</td>\n",
       "      <td>1.32261</td>\n",
       "      <td>0.90563</td>\n",
       "      <td>0.63297</td>\n",
       "      <td>0.32957</td>\n",
       "      <td>0.45811</td>\n",
       "      <td>2.45176</td>\n",
       "    </tr>\n",
       "    <tr>\n",
       "      <th>...</th>\n",
       "      <td>...</td>\n",
       "      <td>...</td>\n",
       "      <td>...</td>\n",
       "      <td>...</td>\n",
       "      <td>...</td>\n",
       "      <td>...</td>\n",
       "      <td>...</td>\n",
       "      <td>...</td>\n",
       "      <td>...</td>\n",
       "      <td>...</td>\n",
       "      <td>...</td>\n",
       "      <td>...</td>\n",
       "    </tr>\n",
       "    <tr>\n",
       "      <th>153</th>\n",
       "      <td>118.0</td>\n",
       "      <td>8.0</td>\n",
       "      <td>154</td>\n",
       "      <td>3.465</td>\n",
       "      <td>0.03464</td>\n",
       "      <td>0.22208</td>\n",
       "      <td>0.77370</td>\n",
       "      <td>0.42864</td>\n",
       "      <td>0.59201</td>\n",
       "      <td>0.55191</td>\n",
       "      <td>0.22628</td>\n",
       "      <td>0.67042</td>\n",
       "    </tr>\n",
       "    <tr>\n",
       "      <th>154</th>\n",
       "      <td>13.0</td>\n",
       "      <td>8.0</td>\n",
       "      <td>155</td>\n",
       "      <td>3.340</td>\n",
       "      <td>0.03656</td>\n",
       "      <td>0.28665</td>\n",
       "      <td>0.35386</td>\n",
       "      <td>0.31910</td>\n",
       "      <td>0.48450</td>\n",
       "      <td>0.08010</td>\n",
       "      <td>0.18260</td>\n",
       "      <td>1.63328</td>\n",
       "    </tr>\n",
       "    <tr>\n",
       "      <th>155</th>\n",
       "      <td>136.0</td>\n",
       "      <td>4.0</td>\n",
       "      <td>156</td>\n",
       "      <td>3.006</td>\n",
       "      <td>0.05015</td>\n",
       "      <td>0.66320</td>\n",
       "      <td>0.47489</td>\n",
       "      <td>0.72193</td>\n",
       "      <td>0.15684</td>\n",
       "      <td>0.18906</td>\n",
       "      <td>0.47179</td>\n",
       "      <td>0.32858</td>\n",
       "    </tr>\n",
       "    <tr>\n",
       "      <th>156</th>\n",
       "      <td>21.0</td>\n",
       "      <td>8.0</td>\n",
       "      <td>157</td>\n",
       "      <td>2.905</td>\n",
       "      <td>0.08658</td>\n",
       "      <td>0.01530</td>\n",
       "      <td>0.41587</td>\n",
       "      <td>0.22396</td>\n",
       "      <td>0.11850</td>\n",
       "      <td>0.10062</td>\n",
       "      <td>0.19727</td>\n",
       "      <td>1.83302</td>\n",
       "    </tr>\n",
       "    <tr>\n",
       "      <th>157</th>\n",
       "      <td>141.0</td>\n",
       "      <td>8.0</td>\n",
       "      <td>158</td>\n",
       "      <td>2.839</td>\n",
       "      <td>0.06727</td>\n",
       "      <td>0.20868</td>\n",
       "      <td>0.13995</td>\n",
       "      <td>0.28443</td>\n",
       "      <td>0.36453</td>\n",
       "      <td>0.10731</td>\n",
       "      <td>0.16681</td>\n",
       "      <td>1.56726</td>\n",
       "    </tr>\n",
       "  </tbody>\n",
       "</table>\n",
       "<p>158 rows × 12 columns</p>\n",
       "</div>"
      ],
      "text/plain": [
       "     Country  Region  Happiness Rank  Happiness Score  Standard Error  \\\n",
       "0      135.0     9.0               1            7.587         0.03411   \n",
       "1       58.0     9.0               2            7.561         0.04884   \n",
       "2       37.0     9.0               3            7.527         0.03328   \n",
       "3      105.0     9.0               4            7.522         0.03880   \n",
       "4       24.0     5.0               5            7.427         0.03553   \n",
       "..       ...     ...             ...              ...             ...   \n",
       "153    118.0     8.0             154            3.465         0.03464   \n",
       "154     13.0     8.0             155            3.340         0.03656   \n",
       "155    136.0     4.0             156            3.006         0.05015   \n",
       "156     21.0     8.0             157            2.905         0.08658   \n",
       "157    141.0     8.0             158            2.839         0.06727   \n",
       "\n",
       "     Economy (GDP per Capita)   Family  Health (Life Expectancy)  Freedom  \\\n",
       "0                     1.39651  1.34951                   0.94143  0.66557   \n",
       "1                     1.30232  1.40223                   0.94784  0.62877   \n",
       "2                     1.32548  1.36058                   0.87464  0.64938   \n",
       "3                     1.45900  1.33095                   0.88521  0.66973   \n",
       "4                     1.32629  1.32261                   0.90563  0.63297   \n",
       "..                        ...      ...                       ...      ...   \n",
       "153                   0.22208  0.77370                   0.42864  0.59201   \n",
       "154                   0.28665  0.35386                   0.31910  0.48450   \n",
       "155                   0.66320  0.47489                   0.72193  0.15684   \n",
       "156                   0.01530  0.41587                   0.22396  0.11850   \n",
       "157                   0.20868  0.13995                   0.28443  0.36453   \n",
       "\n",
       "     Trust (Government Corruption)  Generosity  Dystopia Residual  \n",
       "0                          0.41978     0.29678            2.51738  \n",
       "1                          0.14145     0.43630            2.70201  \n",
       "2                          0.48357     0.34139            2.49204  \n",
       "3                          0.36503     0.34699            2.46531  \n",
       "4                          0.32957     0.45811            2.45176  \n",
       "..                             ...         ...                ...  \n",
       "153                        0.55191     0.22628            0.67042  \n",
       "154                        0.08010     0.18260            1.63328  \n",
       "155                        0.18906     0.47179            0.32858  \n",
       "156                        0.10062     0.19727            1.83302  \n",
       "157                        0.10731     0.16681            1.56726  \n",
       "\n",
       "[158 rows x 12 columns]"
      ]
     },
     "execution_count": 437,
     "metadata": {},
     "output_type": "execute_result"
    }
   ],
   "source": [
    "for i in df.columns:\n",
    "    if df[i].dtypes==\"object\":\n",
    "        df[i]=enc.fit_transform(df[i].values.reshape(-1,1))\n",
    "df     "
   ]
  },
  {
   "cell_type": "code",
   "execution_count": 438,
   "id": "ff5d166d",
   "metadata": {},
   "outputs": [],
   "source": [
    "import warnings\n",
    "warnings.filterwarnings('ignore')"
   ]
  },
  {
   "cell_type": "code",
   "execution_count": 439,
   "id": "1a65a98b",
   "metadata": {},
   "outputs": [
    {
     "data": {
      "text/plain": [
       "Country                          0.000000\n",
       "Region                          -0.116119\n",
       "Happiness Rank                   0.000418\n",
       "Happiness Score                  0.097769\n",
       "Standard Error                   1.983439\n",
       "Economy (GDP per Capita)        -0.317575\n",
       "Family                          -1.006893\n",
       "Health (Life Expectancy)        -0.705328\n",
       "Freedom                         -0.413462\n",
       "Trust (Government Corruption)    1.385463\n",
       "Generosity                       1.001961\n",
       "Dystopia Residual               -0.238911\n",
       "dtype: float64"
      ]
     },
     "execution_count": 439,
     "metadata": {},
     "output_type": "execute_result"
    }
   ],
   "source": [
    "# skewness\n",
    "df.skew() "
   ]
  },
  {
   "cell_type": "markdown",
   "id": "b5a38eac",
   "metadata": {},
   "source": [
    "* If the skewness is between -0.5 and 0.5, the data are fairly symmetrical. here we can observe that data is highly skeween in [standard error,family,health,trust,generosity] . we will work on it later"
   ]
  },
  {
   "cell_type": "code",
   "execution_count": 440,
   "id": "6856aabb",
   "metadata": {},
   "outputs": [],
   "source": [
    "# correlation"
   ]
  },
  {
   "cell_type": "code",
   "execution_count": 441,
   "id": "a799972a",
   "metadata": {},
   "outputs": [
    {
     "data": {
      "text/plain": [
       "Happiness Rank                  -0.992105\n",
       "Standard Error                  -0.177254\n",
       "Region                          -0.176791\n",
       "Country                          0.083380\n",
       "Generosity                       0.180319\n",
       "Trust (Government Corruption)    0.395199\n",
       "Dystopia Residual                0.530474\n",
       "Freedom                          0.568211\n",
       "Health (Life Expectancy)         0.724200\n",
       "Family                           0.740605\n",
       "Economy (GDP per Capita)         0.780966\n",
       "Happiness Score                  1.000000\n",
       "Name: Happiness Score, dtype: float64"
      ]
     },
     "execution_count": 441,
     "metadata": {},
     "output_type": "execute_result"
    }
   ],
   "source": [
    "df.corr()['Happiness Score'].sort_values()"
   ]
  },
  {
   "cell_type": "markdown",
   "id": "38726564",
   "metadata": {},
   "source": [
    "* here we can see that 'Happiness Rank' and 'Standard Error' are negatively correlation to happiness score and other columns are positively correlated "
   ]
  },
  {
   "cell_type": "markdown",
   "id": "fdac7592",
   "metadata": {},
   "source": [
    "### Let's check skweness, correlation and outliers graphically"
   ]
  },
  {
   "cell_type": "code",
   "execution_count": 442,
   "id": "4f151c8e",
   "metadata": {},
   "outputs": [],
   "source": [
    "import seaborn as sns\n",
    "import matplotlib.pyplot as plt"
   ]
  },
  {
   "cell_type": "code",
   "execution_count": 443,
   "id": "98199cd6",
   "metadata": {},
   "outputs": [
    {
     "data": {
      "image/png": "[encoded data removed]",
      "text/plain": [
       "<Figure size 1584x504 with 1 Axes>"
      ]
     },
     "metadata": {
      "needs_background": "light"
     },
     "output_type": "display_data"
    }
   ],
   "source": [
    "# checking correlation\n",
    "plt.figure(figsize=(22,7))\n",
    "df.corr()['Happiness Score'].sort_values(ascending=False).drop(['Happiness Score']).plot(kind='bar',color='c')\n",
    "plt.xlabel('Feature',fontsize=14)\n",
    "plt.ylabel('column with the target name',fontsize=14)\n",
    "plt.title('correlation',fontsize=18)\n",
    "plt.show()\n"
   ]
  },
  {
   "cell_type": "markdown",
   "id": "a228e52b",
   "metadata": {},
   "source": [
    "* Here we can see that 'Happiness Rank' and 'Standard Error' are negatively correlation to happiness score and other columns are positively correlated"
   ]
  },
  {
   "cell_type": "code",
   "execution_count": 444,
   "id": "4a59c3fe",
   "metadata": {},
   "outputs": [
    {
     "data": {
      "text/plain": [
       "<AxesSubplot:>"
      ]
     },
     "execution_count": 444,
     "metadata": {},
     "output_type": "execute_result"
    },
    {
     "data": {
      "image/png": "[encoded data removed]",
      "text/plain": [
       "<Figure size 1584x504 with 2 Axes>"
      ]
     },
     "metadata": {
      "needs_background": "light"
     },
     "output_type": "display_data"
    }
   ],
   "source": [
    "plt.figure(figsize=(22,7))\n",
    "sns.heatmap(df.corr(),annot=True,linewidths=0.1,linecolor=\"black\",fmt=\"0.2f\")"
   ]
  },
  {
   "cell_type": "markdown",
   "id": "e7e05f01",
   "metadata": {},
   "source": [
    "* here we can see 'happiness rank' is correlated to to correlated to many columns so it is a problem of multiple correlation we will work on it later"
   ]
  },
  {
   "cell_type": "code",
   "execution_count": 445,
   "id": "57c07bfc",
   "metadata": {},
   "outputs": [
    {
     "name": "stdout",
     "output_type": "stream",
     "text": [
      "135.0    1\n",
      "10.0     1\n",
      "51.0     1\n",
      "77.0     1\n",
      "57.0     1\n",
      "        ..\n",
      "70.0     1\n",
      "125.0    1\n",
      "81.0     1\n",
      "101.0    1\n",
      "141.0    1\n",
      "Name: Country, Length: 158, dtype: int64\n"
     ]
    },
    {
     "data": {
      "image/png": "[encoded data removed]",
      "text/plain": [
       "<Figure size 432x288 with 1 Axes>"
      ]
     },
     "metadata": {
      "needs_background": "light"
     },
     "output_type": "display_data"
    }
   ],
   "source": [
    "ax = plt.scatter(x=\"Country\",y='Happiness Score',data=df)\n",
    "print(df[\"Country\"].value_counts())"
   ]
  },
  {
   "cell_type": "code",
   "execution_count": 446,
   "id": "4a092d99",
   "metadata": {},
   "outputs": [
    {
     "name": "stdout",
     "output_type": "stream",
     "text": [
      "8.0    40\n",
      "1.0    29\n",
      "3.0    22\n",
      "9.0    21\n",
      "4.0    20\n",
      "6.0     9\n",
      "7.0     7\n",
      "2.0     6\n",
      "5.0     2\n",
      "0.0     2\n",
      "Name: Region, dtype: int64\n"
     ]
    },
    {
     "data": {
      "image/png": "[encoded data removed]",
      "text/plain": [
       "<Figure size 432x288 with 1 Axes>"
      ]
     },
     "metadata": {
      "needs_background": "light"
     },
     "output_type": "display_data"
    }
   ],
   "source": [
    "ax = plt.scatter(x=\"Region\",y='Happiness Score',data=df)\n",
    "print(df[\"Region\"].value_counts())"
   ]
  },
  {
   "cell_type": "markdown",
   "id": "320d68c4",
   "metadata": {},
   "source": [
    "* here we observe 'region' is following any pattern and 'county' is following a pattern it means it is related to 'happiness score'"
   ]
  },
  {
   "cell_type": "code",
   "execution_count": 447,
   "id": "f94cf73d",
   "metadata": {},
   "outputs": [
    {
     "data": {
      "text/plain": [
       "<AxesSubplot:xlabel='Country', ylabel='Density'>"
      ]
     },
     "execution_count": 447,
     "metadata": {},
     "output_type": "execute_result"
    },
    {
     "data": {
      "image/png": "[encoded data removed]",
      "text/plain": [
       "<Figure size 432x288 with 1 Axes>"
      ]
     },
     "metadata": {
      "needs_background": "light"
     },
     "output_type": "display_data"
    }
   ],
   "source": [
    "# let's check skewness\n",
    "sns.distplot(df['Country'], bins=20)"
   ]
  },
  {
   "cell_type": "code",
   "execution_count": 448,
   "id": "9e14d955",
   "metadata": {},
   "outputs": [
    {
     "data": {
      "text/plain": [
       "<AxesSubplot:xlabel='Region', ylabel='Density'>"
      ]
     },
     "execution_count": 448,
     "metadata": {},
     "output_type": "execute_result"
    },
    {
     "data": {
      "image/png": "[encoded data removed]",
      "text/plain": [
       "<Figure size 432x288 with 1 Axes>"
      ]
     },
     "metadata": {
      "needs_background": "light"
     },
     "output_type": "display_data"
    }
   ],
   "source": [
    "sns.distplot(df['Region'], bins=20)"
   ]
  },
  {
   "cell_type": "code",
   "execution_count": 449,
   "id": "b9c8d3d1",
   "metadata": {},
   "outputs": [
    {
     "data": {
      "text/plain": [
       "<AxesSubplot:xlabel='Happiness Rank', ylabel='Density'>"
      ]
     },
     "execution_count": 449,
     "metadata": {},
     "output_type": "execute_result"
    },
    {
     "data": {
      "image/png": "[encoded data removed]",
      "text/plain": [
       "<Figure size 432x288 with 1 Axes>"
      ]
     },
     "metadata": {
      "needs_background": "light"
     },
     "output_type": "display_data"
    }
   ],
   "source": [
    "sns.distplot(df['Happiness Rank'],bins=20)"
   ]
  },
  {
   "cell_type": "code",
   "execution_count": 450,
   "id": "0131c890",
   "metadata": {},
   "outputs": [
    {
     "data": {
      "text/plain": [
       "<AxesSubplot:xlabel='Happiness Score', ylabel='Density'>"
      ]
     },
     "execution_count": 450,
     "metadata": {},
     "output_type": "execute_result"
    },
    {
     "data": {
      "image/png": "[encoded data removed]",
      "text/plain": [
       "<Figure size 432x288 with 1 Axes>"
      ]
     },
     "metadata": {
      "needs_background": "light"
     },
     "output_type": "display_data"
    }
   ],
   "source": [
    "sns.distplot(df['Happiness Score'],bins=20)"
   ]
  },
  {
   "cell_type": "code",
   "execution_count": 451,
   "id": "1cdf9426",
   "metadata": {},
   "outputs": [
    {
     "data": {
      "text/plain": [
       "<AxesSubplot:xlabel='Standard Error', ylabel='Density'>"
      ]
     },
     "execution_count": 451,
     "metadata": {},
     "output_type": "execute_result"
    },
    {
     "data": {
      "image/png": "[encoded data removed]",
      "text/plain": [
       "<Figure size 432x288 with 1 Axes>"
      ]
     },
     "metadata": {
      "needs_background": "light"
     },
     "output_type": "display_data"
    }
   ],
   "source": [
    "sns.distplot(df['Standard Error'],bins=20)"
   ]
  },
  {
   "cell_type": "code",
   "execution_count": 452,
   "id": "84e8e462",
   "metadata": {},
   "outputs": [
    {
     "data": {
      "text/plain": [
       "<AxesSubplot:xlabel='Economy (GDP per Capita)', ylabel='Density'>"
      ]
     },
     "execution_count": 452,
     "metadata": {},
     "output_type": "execute_result"
    },
    {
     "data": {
      "image/png": "[encoded data removed]",
      "text/plain": [
       "<Figure size 432x288 with 1 Axes>"
      ]
     },
     "metadata": {
      "needs_background": "light"
     },
     "output_type": "display_data"
    }
   ],
   "source": [
    "sns.distplot(df['Economy (GDP per Capita)'],bins=20)"
   ]
  },
  {
   "cell_type": "code",
   "execution_count": 453,
   "id": "82f397f7",
   "metadata": {},
   "outputs": [
    {
     "data": {
      "text/plain": [
       "<AxesSubplot:xlabel='Family', ylabel='Density'>"
      ]
     },
     "execution_count": 453,
     "metadata": {},
     "output_type": "execute_result"
    },
    {
     "data": {
      "image/png": "[encoded data removed]",
      "text/plain": [
       "<Figure size 432x288 with 1 Axes>"
      ]
     },
     "metadata": {
      "needs_background": "light"
     },
     "output_type": "display_data"
    }
   ],
   "source": [
    "sns.distplot(df['Family'],bins=20)"
   ]
  },
  {
   "cell_type": "code",
   "execution_count": 454,
   "id": "9aaf3b60",
   "metadata": {},
   "outputs": [
    {
     "data": {
      "text/plain": [
       "<AxesSubplot:xlabel='Health (Life Expectancy)', ylabel='Density'>"
      ]
     },
     "execution_count": 454,
     "metadata": {},
     "output_type": "execute_result"
    },
    {
     "data": {
      "image/png": "[encoded data removed]",
      "text/plain": [
       "<Figure size 432x288 with 1 Axes>"
      ]
     },
     "metadata": {
      "needs_background": "light"
     },
     "output_type": "display_data"
    }
   ],
   "source": [
    "sns.distplot(df['Health (Life Expectancy)'],bins=20)"
   ]
  },
  {
   "cell_type": "code",
   "execution_count": 455,
   "id": "5dd22aa7",
   "metadata": {},
   "outputs": [
    {
     "data": {
      "text/plain": [
       "<AxesSubplot:xlabel='Freedom', ylabel='Density'>"
      ]
     },
     "execution_count": 455,
     "metadata": {},
     "output_type": "execute_result"
    },
    {
     "data": {
      "image/png": "[encoded data removed]",
      "text/plain": [
       "<Figure size 432x288 with 1 Axes>"
      ]
     },
     "metadata": {
      "needs_background": "light"
     },
     "output_type": "display_data"
    }
   ],
   "source": [
    "sns.distplot(df['Freedom'],bins=20)"
   ]
  },
  {
   "cell_type": "code",
   "execution_count": 456,
   "id": "22d19a94",
   "metadata": {},
   "outputs": [
    {
     "data": {
      "text/plain": [
       "<AxesSubplot:xlabel='Trust (Government Corruption)', ylabel='Density'>"
      ]
     },
     "execution_count": 456,
     "metadata": {},
     "output_type": "execute_result"
    },
    {
     "data": {
      "image/png": "[encoded data removed]",
      "text/plain": [
       "<Figure size 432x288 with 1 Axes>"
      ]
     },
     "metadata": {
      "needs_background": "light"
     },
     "output_type": "display_data"
    }
   ],
   "source": [
    "sns.distplot(df['Trust (Government Corruption)'],bins=20) "
   ]
  },
  {
   "cell_type": "code",
   "execution_count": 457,
   "id": "458ac44f",
   "metadata": {},
   "outputs": [
    {
     "data": {
      "text/plain": [
       "<AxesSubplot:xlabel='Generosity', ylabel='Density'>"
      ]
     },
     "execution_count": 457,
     "metadata": {},
     "output_type": "execute_result"
    },
    {
     "data": {
      "image/png": "[encoded data removed]",
      "text/plain": [
       "<Figure size 432x288 with 1 Axes>"
      ]
     },
     "metadata": {
      "needs_background": "light"
     },
     "output_type": "display_data"
    }
   ],
   "source": [
    "sns.distplot(df['Generosity'],bins=20) "
   ]
  },
  {
   "cell_type": "code",
   "execution_count": 458,
   "id": "9a419da3",
   "metadata": {},
   "outputs": [
    {
     "data": {
      "text/plain": [
       "<AxesSubplot:xlabel='Dystopia Residual', ylabel='Density'>"
      ]
     },
     "execution_count": 458,
     "metadata": {},
     "output_type": "execute_result"
    },
    {
     "data": {
      "image/png": "[encoded data removed]",
      "text/plain": [
       "<Figure size 432x288 with 1 Axes>"
      ]
     },
     "metadata": {
      "needs_background": "light"
     },
     "output_type": "display_data"
    }
   ],
   "source": [
    "sns.distplot(df['Dystopia Residual'],bins=20) "
   ]
  },
  {
   "cell_type": "markdown",
   "id": "2d709429",
   "metadata": {},
   "source": [
    "* here we can see data in not normally distributed in every column except 'dystopia','Happiness Rank' and 'Country'. we will work on it later"
   ]
  },
  {
   "cell_type": "code",
   "execution_count": 459,
   "id": "06e16ba5",
   "metadata": {},
   "outputs": [],
   "source": [
    "# checking outliers"
   ]
  },
  {
   "cell_type": "code",
   "execution_count": 460,
   "id": "38d8aee0",
   "metadata": {},
   "outputs": [],
   "source": [
    "collist = df.columns.values\n",
    "ncols = 30\n",
    "nrows = 14"
   ]
  },
  {
   "cell_type": "code",
   "execution_count": 461,
   "id": "fe74cc12",
   "metadata": {},
   "outputs": [
    {
     "data": {
      "image/png": "[encoded data removed]",
      "text/plain": [
       "<Figure size 2160x6480 with 12 Axes>"
      ]
     },
     "metadata": {
      "needs_background": "light"
     },
     "output_type": "display_data"
    }
   ],
   "source": [
    "plt.figure(figsize=(ncols,3*ncols))\n",
    "for i in range(0,len(collist)):\n",
    "    plt.subplot(nrows,ncols,i+1)\n",
    "    sns.boxplot(data = df[collist[i]],color=\"green\",orient=\"v\")\n",
    "    plt.tight_layout()"
   ]
  },
  {
   "cell_type": "code",
   "execution_count": 462,
   "id": "43e148b8",
   "metadata": {},
   "outputs": [
    {
     "data": {
      "text/plain": [
       "array(['Country', 'Region', 'Happiness Rank', 'Happiness Score',\n",
       "       'Standard Error', 'Economy (GDP per Capita)', 'Family',\n",
       "       'Health (Life Expectancy)', 'Freedom',\n",
       "       'Trust (Government Corruption)', 'Generosity', 'Dystopia Residual'],\n",
       "      dtype=object)"
      ]
     },
     "execution_count": 462,
     "metadata": {},
     "output_type": "execute_result"
    }
   ],
   "source": [
    "collist"
   ]
  },
  {
   "cell_type": "markdown",
   "id": "2bd0dd1d",
   "metadata": {},
   "source": [
    "* we can see easily that outliers are present in columns'Standard Error','Family''Trust (Government Corruption)', 'Generosity', 'Dystopia Residual'. so, we will remove them"
   ]
  },
  {
   "cell_type": "markdown",
   "id": "54d3bd6d",
   "metadata": {},
   "source": [
    "### Let's work on data cleaning"
   ]
  },
  {
   "cell_type": "code",
   "execution_count": 463,
   "id": "73641f50",
   "metadata": {},
   "outputs": [
    {
     "data": {
      "text/html": [
       "<div>\n",
       "<style scoped>\n",
       "    .dataframe tbody tr th:only-of-type {\n",
       "        vertical-align: middle;\n",
       "    }\n",
       "\n",
       "    .dataframe tbody tr th {\n",
       "        vertical-align: top;\n",
       "    }\n",
       "\n",
       "    .dataframe thead th {\n",
       "        text-align: right;\n",
       "    }\n",
       "</style>\n",
       "<table border=\"1\" class=\"dataframe\">\n",
       "  <thead>\n",
       "    <tr style=\"text-align: right;\">\n",
       "      <th></th>\n",
       "      <th>Country</th>\n",
       "      <th>Region</th>\n",
       "      <th>Happiness Rank</th>\n",
       "      <th>Happiness Score</th>\n",
       "      <th>Standard Error</th>\n",
       "      <th>Economy (GDP per Capita)</th>\n",
       "      <th>Family</th>\n",
       "      <th>Health (Life Expectancy)</th>\n",
       "      <th>Freedom</th>\n",
       "      <th>Trust (Government Corruption)</th>\n",
       "      <th>Generosity</th>\n",
       "      <th>Dystopia Residual</th>\n",
       "    </tr>\n",
       "  </thead>\n",
       "  <tbody>\n",
       "    <tr>\n",
       "      <th>0</th>\n",
       "      <td>135.0</td>\n",
       "      <td>9.0</td>\n",
       "      <td>1</td>\n",
       "      <td>7.587</td>\n",
       "      <td>0.03411</td>\n",
       "      <td>1.39651</td>\n",
       "      <td>1.34951</td>\n",
       "      <td>0.94143</td>\n",
       "      <td>0.66557</td>\n",
       "      <td>0.41978</td>\n",
       "      <td>0.29678</td>\n",
       "      <td>2.51738</td>\n",
       "    </tr>\n",
       "    <tr>\n",
       "      <th>1</th>\n",
       "      <td>58.0</td>\n",
       "      <td>9.0</td>\n",
       "      <td>2</td>\n",
       "      <td>7.561</td>\n",
       "      <td>0.04884</td>\n",
       "      <td>1.30232</td>\n",
       "      <td>1.40223</td>\n",
       "      <td>0.94784</td>\n",
       "      <td>0.62877</td>\n",
       "      <td>0.14145</td>\n",
       "      <td>0.43630</td>\n",
       "      <td>2.70201</td>\n",
       "    </tr>\n",
       "    <tr>\n",
       "      <th>2</th>\n",
       "      <td>37.0</td>\n",
       "      <td>9.0</td>\n",
       "      <td>3</td>\n",
       "      <td>7.527</td>\n",
       "      <td>0.03328</td>\n",
       "      <td>1.32548</td>\n",
       "      <td>1.36058</td>\n",
       "      <td>0.87464</td>\n",
       "      <td>0.64938</td>\n",
       "      <td>0.48357</td>\n",
       "      <td>0.34139</td>\n",
       "      <td>2.49204</td>\n",
       "    </tr>\n",
       "    <tr>\n",
       "      <th>3</th>\n",
       "      <td>105.0</td>\n",
       "      <td>9.0</td>\n",
       "      <td>4</td>\n",
       "      <td>7.522</td>\n",
       "      <td>0.03880</td>\n",
       "      <td>1.45900</td>\n",
       "      <td>1.33095</td>\n",
       "      <td>0.88521</td>\n",
       "      <td>0.66973</td>\n",
       "      <td>0.36503</td>\n",
       "      <td>0.34699</td>\n",
       "      <td>2.46531</td>\n",
       "    </tr>\n",
       "    <tr>\n",
       "      <th>4</th>\n",
       "      <td>24.0</td>\n",
       "      <td>5.0</td>\n",
       "      <td>5</td>\n",
       "      <td>7.427</td>\n",
       "      <td>0.03553</td>\n",
       "      <td>1.32629</td>\n",
       "      <td>1.32261</td>\n",
       "      <td>0.90563</td>\n",
       "      <td>0.63297</td>\n",
       "      <td>0.32957</td>\n",
       "      <td>0.45811</td>\n",
       "      <td>2.45176</td>\n",
       "    </tr>\n",
       "    <tr>\n",
       "      <th>...</th>\n",
       "      <td>...</td>\n",
       "      <td>...</td>\n",
       "      <td>...</td>\n",
       "      <td>...</td>\n",
       "      <td>...</td>\n",
       "      <td>...</td>\n",
       "      <td>...</td>\n",
       "      <td>...</td>\n",
       "      <td>...</td>\n",
       "      <td>...</td>\n",
       "      <td>...</td>\n",
       "      <td>...</td>\n",
       "    </tr>\n",
       "    <tr>\n",
       "      <th>153</th>\n",
       "      <td>118.0</td>\n",
       "      <td>8.0</td>\n",
       "      <td>154</td>\n",
       "      <td>3.465</td>\n",
       "      <td>0.03464</td>\n",
       "      <td>0.22208</td>\n",
       "      <td>0.77370</td>\n",
       "      <td>0.42864</td>\n",
       "      <td>0.59201</td>\n",
       "      <td>0.55191</td>\n",
       "      <td>0.22628</td>\n",
       "      <td>0.67042</td>\n",
       "    </tr>\n",
       "    <tr>\n",
       "      <th>154</th>\n",
       "      <td>13.0</td>\n",
       "      <td>8.0</td>\n",
       "      <td>155</td>\n",
       "      <td>3.340</td>\n",
       "      <td>0.03656</td>\n",
       "      <td>0.28665</td>\n",
       "      <td>0.35386</td>\n",
       "      <td>0.31910</td>\n",
       "      <td>0.48450</td>\n",
       "      <td>0.08010</td>\n",
       "      <td>0.18260</td>\n",
       "      <td>1.63328</td>\n",
       "    </tr>\n",
       "    <tr>\n",
       "      <th>155</th>\n",
       "      <td>136.0</td>\n",
       "      <td>4.0</td>\n",
       "      <td>156</td>\n",
       "      <td>3.006</td>\n",
       "      <td>0.05015</td>\n",
       "      <td>0.66320</td>\n",
       "      <td>0.47489</td>\n",
       "      <td>0.72193</td>\n",
       "      <td>0.15684</td>\n",
       "      <td>0.18906</td>\n",
       "      <td>0.47179</td>\n",
       "      <td>0.32858</td>\n",
       "    </tr>\n",
       "    <tr>\n",
       "      <th>156</th>\n",
       "      <td>21.0</td>\n",
       "      <td>8.0</td>\n",
       "      <td>157</td>\n",
       "      <td>2.905</td>\n",
       "      <td>0.08658</td>\n",
       "      <td>0.01530</td>\n",
       "      <td>0.41587</td>\n",
       "      <td>0.22396</td>\n",
       "      <td>0.11850</td>\n",
       "      <td>0.10062</td>\n",
       "      <td>0.19727</td>\n",
       "      <td>1.83302</td>\n",
       "    </tr>\n",
       "    <tr>\n",
       "      <th>157</th>\n",
       "      <td>141.0</td>\n",
       "      <td>8.0</td>\n",
       "      <td>158</td>\n",
       "      <td>2.839</td>\n",
       "      <td>0.06727</td>\n",
       "      <td>0.20868</td>\n",
       "      <td>0.13995</td>\n",
       "      <td>0.28443</td>\n",
       "      <td>0.36453</td>\n",
       "      <td>0.10731</td>\n",
       "      <td>0.16681</td>\n",
       "      <td>1.56726</td>\n",
       "    </tr>\n",
       "  </tbody>\n",
       "</table>\n",
       "<p>158 rows × 12 columns</p>\n",
       "</div>"
      ],
      "text/plain": [
       "     Country  Region  Happiness Rank  Happiness Score  Standard Error  \\\n",
       "0      135.0     9.0               1            7.587         0.03411   \n",
       "1       58.0     9.0               2            7.561         0.04884   \n",
       "2       37.0     9.0               3            7.527         0.03328   \n",
       "3      105.0     9.0               4            7.522         0.03880   \n",
       "4       24.0     5.0               5            7.427         0.03553   \n",
       "..       ...     ...             ...              ...             ...   \n",
       "153    118.0     8.0             154            3.465         0.03464   \n",
       "154     13.0     8.0             155            3.340         0.03656   \n",
       "155    136.0     4.0             156            3.006         0.05015   \n",
       "156     21.0     8.0             157            2.905         0.08658   \n",
       "157    141.0     8.0             158            2.839         0.06727   \n",
       "\n",
       "     Economy (GDP per Capita)   Family  Health (Life Expectancy)  Freedom  \\\n",
       "0                     1.39651  1.34951                   0.94143  0.66557   \n",
       "1                     1.30232  1.40223                   0.94784  0.62877   \n",
       "2                     1.32548  1.36058                   0.87464  0.64938   \n",
       "3                     1.45900  1.33095                   0.88521  0.66973   \n",
       "4                     1.32629  1.32261                   0.90563  0.63297   \n",
       "..                        ...      ...                       ...      ...   \n",
       "153                   0.22208  0.77370                   0.42864  0.59201   \n",
       "154                   0.28665  0.35386                   0.31910  0.48450   \n",
       "155                   0.66320  0.47489                   0.72193  0.15684   \n",
       "156                   0.01530  0.41587                   0.22396  0.11850   \n",
       "157                   0.20868  0.13995                   0.28443  0.36453   \n",
       "\n",
       "     Trust (Government Corruption)  Generosity  Dystopia Residual  \n",
       "0                          0.41978     0.29678            2.51738  \n",
       "1                          0.14145     0.43630            2.70201  \n",
       "2                          0.48357     0.34139            2.49204  \n",
       "3                          0.36503     0.34699            2.46531  \n",
       "4                          0.32957     0.45811            2.45176  \n",
       "..                             ...         ...                ...  \n",
       "153                        0.55191     0.22628            0.67042  \n",
       "154                        0.08010     0.18260            1.63328  \n",
       "155                        0.18906     0.47179            0.32858  \n",
       "156                        0.10062     0.19727            1.83302  \n",
       "157                        0.10731     0.16681            1.56726  \n",
       "\n",
       "[158 rows x 12 columns]"
      ]
     },
     "execution_count": 463,
     "metadata": {},
     "output_type": "execute_result"
    }
   ],
   "source": [
    "df\n"
   ]
  },
  {
   "cell_type": "code",
   "execution_count": 464,
   "id": "4cf50638",
   "metadata": {},
   "outputs": [],
   "source": [
    "df = df.drop(['Country', 'Region','Happiness Rank','Standard Error'],axis=1)"
   ]
  },
  {
   "cell_type": "code",
   "execution_count": 465,
   "id": "ce9285eb",
   "metadata": {},
   "outputs": [
    {
     "data": {
      "text/plain": [
       "Generosity                       0.180319\n",
       "Trust (Government Corruption)    0.395199\n",
       "Dystopia Residual                0.530474\n",
       "Freedom                          0.568211\n",
       "Health (Life Expectancy)         0.724200\n",
       "Family                           0.740605\n",
       "Economy (GDP per Capita)         0.780966\n",
       "Happiness Score                  1.000000\n",
       "Name: Happiness Score, dtype: float64"
      ]
     },
     "execution_count": 465,
     "metadata": {},
     "output_type": "execute_result"
    }
   ],
   "source": [
    "df.corr()['Happiness Score'].sort_values()"
   ]
  },
  {
   "cell_type": "markdown",
   "id": "3865fdb7",
   "metadata": {},
   "source": [
    "* i am removing these row because of correlation problem"
   ]
  },
  {
   "cell_type": "markdown",
   "id": "96d7d868",
   "metadata": {},
   "source": [
    "#### removing outlier "
   ]
  },
  {
   "cell_type": "code",
   "execution_count": 466,
   "id": "ae321213",
   "metadata": {},
   "outputs": [
    {
     "data": {
      "text/plain": [
       "(158, 8)"
      ]
     },
     "execution_count": 466,
     "metadata": {},
     "output_type": "execute_result"
    }
   ],
   "source": [
    "df.shape"
   ]
  },
  {
   "cell_type": "code",
   "execution_count": 467,
   "id": "68d8483a",
   "metadata": {},
   "outputs": [
    {
     "data": {
      "text/html": [
       "<div>\n",
       "<style scoped>\n",
       "    .dataframe tbody tr th:only-of-type {\n",
       "        vertical-align: middle;\n",
       "    }\n",
       "\n",
       "    .dataframe tbody tr th {\n",
       "        vertical-align: top;\n",
       "    }\n",
       "\n",
       "    .dataframe thead th {\n",
       "        text-align: right;\n",
       "    }\n",
       "</style>\n",
       "<table border=\"1\" class=\"dataframe\">\n",
       "  <thead>\n",
       "    <tr style=\"text-align: right;\">\n",
       "      <th></th>\n",
       "      <th>Happiness Score</th>\n",
       "      <th>Economy (GDP per Capita)</th>\n",
       "      <th>Family</th>\n",
       "      <th>Health (Life Expectancy)</th>\n",
       "      <th>Freedom</th>\n",
       "      <th>Trust (Government Corruption)</th>\n",
       "      <th>Generosity</th>\n",
       "      <th>Dystopia Residual</th>\n",
       "    </tr>\n",
       "  </thead>\n",
       "  <tbody>\n",
       "    <tr>\n",
       "      <th>count</th>\n",
       "      <td>158.000000</td>\n",
       "      <td>158.000000</td>\n",
       "      <td>158.000000</td>\n",
       "      <td>158.000000</td>\n",
       "      <td>158.000000</td>\n",
       "      <td>158.000000</td>\n",
       "      <td>158.000000</td>\n",
       "      <td>158.000000</td>\n",
       "    </tr>\n",
       "    <tr>\n",
       "      <th>mean</th>\n",
       "      <td>5.375734</td>\n",
       "      <td>0.846137</td>\n",
       "      <td>0.991046</td>\n",
       "      <td>0.630259</td>\n",
       "      <td>0.428615</td>\n",
       "      <td>0.143422</td>\n",
       "      <td>0.237296</td>\n",
       "      <td>2.098977</td>\n",
       "    </tr>\n",
       "    <tr>\n",
       "      <th>std</th>\n",
       "      <td>1.145010</td>\n",
       "      <td>0.403121</td>\n",
       "      <td>0.272369</td>\n",
       "      <td>0.247078</td>\n",
       "      <td>0.150693</td>\n",
       "      <td>0.120034</td>\n",
       "      <td>0.126685</td>\n",
       "      <td>0.553550</td>\n",
       "    </tr>\n",
       "    <tr>\n",
       "      <th>min</th>\n",
       "      <td>2.839000</td>\n",
       "      <td>0.000000</td>\n",
       "      <td>0.000000</td>\n",
       "      <td>0.000000</td>\n",
       "      <td>0.000000</td>\n",
       "      <td>0.000000</td>\n",
       "      <td>0.000000</td>\n",
       "      <td>0.328580</td>\n",
       "    </tr>\n",
       "    <tr>\n",
       "      <th>25%</th>\n",
       "      <td>4.526000</td>\n",
       "      <td>0.545808</td>\n",
       "      <td>0.856823</td>\n",
       "      <td>0.439185</td>\n",
       "      <td>0.328330</td>\n",
       "      <td>0.061675</td>\n",
       "      <td>0.150553</td>\n",
       "      <td>1.759410</td>\n",
       "    </tr>\n",
       "    <tr>\n",
       "      <th>50%</th>\n",
       "      <td>5.232500</td>\n",
       "      <td>0.910245</td>\n",
       "      <td>1.029510</td>\n",
       "      <td>0.696705</td>\n",
       "      <td>0.435515</td>\n",
       "      <td>0.107220</td>\n",
       "      <td>0.216130</td>\n",
       "      <td>2.095415</td>\n",
       "    </tr>\n",
       "    <tr>\n",
       "      <th>75%</th>\n",
       "      <td>6.243750</td>\n",
       "      <td>1.158448</td>\n",
       "      <td>1.214405</td>\n",
       "      <td>0.811013</td>\n",
       "      <td>0.549092</td>\n",
       "      <td>0.180255</td>\n",
       "      <td>0.309883</td>\n",
       "      <td>2.462415</td>\n",
       "    </tr>\n",
       "    <tr>\n",
       "      <th>max</th>\n",
       "      <td>7.587000</td>\n",
       "      <td>1.690420</td>\n",
       "      <td>1.402230</td>\n",
       "      <td>1.025250</td>\n",
       "      <td>0.669730</td>\n",
       "      <td>0.551910</td>\n",
       "      <td>0.795880</td>\n",
       "      <td>3.602140</td>\n",
       "    </tr>\n",
       "  </tbody>\n",
       "</table>\n",
       "</div>"
      ],
      "text/plain": [
       "       Happiness Score  Economy (GDP per Capita)      Family  \\\n",
       "count       158.000000                158.000000  158.000000   \n",
       "mean          5.375734                  0.846137    0.991046   \n",
       "std           1.145010                  0.403121    0.272369   \n",
       "min           2.839000                  0.000000    0.000000   \n",
       "25%           4.526000                  0.545808    0.856823   \n",
       "50%           5.232500                  0.910245    1.029510   \n",
       "75%           6.243750                  1.158448    1.214405   \n",
       "max           7.587000                  1.690420    1.402230   \n",
       "\n",
       "       Health (Life Expectancy)     Freedom  Trust (Government Corruption)  \\\n",
       "count                158.000000  158.000000                     158.000000   \n",
       "mean                   0.630259    0.428615                       0.143422   \n",
       "std                    0.247078    0.150693                       0.120034   \n",
       "min                    0.000000    0.000000                       0.000000   \n",
       "25%                    0.439185    0.328330                       0.061675   \n",
       "50%                    0.696705    0.435515                       0.107220   \n",
       "75%                    0.811013    0.549092                       0.180255   \n",
       "max                    1.025250    0.669730                       0.551910   \n",
       "\n",
       "       Generosity  Dystopia Residual  \n",
       "count  158.000000         158.000000  \n",
       "mean     0.237296           2.098977  \n",
       "std      0.126685           0.553550  \n",
       "min      0.000000           0.328580  \n",
       "25%      0.150553           1.759410  \n",
       "50%      0.216130           2.095415  \n",
       "75%      0.309883           2.462415  \n",
       "max      0.795880           3.602140  "
      ]
     },
     "execution_count": 467,
     "metadata": {},
     "output_type": "execute_result"
    }
   ],
   "source": [
    "df.describe()"
   ]
  },
  {
   "cell_type": "markdown",
   "id": "369d7dcf",
   "metadata": {},
   "source": [
    "we know that we have outliers in columns 'Standard Error','Family''Trust (Government Corruption)', 'Generosity', 'Dystopia Residual'. so, we will remove them"
   ]
  },
  {
   "cell_type": "code",
   "execution_count": 468,
   "id": "7dc94f1f",
   "metadata": {},
   "outputs": [
    {
     "data": {
      "text/plain": [
       "(0.41560600000000003, 1.364407)"
      ]
     },
     "execution_count": 468,
     "metadata": {},
     "output_type": "execute_result"
    }
   ],
   "source": [
    "min_fam, max_fam = df.Family.quantile([0.05, 0.99])\n",
    "min_fam, max_fam"
   ]
  },
  {
   "cell_type": "code",
   "execution_count": 469,
   "id": "61dc19f3",
   "metadata": {},
   "outputs": [
    {
     "data": {
      "text/plain": [
       "(0.0046754000000000006, 0.2548287999999999)"
      ]
     },
     "execution_count": 469,
     "metadata": {},
     "output_type": "execute_result"
    }
   ],
   "source": [
    "min_tru, max_tru = df['Trust (Government Corruption)'].quantile([0.01, 0.84])\n",
    "min_tru, max_tru"
   ]
  },
  {
   "cell_type": "code",
   "execution_count": 470,
   "id": "5278ab3e",
   "metadata": {},
   "outputs": [
    {
     "data": {
      "text/plain": [
       "(0.00031243, 0.4527447400000004)"
      ]
     },
     "execution_count": 470,
     "metadata": {},
     "output_type": "execute_result"
    }
   ],
   "source": [
    "min_gen, max_gen = df.Generosity.quantile([0.001, 0.922])\n",
    "min_gen, max_gen"
   ]
  },
  {
   "cell_type": "code",
   "execution_count": 471,
   "id": "66ad8045",
   "metadata": {},
   "outputs": [
    {
     "data": {
      "text/plain": [
       "(0.6634841, 3.2208510000000006)"
      ]
     },
     "execution_count": 471,
     "metadata": {},
     "output_type": "execute_result"
    }
   ],
   "source": [
    "min_dy, max_dy = df['Dystopia Residual'].quantile([0.01, 0.99])\n",
    "min_dy, max_dy"
   ]
  },
  {
   "cell_type": "code",
   "execution_count": 472,
   "id": "d891d177",
   "metadata": {},
   "outputs": [],
   "source": [
    "df_n = df[(df.Family<max_fam)&(df.Family>min_fam)]"
   ]
  },
  {
   "cell_type": "code",
   "execution_count": 473,
   "id": "cf756143",
   "metadata": {},
   "outputs": [],
   "source": [
    "df_n= df_n[(df['Trust (Government Corruption)']<max_tru)&(df['Trust (Government Corruption)']>min_tru)]"
   ]
  },
  {
   "cell_type": "code",
   "execution_count": 474,
   "id": "a67508d0",
   "metadata": {},
   "outputs": [],
   "source": [
    "df_n= df_n[(df['Dystopia Residual']<max_dy)&(df['Dystopia Residual']>min_dy)]"
   ]
  },
  {
   "cell_type": "code",
   "execution_count": 475,
   "id": "9927b28c",
   "metadata": {},
   "outputs": [],
   "source": [
    "df_n= df_n[(df['Generosity']<max_gen)&(df['Generosity']>min_gen)]"
   ]
  },
  {
   "cell_type": "code",
   "execution_count": 476,
   "id": "d61d689d",
   "metadata": {},
   "outputs": [
    {
     "data": {
      "text/plain": [
       "<AxesSubplot:xlabel='Trust (Government Corruption)'>"
      ]
     },
     "execution_count": 476,
     "metadata": {},
     "output_type": "execute_result"
    },
    {
     "data": {
      "image/png": "[encoded data removed]",
      "text/plain": [
       "<Figure size 432x288 with 1 Axes>"
      ]
     },
     "metadata": {
      "needs_background": "light"
     },
     "output_type": "display_data"
    }
   ],
   "source": [
    "sns.boxplot(x=df_n['Trust (Government Corruption)'])"
   ]
  },
  {
   "cell_type": "code",
   "execution_count": 477,
   "id": "9030cb00",
   "metadata": {},
   "outputs": [
    {
     "data": {
      "text/plain": [
       "<AxesSubplot:xlabel='Family'>"
      ]
     },
     "execution_count": 477,
     "metadata": {},
     "output_type": "execute_result"
    },
    {
     "data": {
      "image/png": "[encoded data removed]",
      "text/plain": [
       "<Figure size 432x288 with 1 Axes>"
      ]
     },
     "metadata": {
      "needs_background": "light"
     },
     "output_type": "display_data"
    }
   ],
   "source": [
    "sns.boxplot(x=df_n['Family'])"
   ]
  },
  {
   "cell_type": "code",
   "execution_count": 478,
   "id": "216bad95",
   "metadata": {},
   "outputs": [
    {
     "data": {
      "text/plain": [
       "<AxesSubplot:xlabel='Dystopia Residual'>"
      ]
     },
     "execution_count": 478,
     "metadata": {},
     "output_type": "execute_result"
    },
    {
     "data": {
      "image/png": "[encoded data removed]",
      "text/plain": [
       "<Figure size 432x288 with 1 Axes>"
      ]
     },
     "metadata": {
      "needs_background": "light"
     },
     "output_type": "display_data"
    }
   ],
   "source": [
    "sns.boxplot(x=df_n['Dystopia Residual'])"
   ]
  },
  {
   "cell_type": "code",
   "execution_count": 479,
   "id": "7ec02192",
   "metadata": {},
   "outputs": [
    {
     "data": {
      "text/plain": [
       "<AxesSubplot:xlabel='Generosity'>"
      ]
     },
     "execution_count": 479,
     "metadata": {},
     "output_type": "execute_result"
    },
    {
     "data": {
      "image/png": "[encoded data removed]",
      "text/plain": [
       "<Figure size 432x288 with 1 Axes>"
      ]
     },
     "metadata": {
      "needs_background": "light"
     },
     "output_type": "display_data"
    }
   ],
   "source": [
    "sns.boxplot(x=df_n['Generosity'])"
   ]
  },
  {
   "cell_type": "code",
   "execution_count": 480,
   "id": "02494d41",
   "metadata": {},
   "outputs": [
    {
     "data": {
      "text/plain": [
       "(113, 8)"
      ]
     },
     "execution_count": 480,
     "metadata": {},
     "output_type": "execute_result"
    }
   ],
   "source": [
    "df_n.shape"
   ]
  },
  {
   "cell_type": "markdown",
   "id": "1efe6a56",
   "metadata": {},
   "source": [
    "* we can see here that outliers are removed . "
   ]
  },
  {
   "cell_type": "markdown",
   "id": "e87a4f43",
   "metadata": {},
   "source": [
    "##### now we will work on skewness"
   ]
  },
  {
   "cell_type": "code",
   "execution_count": 481,
   "id": "3c0231f1",
   "metadata": {},
   "outputs": [
    {
     "data": {
      "text/html": [
       "<div>\n",
       "<style scoped>\n",
       "    .dataframe tbody tr th:only-of-type {\n",
       "        vertical-align: middle;\n",
       "    }\n",
       "\n",
       "    .dataframe tbody tr th {\n",
       "        vertical-align: top;\n",
       "    }\n",
       "\n",
       "    .dataframe thead th {\n",
       "        text-align: right;\n",
       "    }\n",
       "</style>\n",
       "<table border=\"1\" class=\"dataframe\">\n",
       "  <thead>\n",
       "    <tr style=\"text-align: right;\">\n",
       "      <th></th>\n",
       "      <th>Happiness Score</th>\n",
       "      <th>Economy (GDP per Capita)</th>\n",
       "      <th>Family</th>\n",
       "      <th>Health (Life Expectancy)</th>\n",
       "      <th>Freedom</th>\n",
       "      <th>Trust (Government Corruption)</th>\n",
       "      <th>Generosity</th>\n",
       "      <th>Dystopia Residual</th>\n",
       "    </tr>\n",
       "  </thead>\n",
       "  <tbody>\n",
       "    <tr>\n",
       "      <th>count</th>\n",
       "      <td>113.000000</td>\n",
       "      <td>113.000000</td>\n",
       "      <td>113.000000</td>\n",
       "      <td>113.000000</td>\n",
       "      <td>113.000000</td>\n",
       "      <td>113.000000</td>\n",
       "      <td>113.000000</td>\n",
       "      <td>113.000000</td>\n",
       "    </tr>\n",
       "    <tr>\n",
       "      <th>mean</th>\n",
       "      <td>5.199381</td>\n",
       "      <td>0.798441</td>\n",
       "      <td>0.996842</td>\n",
       "      <td>0.603797</td>\n",
       "      <td>0.401255</td>\n",
       "      <td>0.096096</td>\n",
       "      <td>0.201635</td>\n",
       "      <td>2.101336</td>\n",
       "    </tr>\n",
       "    <tr>\n",
       "      <th>std</th>\n",
       "      <td>0.952475</td>\n",
       "      <td>0.358416</td>\n",
       "      <td>0.211932</td>\n",
       "      <td>0.246142</td>\n",
       "      <td>0.135825</td>\n",
       "      <td>0.056858</td>\n",
       "      <td>0.090954</td>\n",
       "      <td>0.526299</td>\n",
       "    </tr>\n",
       "    <tr>\n",
       "      <th>min</th>\n",
       "      <td>2.905000</td>\n",
       "      <td>0.000000</td>\n",
       "      <td>0.415870</td>\n",
       "      <td>0.000000</td>\n",
       "      <td>0.000000</td>\n",
       "      <td>0.006490</td>\n",
       "      <td>0.001990</td>\n",
       "      <td>0.671080</td>\n",
       "    </tr>\n",
       "    <tr>\n",
       "      <th>25%</th>\n",
       "      <td>4.517000</td>\n",
       "      <td>0.521070</td>\n",
       "      <td>0.864490</td>\n",
       "      <td>0.414350</td>\n",
       "      <td>0.317510</td>\n",
       "      <td>0.053270</td>\n",
       "      <td>0.123440</td>\n",
       "      <td>1.758730</td>\n",
       "    </tr>\n",
       "    <tr>\n",
       "      <th>50%</th>\n",
       "      <td>5.123000</td>\n",
       "      <td>0.881800</td>\n",
       "      <td>1.014040</td>\n",
       "      <td>0.669260</td>\n",
       "      <td>0.408200</td>\n",
       "      <td>0.084840</td>\n",
       "      <td>0.195910</td>\n",
       "      <td>2.090660</td>\n",
       "    </tr>\n",
       "    <tr>\n",
       "      <th>75%</th>\n",
       "      <td>5.855000</td>\n",
       "      <td>1.082540</td>\n",
       "      <td>1.183540</td>\n",
       "      <td>0.773610</td>\n",
       "      <td>0.504420</td>\n",
       "      <td>0.136330</td>\n",
       "      <td>0.253280</td>\n",
       "      <td>2.453730</td>\n",
       "    </tr>\n",
       "    <tr>\n",
       "      <th>max</th>\n",
       "      <td>7.278000</td>\n",
       "      <td>1.394510</td>\n",
       "      <td>1.313790</td>\n",
       "      <td>0.991110</td>\n",
       "      <td>0.662460</td>\n",
       "      <td>0.245580</td>\n",
       "      <td>0.421920</td>\n",
       "      <td>3.191310</td>\n",
       "    </tr>\n",
       "  </tbody>\n",
       "</table>\n",
       "</div>"
      ],
      "text/plain": [
       "       Happiness Score  Economy (GDP per Capita)      Family  \\\n",
       "count       113.000000                113.000000  113.000000   \n",
       "mean          5.199381                  0.798441    0.996842   \n",
       "std           0.952475                  0.358416    0.211932   \n",
       "min           2.905000                  0.000000    0.415870   \n",
       "25%           4.517000                  0.521070    0.864490   \n",
       "50%           5.123000                  0.881800    1.014040   \n",
       "75%           5.855000                  1.082540    1.183540   \n",
       "max           7.278000                  1.394510    1.313790   \n",
       "\n",
       "       Health (Life Expectancy)     Freedom  Trust (Government Corruption)  \\\n",
       "count                113.000000  113.000000                     113.000000   \n",
       "mean                   0.603797    0.401255                       0.096096   \n",
       "std                    0.246142    0.135825                       0.056858   \n",
       "min                    0.000000    0.000000                       0.006490   \n",
       "25%                    0.414350    0.317510                       0.053270   \n",
       "50%                    0.669260    0.408200                       0.084840   \n",
       "75%                    0.773610    0.504420                       0.136330   \n",
       "max                    0.991110    0.662460                       0.245580   \n",
       "\n",
       "       Generosity  Dystopia Residual  \n",
       "count  113.000000         113.000000  \n",
       "mean     0.201635           2.101336  \n",
       "std      0.090954           0.526299  \n",
       "min      0.001990           0.671080  \n",
       "25%      0.123440           1.758730  \n",
       "50%      0.195910           2.090660  \n",
       "75%      0.253280           2.453730  \n",
       "max      0.421920           3.191310  "
      ]
     },
     "execution_count": 481,
     "metadata": {},
     "output_type": "execute_result"
    }
   ],
   "source": [
    "df_n.describe()"
   ]
  },
  {
   "cell_type": "code",
   "execution_count": 482,
   "id": "9d1f120c",
   "metadata": {},
   "outputs": [
    {
     "data": {
      "text/plain": [
       "(113, 8)"
      ]
     },
     "execution_count": 482,
     "metadata": {},
     "output_type": "execute_result"
    }
   ],
   "source": [
    "df_n.shape"
   ]
  },
  {
   "cell_type": "markdown",
   "id": "9890c62f",
   "metadata": {},
   "source": [
    "spliting data into features and target "
   ]
  },
  {
   "cell_type": "code",
   "execution_count": 483,
   "id": "45f75273",
   "metadata": {},
   "outputs": [],
   "source": [
    "x=df_n.iloc[ : , 1:8]\n",
    "y=df_n.iloc[ : , 0]"
   ]
  },
  {
   "cell_type": "code",
   "execution_count": 484,
   "id": "685bf606",
   "metadata": {},
   "outputs": [
    {
     "data": {
      "text/html": [
       "<div>\n",
       "<style scoped>\n",
       "    .dataframe tbody tr th:only-of-type {\n",
       "        vertical-align: middle;\n",
       "    }\n",
       "\n",
       "    .dataframe tbody tr th {\n",
       "        vertical-align: top;\n",
       "    }\n",
       "\n",
       "    .dataframe thead th {\n",
       "        text-align: right;\n",
       "    }\n",
       "</style>\n",
       "<table border=\"1\" class=\"dataframe\">\n",
       "  <thead>\n",
       "    <tr style=\"text-align: right;\">\n",
       "      <th></th>\n",
       "      <th>Economy (GDP per Capita)</th>\n",
       "      <th>Family</th>\n",
       "      <th>Health (Life Expectancy)</th>\n",
       "      <th>Freedom</th>\n",
       "      <th>Trust (Government Corruption)</th>\n",
       "      <th>Generosity</th>\n",
       "      <th>Dystopia Residual</th>\n",
       "    </tr>\n",
       "  </thead>\n",
       "  <tbody>\n",
       "    <tr>\n",
       "      <th>10</th>\n",
       "      <td>1.22857</td>\n",
       "      <td>1.22393</td>\n",
       "      <td>0.91387</td>\n",
       "      <td>0.41319</td>\n",
       "      <td>0.07785</td>\n",
       "      <td>0.33172</td>\n",
       "      <td>3.08854</td>\n",
       "    </tr>\n",
       "    <tr>\n",
       "      <th>11</th>\n",
       "      <td>0.95578</td>\n",
       "      <td>1.23788</td>\n",
       "      <td>0.86027</td>\n",
       "      <td>0.63376</td>\n",
       "      <td>0.10583</td>\n",
       "      <td>0.25497</td>\n",
       "      <td>3.17728</td>\n",
       "    </tr>\n",
       "    <tr>\n",
       "      <th>12</th>\n",
       "      <td>1.33723</td>\n",
       "      <td>1.29704</td>\n",
       "      <td>0.89042</td>\n",
       "      <td>0.62433</td>\n",
       "      <td>0.18676</td>\n",
       "      <td>0.33088</td>\n",
       "      <td>2.53320</td>\n",
       "    </tr>\n",
       "    <tr>\n",
       "      <th>14</th>\n",
       "      <td>1.39451</td>\n",
       "      <td>1.24711</td>\n",
       "      <td>0.86179</td>\n",
       "      <td>0.54604</td>\n",
       "      <td>0.15890</td>\n",
       "      <td>0.40105</td>\n",
       "      <td>2.51011</td>\n",
       "    </tr>\n",
       "    <tr>\n",
       "      <th>18</th>\n",
       "      <td>1.30782</td>\n",
       "      <td>1.28566</td>\n",
       "      <td>0.89667</td>\n",
       "      <td>0.58450</td>\n",
       "      <td>0.22540</td>\n",
       "      <td>0.22250</td>\n",
       "      <td>2.41484</td>\n",
       "    </tr>\n",
       "    <tr>\n",
       "      <th>...</th>\n",
       "      <td>...</td>\n",
       "      <td>...</td>\n",
       "      <td>...</td>\n",
       "      <td>...</td>\n",
       "      <td>...</td>\n",
       "      <td>...</td>\n",
       "      <td>...</td>\n",
       "    </tr>\n",
       "    <tr>\n",
       "      <th>148</th>\n",
       "      <td>0.34193</td>\n",
       "      <td>0.76062</td>\n",
       "      <td>0.15010</td>\n",
       "      <td>0.23501</td>\n",
       "      <td>0.05269</td>\n",
       "      <td>0.18386</td>\n",
       "      <td>1.94296</td>\n",
       "    </tr>\n",
       "    <tr>\n",
       "      <th>149</th>\n",
       "      <td>0.17417</td>\n",
       "      <td>0.46475</td>\n",
       "      <td>0.24009</td>\n",
       "      <td>0.37725</td>\n",
       "      <td>0.12139</td>\n",
       "      <td>0.28657</td>\n",
       "      <td>1.99172</td>\n",
       "    </tr>\n",
       "    <tr>\n",
       "      <th>150</th>\n",
       "      <td>0.46534</td>\n",
       "      <td>0.77115</td>\n",
       "      <td>0.15185</td>\n",
       "      <td>0.46866</td>\n",
       "      <td>0.17922</td>\n",
       "      <td>0.20165</td>\n",
       "      <td>1.41723</td>\n",
       "    </tr>\n",
       "    <tr>\n",
       "      <th>151</th>\n",
       "      <td>0.25812</td>\n",
       "      <td>0.85188</td>\n",
       "      <td>0.27125</td>\n",
       "      <td>0.39493</td>\n",
       "      <td>0.12832</td>\n",
       "      <td>0.21747</td>\n",
       "      <td>1.46494</td>\n",
       "    </tr>\n",
       "    <tr>\n",
       "      <th>156</th>\n",
       "      <td>0.01530</td>\n",
       "      <td>0.41587</td>\n",
       "      <td>0.22396</td>\n",
       "      <td>0.11850</td>\n",
       "      <td>0.10062</td>\n",
       "      <td>0.19727</td>\n",
       "      <td>1.83302</td>\n",
       "    </tr>\n",
       "  </tbody>\n",
       "</table>\n",
       "<p>113 rows × 7 columns</p>\n",
       "</div>"
      ],
      "text/plain": [
       "     Economy (GDP per Capita)   Family  Health (Life Expectancy)  Freedom  \\\n",
       "10                    1.22857  1.22393                   0.91387  0.41319   \n",
       "11                    0.95578  1.23788                   0.86027  0.63376   \n",
       "12                    1.33723  1.29704                   0.89042  0.62433   \n",
       "14                    1.39451  1.24711                   0.86179  0.54604   \n",
       "18                    1.30782  1.28566                   0.89667  0.58450   \n",
       "..                        ...      ...                       ...      ...   \n",
       "148                   0.34193  0.76062                   0.15010  0.23501   \n",
       "149                   0.17417  0.46475                   0.24009  0.37725   \n",
       "150                   0.46534  0.77115                   0.15185  0.46866   \n",
       "151                   0.25812  0.85188                   0.27125  0.39493   \n",
       "156                   0.01530  0.41587                   0.22396  0.11850   \n",
       "\n",
       "     Trust (Government Corruption)  Generosity  Dystopia Residual  \n",
       "10                         0.07785     0.33172            3.08854  \n",
       "11                         0.10583     0.25497            3.17728  \n",
       "12                         0.18676     0.33088            2.53320  \n",
       "14                         0.15890     0.40105            2.51011  \n",
       "18                         0.22540     0.22250            2.41484  \n",
       "..                             ...         ...                ...  \n",
       "148                        0.05269     0.18386            1.94296  \n",
       "149                        0.12139     0.28657            1.99172  \n",
       "150                        0.17922     0.20165            1.41723  \n",
       "151                        0.12832     0.21747            1.46494  \n",
       "156                        0.10062     0.19727            1.83302  \n",
       "\n",
       "[113 rows x 7 columns]"
      ]
     },
     "execution_count": 484,
     "metadata": {},
     "output_type": "execute_result"
    }
   ],
   "source": [
    "x"
   ]
  },
  {
   "cell_type": "code",
   "execution_count": 485,
   "id": "3e01cdde",
   "metadata": {},
   "outputs": [
    {
     "data": {
      "text/plain": [
       "10     7.278\n",
       "11     7.226\n",
       "12     7.200\n",
       "14     7.119\n",
       "18     6.937\n",
       "       ...  \n",
       "148    3.667\n",
       "149    3.656\n",
       "150    3.655\n",
       "151    3.587\n",
       "156    2.905\n",
       "Name: Happiness Score, Length: 113, dtype: float64"
      ]
     },
     "execution_count": 485,
     "metadata": {},
     "output_type": "execute_result"
    }
   ],
   "source": [
    "y"
   ]
  },
  {
   "cell_type": "code",
   "execution_count": 486,
   "id": "e8341d7d",
   "metadata": {},
   "outputs": [
    {
     "data": {
      "text/plain": [
       "Happiness Score                  0.148971\n",
       "Economy (GDP per Capita)        -0.477135\n",
       "Family                          -0.585385\n",
       "Health (Life Expectancy)        -0.711084\n",
       "Freedom                         -0.307552\n",
       "Trust (Government Corruption)    0.545617\n",
       "Generosity                       0.353770\n",
       "Dystopia Residual               -0.075902\n",
       "dtype: float64"
      ]
     },
     "execution_count": 486,
     "metadata": {},
     "output_type": "execute_result"
    }
   ],
   "source": [
    "df_n.skew()"
   ]
  },
  {
   "cell_type": "code",
   "execution_count": 487,
   "id": "4adc6807",
   "metadata": {},
   "outputs": [],
   "source": [
    "from sklearn.preprocessing import power_transform"
   ]
  },
  {
   "cell_type": "code",
   "execution_count": 488,
   "id": "9ade5884",
   "metadata": {},
   "outputs": [],
   "source": [
    "x=power_transform(x,method='yeo-johnson')"
   ]
  },
  {
   "cell_type": "code",
   "execution_count": 489,
   "id": "b3f6deb7",
   "metadata": {},
   "outputs": [
    {
     "data": {
      "text/plain": [
       "array([[ 1.30880284e+00,  1.15490454e+00,  1.50036067e+00,\n",
       "         3.22094220e-02, -2.13943871e-01,  1.38276123e+00,\n",
       "         1.91218867e+00],\n",
       "       [ 3.73957841e-01,  1.24328315e+00,  1.16759491e+00,\n",
       "         1.85856773e+00,  3.05649478e-01,  6.42125299e-01,\n",
       "         2.08816132e+00],\n",
       "       [ 1.71655635e+00,  1.63182009e+00,  1.35234432e+00,\n",
       "         1.77406294e+00,  1.48118947e+00,  1.37510630e+00,\n",
       "         8.22209381e-01],\n",
       "       [ 1.93963786e+00,  1.30243213e+00,  1.17676082e+00,\n",
       "         1.09475386e+00,  1.12373271e+00,  1.98368553e+00,\n",
       "         7.77332756e-01],\n",
       "       [ 1.60419976e+00,  1.55533539e+00,  1.39142204e+00,\n",
       "         1.42350690e+00,  1.91056031e+00,  3.01519309e-01,\n",
       "         5.92564837e-01],\n",
       "       [ 6.63216174e-01,  1.35965244e+00,  3.89872739e-01,\n",
       "         1.53371458e-01,  3.89132711e-01, -1.73062257e+00,\n",
       "         2.11602627e+00],\n",
       "       [ 7.28062097e-01,  9.96919963e-01,  7.97581093e-01,\n",
       "         1.06161401e+00,  7.03719119e-02,  5.32526539e-01,\n",
       "         1.43857410e+00],\n",
       "       [ 1.68082870e+00,  1.64758365e+00,  1.36132394e+00,\n",
       "         1.68898341e+00,  1.83825103e+00,  9.14200261e-01,\n",
       "         1.66670235e-02],\n",
       "       [ 8.77034314e-01,  5.59505226e-01,  1.15736208e+00,\n",
       "         2.47795392e-01,  6.82462122e-01,  1.40013210e+00,\n",
       "         1.10026630e+00],\n",
       "       [ 1.49096443e+00,  1.38841669e+00,  1.70801751e+00,\n",
       "         1.12909219e+00,  1.70896653e+00, -8.57562447e-01,\n",
       "         1.99926054e-01],\n",
       "       [ 6.94299421e-01,  1.30964611e+00,  7.45317612e-01,\n",
       "         3.13303662e-01, -7.76092767e-02, -9.70241472e-01,\n",
       "         1.41405168e+00],\n",
       "       [ 1.12942088e+00,  1.04575484e+00,  1.07537211e+00,\n",
       "         4.22434901e-01, -1.37051478e+00, -1.06950273e+00,\n",
       "         1.10411590e+00],\n",
       "       [ 7.21748098e-01,  1.06104516e+00,  8.82293725e-01,\n",
       "         1.59050348e+00,  2.10836320e+00,  4.07223370e-01,\n",
       "         4.12012412e-01],\n",
       "       [ 2.56384612e-01,  1.25797202e+00,  2.40345844e-01,\n",
       "         9.99307832e-01, -7.78011740e-01, -1.25813095e-01,\n",
       "         1.45604849e+00],\n",
       "       [ 1.31444074e+00,  1.74592971e+00,  1.77341924e+00,\n",
       "         3.89880964e-01, -4.98403419e-01, -1.45772118e-01,\n",
       "         3.19422644e-02],\n",
       "       [ 1.54053149e+00,  2.91681652e-01,  1.25891817e+00,\n",
       "        -8.66046700e-02, -1.46280371e-01,  6.29741209e-01,\n",
       "         4.15504593e-01],\n",
       "       [ 5.01670832e-01, -2.40745139e-01, -1.46702913e-01,\n",
       "         1.52865214e+00,  7.99820681e-01, -2.89215882e-01,\n",
       "         1.32559520e+00],\n",
       "       [ 1.24777955e+00,  9.05847025e-01, -1.17107611e-01,\n",
       "         1.20310691e+00, -1.77146237e+00,  1.26062711e+00,\n",
       "         3.10631821e-01],\n",
       "       [-2.05955965e-01,  2.29360646e-02,  1.74765109e-01,\n",
       "        -4.08914914e-02,  5.07260681e-01, -1.06871901e+00,\n",
       "         1.80624926e+00],\n",
       "       [-2.60214484e-01,  1.18472471e-01,  1.73104349e-02,\n",
       "         1.36149351e+00,  1.07521321e-01,  8.42706420e-01,\n",
       "         1.23074864e+00],\n",
       "       [ 1.09350764e+00,  1.45138644e+00,  7.55247028e-01,\n",
       "        -6.63639598e-01, -1.17557470e+00, -3.00715805e-01,\n",
       "         2.67462603e-01],\n",
       "       [ 1.46465053e+00,  1.36718939e+00,  2.01531805e+00,\n",
       "         6.82492814e-01,  1.40587892e+00, -1.06702122e+00,\n",
       "        -8.01379961e-01],\n",
       "       [ 1.36772364e+00, -3.08980900e-01,  1.83903834e+00,\n",
       "        -5.61393257e-01, -1.99689413e-01, -1.07967368e-01,\n",
       "         2.16297058e-01],\n",
       "       [ 8.79633279e-02, -1.08378846e-01,  7.64863360e-01,\n",
       "         5.98484381e-01,  1.40959376e+00, -9.58650968e-01,\n",
       "         8.34304586e-01],\n",
       "       [ 1.39183667e+00,  9.92443962e-01,  1.76566557e+00,\n",
       "        -1.03865107e+00, -1.30737397e+00,  3.62902083e-01,\n",
       "        -1.56239794e-01],\n",
       "       [-4.38936942e-01, -2.09714988e-01, -4.39853431e-01,\n",
       "         1.33401006e+00, -1.74513216e-02,  1.14510508e-01,\n",
       "         1.38918581e+00],\n",
       "       [-6.69633967e-01, -2.68739831e-02, -1.01696616e-01,\n",
       "        -5.88892235e-01, -1.64217401e+00,  1.60263924e-01,\n",
       "         1.94899372e+00],\n",
       "       [-2.19399039e-01,  1.68425318e+00,  9.60259897e-02,\n",
       "         1.03552601e+00, -1.24295389e-01,  1.47927371e+00,\n",
       "         1.57102921e-01],\n",
       "       [ 9.30368724e-01,  5.47803462e-01,  1.46578250e-02,\n",
       "         8.48639993e-01, -8.33676187e-02, -9.21939685e-01,\n",
       "         2.69194041e-01],\n",
       "       [ 1.15090134e+00,  1.47684564e+00,  1.24710535e+00,\n",
       "         1.63394710e+00, -1.08898496e+00,  6.24822053e-01,\n",
       "        -9.29879793e-01],\n",
       "       [ 1.01677641e+00,  1.36933509e+00,  4.45302845e-01,\n",
       "        -1.35561490e+00, -1.80157516e+00, -2.20061840e+00,\n",
       "         6.53876346e-01],\n",
       "       [-6.72809796e-01,  6.59176142e-01,  5.07239146e-01,\n",
       "         1.16836985e+00,  1.55744204e+00,  8.74951851e-01,\n",
       "         4.17125354e-01],\n",
       "       [ 1.98989634e-01, -2.28234007e-01,  4.39551253e-01,\n",
       "         4.56264878e-02, -5.85996428e-01, -5.28783788e-01,\n",
       "         9.41527364e-01],\n",
       "       [ 6.22132438e-01,  1.21152923e+00,  4.70263416e-01,\n",
       "        -2.20271868e-01,  1.53068065e+00, -1.02262543e+00,\n",
       "         4.57860953e-02],\n",
       "       [ 9.40847175e-01,  1.51415077e+00,  7.00095893e-01,\n",
       "         9.70620041e-01, -9.87601021e-01, -3.16470654e-01,\n",
       "        -4.59409856e-01],\n",
       "       [ 9.38443773e-01,  2.59678813e-01,  4.07412616e-01,\n",
       "         9.62461288e-01,  2.91376254e-01,  1.37392076e+00,\n",
       "        -4.21970635e-01],\n",
       "       [ 7.92586918e-01, -1.00802047e+00,  7.49863705e-01,\n",
       "        -1.06200981e+00, -1.42747993e+00, -1.78741972e+00,\n",
       "         1.25345161e+00],\n",
       "       [ 9.61431163e-01,  5.26339971e-01,  3.05165731e-01,\n",
       "         5.86835702e-02,  3.81311732e-01, -1.37965225e-01,\n",
       "        -3.12132426e-02],\n",
       "       [ 9.83090734e-01,  1.23238390e+00,  1.35601994e-01,\n",
       "        -3.12444548e-01, -1.28123477e+00, -2.57896380e+00,\n",
       "         3.20491099e-01],\n",
       "       [-7.26024751e-02,  7.12578902e-01,  2.23799231e-01,\n",
       "         7.49726211e-01, -1.46139483e+00,  1.90851736e-01,\n",
       "         4.10005964e-01],\n",
       "       [ 1.23410260e+00,  2.58873282e-01,  1.56264168e+00,\n",
       "         6.34956115e-01,  8.96067563e-01,  7.10481493e-01,\n",
       "        -9.61602436e-01],\n",
       "       [ 1.23435633e+00, -6.04414907e-01,  1.56264168e+00,\n",
       "        -1.66659437e-02, -5.52166444e-01,  1.14761579e+00,\n",
       "        -4.14577503e-01],\n",
       "       [ 3.21508243e-01,  3.00065930e-01, -1.04397349e-01,\n",
       "        -8.81646809e-01,  1.32073507e+00, -1.45330614e+00,\n",
       "         6.25972255e-01],\n",
       "       [-9.87719648e-02, -9.45651571e-01, -4.23906373e-02,\n",
       "        -1.13652587e+00, -8.64354258e-01,  9.23607963e-01,\n",
       "         1.27628098e+00],\n",
       "       [ 5.41823366e-01, -1.76553108e-01,  3.33849064e-01,\n",
       "         1.21859918e+00, -2.66633297e-01,  1.78566791e+00,\n",
       "        -6.56296549e-01],\n",
       "       [ 1.03267241e+00,  1.17999492e+00,  6.70443487e-01,\n",
       "         3.06592099e-01,  1.02592103e+00, -1.33625667e+00,\n",
       "        -9.82287699e-01],\n",
       "       [-5.71108998e-01, -5.19375052e-01,  5.26320150e-01,\n",
       "         1.51002852e+00,  2.80897717e-01, -3.04592461e-01,\n",
       "         1.81620820e-01],\n",
       "       [ 7.19453575e-01, -3.62840710e-01,  4.47584888e-01,\n",
       "        -1.26177307e+00,  1.10403215e+00, -8.67596074e-01,\n",
       "        -4.14983819e-02],\n",
       "       [-9.67946464e-01,  7.13338778e-01,  4.83058589e-02,\n",
       "         1.97147790e-01, -9.82882495e-01,  1.08986669e+00,\n",
       "         2.41132949e-01],\n",
       "       [-5.11966284e-01, -5.54992789e-01, -1.61696435e+00,\n",
       "        -4.81463373e-01, -1.03075536e+00,  8.17271916e-01,\n",
       "         1.52650826e+00],\n",
       "       [ 5.95493751e-01, -4.01967762e-01, -3.37362358e-04,\n",
       "        -2.86847948e-01,  1.14750479e+00, -1.45646884e+00,\n",
       "        -2.02837569e-01],\n",
       "       [ 2.04541831e-01,  1.72843933e-01,  2.68175978e-01,\n",
       "        -1.74946077e-02,  8.97972675e-01, -1.02171687e+00,\n",
       "        -4.32299962e-01],\n",
       "       [ 4.33673423e-01, -5.49407173e-01,  4.13944504e-01,\n",
       "        -1.54763910e+00,  8.98412157e-01, -3.89708718e-01,\n",
       "        -1.30271349e-02],\n",
       "       [ 1.67856030e-01, -3.60825317e-01,  9.10763337e-01,\n",
       "         8.52592930e-01, -1.33770464e+00, -1.40356427e+00,\n",
       "        -4.69351576e-01],\n",
       "       [-9.77218408e-01, -5.01941114e-01, -1.26346720e+00,\n",
       "         6.18837615e-01,  6.19204199e-01,  9.16989705e-03,\n",
       "         1.01913369e+00],\n",
       "       [ 6.60573991e-01, -6.36454421e-01,  6.44828719e-01,\n",
       "        -4.28931239e-01, -1.90844382e+00, -6.80024548e-01,\n",
       "        -3.34918001e-01],\n",
       "       [ 2.62400313e-01, -5.53277655e-02,  5.34780118e-01,\n",
       "        -1.43326324e+00, -1.37945354e+00, -3.13880983e-02,\n",
       "        -1.56583018e-01],\n",
       "       [ 1.06155689e+00,  6.44777991e-01,  1.25824422e+00,\n",
       "         8.33829657e-01, -1.78857017e+00, -6.83617316e-01,\n",
       "        -1.58167604e+00],\n",
       "       [ 8.97675542e-01,  3.97896443e-01,  4.09623075e-01,\n",
       "        -8.07304143e-01, -5.12420636e-01, -1.45886991e-01,\n",
       "        -9.18045027e-01],\n",
       "       [-3.72968058e-01,  7.48323952e-02, -2.64874600e-01,\n",
       "         1.78406930e+00,  5.88983254e-01,  5.90181751e-01,\n",
       "        -6.71091852e-01],\n",
       "       [-2.90598367e-01, -1.56122816e+00, -1.40741862e-01,\n",
       "         6.04309974e-02, -6.57347341e-02, -1.54319643e+00,\n",
       "         6.67911440e-01],\n",
       "       [ 2.56071466e-01, -9.19948728e-02,  4.66979106e-01,\n",
       "        -5.43786332e-01, -7.31528622e-01,  3.13239138e-01,\n",
       "        -6.97973689e-01],\n",
       "       [-1.77118677e+00,  2.90270142e-02, -1.76205721e+00,\n",
       "        -5.02623388e-01,  1.08434272e+00,  3.03563681e-01,\n",
       "         1.83862189e+00],\n",
       "       [ 1.32664985e-01, -9.76074861e-01,  8.91708342e-01,\n",
       "        -3.81044984e-01, -4.95223948e-01, -6.15413291e-01,\n",
       "        -3.96316786e-01],\n",
       "       [-1.19503179e+00,  1.05286675e-01, -1.79165372e+00,\n",
       "        -6.62524002e-01,  6.24930873e-01, -3.60274963e-01,\n",
       "         1.34007375e+00],\n",
       "       [ 1.84066072e-01,  8.36649335e-01,  1.30752452e-01,\n",
       "         1.35623297e+00,  8.89317405e-01,  2.40333067e-01,\n",
       "        -1.67636163e+00],\n",
       "       [-6.79488771e-01, -1.22838094e+00, -3.99474295e-01,\n",
       "         1.52287830e+00,  2.07914470e+00,  2.15338156e+00,\n",
       "        -7.00497080e-01],\n",
       "       [-1.98310235e-02,  1.65591944e+00, -1.71149658e-01,\n",
       "         2.08645183e-01, -1.36694368e+00,  1.38804129e+00,\n",
       "        -1.42877123e+00],\n",
       "       [-3.54259041e-01,  2.73715709e-01, -1.79253651e+00,\n",
       "        -7.39469622e-01, -1.26746618e+00, -1.42097196e-01,\n",
       "         7.31988499e-01],\n",
       "       [ 6.01289839e-01, -9.93191473e-01,  1.04373150e+00,\n",
       "        -5.11228258e-01, -9.01060063e-01,  2.58768795e-01,\n",
       "        -1.01449044e+00],\n",
       "       [ 9.24805073e-01,  1.01934929e+00,  5.91719535e-01,\n",
       "        -6.38429993e-01, -1.34353893e+00, -7.98403821e-01,\n",
       "        -1.62555519e+00],\n",
       "       [-6.67463643e-01, -3.29153673e-01,  2.61770854e-01,\n",
       "        -5.60553772e-02, -4.08792295e-01,  3.84621043e-01,\n",
       "        -5.00241472e-01],\n",
       "       [-1.16157565e+00, -7.66326394e-01, -2.96252143e-01,\n",
       "         4.89936027e-01,  1.01011807e+00,  3.78985128e-01,\n",
       "         1.34135339e-02],\n",
       "       [ 1.40206914e-01, -1.67615197e+00,  4.79922220e-01,\n",
       "        -1.03652973e+00, -5.06893338e-01, -1.64697709e+00,\n",
       "         3.38376551e-02],\n",
       "       [-6.58796352e-01, -4.58885078e-01,  9.20814795e-02,\n",
       "        -1.15284634e+00,  6.88084494e-01, -9.96063613e-01,\n",
       "        -1.20644969e-01],\n",
       "       [-1.14571927e+00, -2.14525575e+00, -1.75735922e-01,\n",
       "        -5.50919353e-03,  6.35246759e-01,  1.89976578e-01,\n",
       "         7.92021942e-01],\n",
       "       [ 5.45731167e-01, -1.85159686e+00,  2.76433215e-01,\n",
       "        -7.82495248e-01, -6.13334439e-01,  1.81476044e+00,\n",
       "        -7.82497645e-01],\n",
       "       [-1.05835220e-01,  1.02322897e+00,  1.57959964e-01,\n",
       "        -1.11203815e+00, -1.29227702e+00, -4.93337206e-01,\n",
       "        -1.01297716e+00],\n",
       "       [ 4.69622878e-01, -9.17889952e-01, -1.72517368e-01,\n",
       "        -2.56673536e+00,  8.23136167e-01, -1.80896328e-01,\n",
       "        -2.93000264e-01],\n",
       "       [ 2.62274922e-01,  9.12738759e-01, -1.32597057e+00,\n",
       "        -5.61463889e-01, -1.61133471e-03, -9.03269467e-01,\n",
       "        -7.35187358e-01],\n",
       "       [-7.93928534e-01, -1.43396692e+00, -9.48401544e-01,\n",
       "         1.10029956e-01, -9.53966125e-01,  3.90995613e-01,\n",
       "         3.88422348e-01],\n",
       "       [-1.41724205e+00,  6.24366743e-02, -1.15948528e+00,\n",
       "        -1.06346303e+00, -1.56046170e-01, -5.90134643e-02,\n",
       "         6.44999704e-01],\n",
       "       [-1.79158890e+00, -1.03366021e+00, -1.13750007e+00,\n",
       "        -8.84897564e-01, -5.33744669e-01,  5.25037046e-01,\n",
       "         1.29882511e+00],\n",
       "       [-8.54713327e-01, -3.31448984e-02, -1.05426232e+00,\n",
       "        -2.02905043e+00,  9.51296656e-01, -5.05103081e-02,\n",
       "         1.94758408e-01],\n",
       "       [-1.90896202e+00, -9.75790813e-02, -1.74862589e+00,\n",
       "        -1.27523361e+00, -2.45797139e-01,  5.73981418e-01,\n",
       "         1.47521913e+00],\n",
       "       [-1.22911698e+00, -7.28767815e-01, -3.17634181e-01,\n",
       "        -1.94913345e-01, -6.03768738e-01,  1.30246525e+00,\n",
       "        -2.87258685e-01],\n",
       "       [-1.57562468e+00, -1.67685495e+00, -8.13767619e-01,\n",
       "         1.95065880e-01,  1.00672137e+00,  5.21184989e-01,\n",
       "         6.58276454e-01],\n",
       "       [-1.29345356e+00, -3.18605861e-01, -1.92727864e+00,\n",
       "        -4.00046040e-03, -2.00974650e-02,  2.19015319e-01,\n",
       "         7.77293901e-01],\n",
       "       [-1.01571726e+00, -7.09154486e-01, -1.08588326e+00,\n",
       "        -1.17023384e+00,  1.33067435e+00,  2.63748667e-01,\n",
       "         2.05715053e-02],\n",
       "       [-1.21872268e+00, -1.09720784e-01, -9.04543580e-01,\n",
       "         1.00332856e-01, -6.18560756e-01,  1.76841833e+00,\n",
       "        -6.10841071e-01],\n",
       "       [-1.95410577e-01, -1.08221283e+00,  4.38153383e-01,\n",
       "        -1.44949060e+00, -1.06181949e+00, -1.44877067e+00,\n",
       "        -6.61423673e-01],\n",
       "       [ 4.95834618e-01,  4.47899514e-01, -1.84461914e+00,\n",
       "         6.72773466e-01,  6.20159302e-01, -1.09895234e+00,\n",
       "        -1.21716719e+00],\n",
       "       [ 1.20683232e-03, -7.75593910e-03,  3.26583847e-01,\n",
       "         1.02104099e+00,  5.35200756e-02,  2.04302857e+00,\n",
       "        -2.65348775e+00],\n",
       "       [-1.08896735e+00, -6.28623463e-01, -1.43953727e+00,\n",
       "         6.57726702e-01, -6.30123917e-01,  1.23575279e-01,\n",
       "        -2.98018789e-01],\n",
       "       [ 5.56777966e-01,  4.56260963e-01,  6.31777208e-01,\n",
       "        -7.44369619e-01, -1.84580325e+00, -9.09913688e-01,\n",
       "        -2.24514369e+00],\n",
       "       [ 1.42262796e-01, -1.19546466e+00, -1.06826219e-01,\n",
       "        -1.60698938e+00, -5.14122748e-01, -9.90891945e-01,\n",
       "        -9.60872826e-01],\n",
       "       [-7.91652265e-01, -1.42926042e+00, -9.50667129e-01,\n",
       "        -3.92736135e-01, -2.00282367e-01, -1.27545037e+00,\n",
       "        -3.50413363e-01],\n",
       "       [-2.25320494e-01, -7.46154941e-01, -1.60168719e+00,\n",
       "        -2.01194199e+00, -3.47545771e-01, -8.56039556e-01,\n",
       "        -3.00527840e-01],\n",
       "       [-1.43808561e+00,  7.53495853e-02, -1.50988038e+00,\n",
       "        -1.52359444e-01,  6.00687026e-01, -8.04878491e-02,\n",
       "        -5.96911609e-01],\n",
       "       [-4.46218900e-01, -1.48964413e+00, -1.23109926e+00,\n",
       "         4.33510109e-02,  4.92437191e-01, -8.50458334e-01,\n",
       "        -8.07014754e-01],\n",
       "       [-1.48155125e+00, -1.02176508e+00, -1.07205387e+00,\n",
       "        -1.25522526e+00,  1.62498098e+00, -2.36650397e-01,\n",
       "        -2.83931274e-01],\n",
       "       [-1.53660484e+00,  6.08169769e-01, -1.14782720e+00,\n",
       "         3.72270086e-01, -3.17961567e-01,  9.97216685e-01,\n",
       "        -1.28056544e+00],\n",
       "       [-1.21812947e+00, -2.20486977e-01, -8.31886416e-01,\n",
       "        -3.05670103e-01,  3.28166034e-01,  1.48386508e-01,\n",
       "        -1.25033752e+00],\n",
       "       [ 7.16957490e-01, -5.50703757e-01, -8.37767717e-01,\n",
       "        -6.52266969e-01,  3.92867268e-01, -1.59204068e+00,\n",
       "        -2.06643611e+00],\n",
       "       [-1.79465971e+00, -1.09925859e+00, -1.26963263e+00,\n",
       "         5.27849742e-01,  1.08931135e+00, -1.37836838e-02,\n",
       "        -4.34555030e-01],\n",
       "       [-1.00087585e+00, -1.60450094e+00, -1.33610595e-01,\n",
       "         2.11932024e+00, -3.22029870e-01,  2.00460150e+00,\n",
       "        -2.09719156e+00],\n",
       "       [-1.38810415e+00, -9.01984819e-02, -1.01139476e+00,\n",
       "        -5.84667829e-01, -6.38651790e-01,  1.49154579e+00,\n",
       "        -1.36739542e+00],\n",
       "       [-1.54199164e+00, -1.47267639e+00, -7.17788480e-01,\n",
       "        -1.49068223e+00, -1.47255902e-01,  2.02109343e-01,\n",
       "        -4.87146261e-01],\n",
       "       [-1.26833259e+00, -1.14476576e+00, -1.63915884e+00,\n",
       "        -1.21761205e+00, -7.44505288e-01, -1.27531447e-01,\n",
       "        -3.12747941e-01],\n",
       "       [-1.60696301e+00, -2.06315042e+00, -1.42394365e+00,\n",
       "        -2.35936073e-01,  5.66427370e-01,  9.57498708e-01,\n",
       "        -2.19997182e-01],\n",
       "       [-9.89162760e-01, -1.10497021e+00, -1.63529205e+00,\n",
       "         4.62150615e-01,  1.38872767e+00,  7.33471953e-02,\n",
       "        -1.29990612e+00],\n",
       "       [-1.44338006e+00, -7.82104205e-01, -1.34135266e+00,\n",
       "        -1.05047797e-01,  6.76673913e-01,  2.47170986e-01,\n",
       "        -1.21135091e+00],\n",
       "       [-1.88444816e+00, -2.18090640e+00, -1.46503039e+00,\n",
       "        -1.92838032e+00,  2.14023762e-01,  2.44299093e-02,\n",
       "        -5.21162788e-01]])"
      ]
     },
     "execution_count": 489,
     "metadata": {},
     "output_type": "execute_result"
    }
   ],
   "source": [
    "x"
   ]
  },
  {
   "cell_type": "code",
   "execution_count": 490,
   "id": "c59c10e0",
   "metadata": {},
   "outputs": [
    {
     "data": {
      "text/plain": [
       "array([[ 1.30880284e+00,  1.15490454e+00,  1.50036067e+00,\n",
       "         3.22094220e-02, -2.13943871e-01,  1.38276123e+00,\n",
       "         1.91218867e+00],\n",
       "       [ 3.73957841e-01,  1.24328315e+00,  1.16759491e+00,\n",
       "         1.85856773e+00,  3.05649478e-01,  6.42125299e-01,\n",
       "         2.08816132e+00],\n",
       "       [ 1.71655635e+00,  1.63182009e+00,  1.35234432e+00,\n",
       "         1.77406294e+00,  1.48118947e+00,  1.37510630e+00,\n",
       "         8.22209381e-01],\n",
       "       [ 1.93963786e+00,  1.30243213e+00,  1.17676082e+00,\n",
       "         1.09475386e+00,  1.12373271e+00,  1.98368553e+00,\n",
       "         7.77332756e-01],\n",
       "       [ 1.60419976e+00,  1.55533539e+00,  1.39142204e+00,\n",
       "         1.42350690e+00,  1.91056031e+00,  3.01519309e-01,\n",
       "         5.92564837e-01],\n",
       "       [ 6.63216174e-01,  1.35965244e+00,  3.89872739e-01,\n",
       "         1.53371458e-01,  3.89132711e-01, -1.73062257e+00,\n",
       "         2.11602627e+00],\n",
       "       [ 7.28062097e-01,  9.96919963e-01,  7.97581093e-01,\n",
       "         1.06161401e+00,  7.03719119e-02,  5.32526539e-01,\n",
       "         1.43857410e+00],\n",
       "       [ 1.68082870e+00,  1.64758365e+00,  1.36132394e+00,\n",
       "         1.68898341e+00,  1.83825103e+00,  9.14200261e-01,\n",
       "         1.66670235e-02],\n",
       "       [ 8.77034314e-01,  5.59505226e-01,  1.15736208e+00,\n",
       "         2.47795392e-01,  6.82462122e-01,  1.40013210e+00,\n",
       "         1.10026630e+00],\n",
       "       [ 1.49096443e+00,  1.38841669e+00,  1.70801751e+00,\n",
       "         1.12909219e+00,  1.70896653e+00, -8.57562447e-01,\n",
       "         1.99926054e-01],\n",
       "       [ 6.94299421e-01,  1.30964611e+00,  7.45317612e-01,\n",
       "         3.13303662e-01, -7.76092767e-02, -9.70241472e-01,\n",
       "         1.41405168e+00],\n",
       "       [ 1.12942088e+00,  1.04575484e+00,  1.07537211e+00,\n",
       "         4.22434901e-01, -1.37051478e+00, -1.06950273e+00,\n",
       "         1.10411590e+00],\n",
       "       [ 7.21748098e-01,  1.06104516e+00,  8.82293725e-01,\n",
       "         1.59050348e+00,  2.10836320e+00,  4.07223370e-01,\n",
       "         4.12012412e-01],\n",
       "       [ 2.56384612e-01,  1.25797202e+00,  2.40345844e-01,\n",
       "         9.99307832e-01, -7.78011740e-01, -1.25813095e-01,\n",
       "         1.45604849e+00],\n",
       "       [ 1.31444074e+00,  1.74592971e+00,  1.77341924e+00,\n",
       "         3.89880964e-01, -4.98403419e-01, -1.45772118e-01,\n",
       "         3.19422644e-02],\n",
       "       [ 1.54053149e+00,  2.91681652e-01,  1.25891817e+00,\n",
       "        -8.66046700e-02, -1.46280371e-01,  6.29741209e-01,\n",
       "         4.15504593e-01],\n",
       "       [ 5.01670832e-01, -2.40745139e-01, -1.46702913e-01,\n",
       "         1.52865214e+00,  7.99820681e-01, -2.89215882e-01,\n",
       "         1.32559520e+00],\n",
       "       [ 1.24777955e+00,  9.05847025e-01, -1.17107611e-01,\n",
       "         1.20310691e+00, -1.77146237e+00,  1.26062711e+00,\n",
       "         3.10631821e-01],\n",
       "       [-2.05955965e-01,  2.29360646e-02,  1.74765109e-01,\n",
       "        -4.08914914e-02,  5.07260681e-01, -1.06871901e+00,\n",
       "         1.80624926e+00],\n",
       "       [-2.60214484e-01,  1.18472471e-01,  1.73104349e-02,\n",
       "         1.36149351e+00,  1.07521321e-01,  8.42706420e-01,\n",
       "         1.23074864e+00],\n",
       "       [ 1.09350764e+00,  1.45138644e+00,  7.55247028e-01,\n",
       "        -6.63639598e-01, -1.17557470e+00, -3.00715805e-01,\n",
       "         2.67462603e-01],\n",
       "       [ 1.46465053e+00,  1.36718939e+00,  2.01531805e+00,\n",
       "         6.82492814e-01,  1.40587892e+00, -1.06702122e+00,\n",
       "        -8.01379961e-01],\n",
       "       [ 1.36772364e+00, -3.08980900e-01,  1.83903834e+00,\n",
       "        -5.61393257e-01, -1.99689413e-01, -1.07967368e-01,\n",
       "         2.16297058e-01],\n",
       "       [ 8.79633279e-02, -1.08378846e-01,  7.64863360e-01,\n",
       "         5.98484381e-01,  1.40959376e+00, -9.58650968e-01,\n",
       "         8.34304586e-01],\n",
       "       [ 1.39183667e+00,  9.92443962e-01,  1.76566557e+00,\n",
       "        -1.03865107e+00, -1.30737397e+00,  3.62902083e-01,\n",
       "        -1.56239794e-01],\n",
       "       [-4.38936942e-01, -2.09714988e-01, -4.39853431e-01,\n",
       "         1.33401006e+00, -1.74513216e-02,  1.14510508e-01,\n",
       "         1.38918581e+00],\n",
       "       [-6.69633967e-01, -2.68739831e-02, -1.01696616e-01,\n",
       "        -5.88892235e-01, -1.64217401e+00,  1.60263924e-01,\n",
       "         1.94899372e+00],\n",
       "       [-2.19399039e-01,  1.68425318e+00,  9.60259897e-02,\n",
       "         1.03552601e+00, -1.24295389e-01,  1.47927371e+00,\n",
       "         1.57102921e-01],\n",
       "       [ 9.30368724e-01,  5.47803462e-01,  1.46578250e-02,\n",
       "         8.48639993e-01, -8.33676187e-02, -9.21939685e-01,\n",
       "         2.69194041e-01],\n",
       "       [ 1.15090134e+00,  1.47684564e+00,  1.24710535e+00,\n",
       "         1.63394710e+00, -1.08898496e+00,  6.24822053e-01,\n",
       "        -9.29879793e-01],\n",
       "       [ 1.01677641e+00,  1.36933509e+00,  4.45302845e-01,\n",
       "        -1.35561490e+00, -1.80157516e+00, -2.20061840e+00,\n",
       "         6.53876346e-01],\n",
       "       [-6.72809796e-01,  6.59176142e-01,  5.07239146e-01,\n",
       "         1.16836985e+00,  1.55744204e+00,  8.74951851e-01,\n",
       "         4.17125354e-01],\n",
       "       [ 1.98989634e-01, -2.28234007e-01,  4.39551253e-01,\n",
       "         4.56264878e-02, -5.85996428e-01, -5.28783788e-01,\n",
       "         9.41527364e-01],\n",
       "       [ 6.22132438e-01,  1.21152923e+00,  4.70263416e-01,\n",
       "        -2.20271868e-01,  1.53068065e+00, -1.02262543e+00,\n",
       "         4.57860953e-02],\n",
       "       [ 9.40847175e-01,  1.51415077e+00,  7.00095893e-01,\n",
       "         9.70620041e-01, -9.87601021e-01, -3.16470654e-01,\n",
       "        -4.59409856e-01],\n",
       "       [ 9.38443773e-01,  2.59678813e-01,  4.07412616e-01,\n",
       "         9.62461288e-01,  2.91376254e-01,  1.37392076e+00,\n",
       "        -4.21970635e-01],\n",
       "       [ 7.92586918e-01, -1.00802047e+00,  7.49863705e-01,\n",
       "        -1.06200981e+00, -1.42747993e+00, -1.78741972e+00,\n",
       "         1.25345161e+00],\n",
       "       [ 9.61431163e-01,  5.26339971e-01,  3.05165731e-01,\n",
       "         5.86835702e-02,  3.81311732e-01, -1.37965225e-01,\n",
       "        -3.12132426e-02],\n",
       "       [ 9.83090734e-01,  1.23238390e+00,  1.35601994e-01,\n",
       "        -3.12444548e-01, -1.28123477e+00, -2.57896380e+00,\n",
       "         3.20491099e-01],\n",
       "       [-7.26024751e-02,  7.12578902e-01,  2.23799231e-01,\n",
       "         7.49726211e-01, -1.46139483e+00,  1.90851736e-01,\n",
       "         4.10005964e-01],\n",
       "       [ 1.23410260e+00,  2.58873282e-01,  1.56264168e+00,\n",
       "         6.34956115e-01,  8.96067563e-01,  7.10481493e-01,\n",
       "        -9.61602436e-01],\n",
       "       [ 1.23435633e+00, -6.04414907e-01,  1.56264168e+00,\n",
       "        -1.66659437e-02, -5.52166444e-01,  1.14761579e+00,\n",
       "        -4.14577503e-01],\n",
       "       [ 3.21508243e-01,  3.00065930e-01, -1.04397349e-01,\n",
       "        -8.81646809e-01,  1.32073507e+00, -1.45330614e+00,\n",
       "         6.25972255e-01],\n",
       "       [-9.87719648e-02, -9.45651571e-01, -4.23906373e-02,\n",
       "        -1.13652587e+00, -8.64354258e-01,  9.23607963e-01,\n",
       "         1.27628098e+00],\n",
       "       [ 5.41823366e-01, -1.76553108e-01,  3.33849064e-01,\n",
       "         1.21859918e+00, -2.66633297e-01,  1.78566791e+00,\n",
       "        -6.56296549e-01],\n",
       "       [ 1.03267241e+00,  1.17999492e+00,  6.70443487e-01,\n",
       "         3.06592099e-01,  1.02592103e+00, -1.33625667e+00,\n",
       "        -9.82287699e-01],\n",
       "       [-5.71108998e-01, -5.19375052e-01,  5.26320150e-01,\n",
       "         1.51002852e+00,  2.80897717e-01, -3.04592461e-01,\n",
       "         1.81620820e-01],\n",
       "       [ 7.19453575e-01, -3.62840710e-01,  4.47584888e-01,\n",
       "        -1.26177307e+00,  1.10403215e+00, -8.67596074e-01,\n",
       "        -4.14983819e-02],\n",
       "       [-9.67946464e-01,  7.13338778e-01,  4.83058589e-02,\n",
       "         1.97147790e-01, -9.82882495e-01,  1.08986669e+00,\n",
       "         2.41132949e-01],\n",
       "       [-5.11966284e-01, -5.54992789e-01, -1.61696435e+00,\n",
       "        -4.81463373e-01, -1.03075536e+00,  8.17271916e-01,\n",
       "         1.52650826e+00],\n",
       "       [ 5.95493751e-01, -4.01967762e-01, -3.37362358e-04,\n",
       "        -2.86847948e-01,  1.14750479e+00, -1.45646884e+00,\n",
       "        -2.02837569e-01],\n",
       "       [ 2.04541831e-01,  1.72843933e-01,  2.68175978e-01,\n",
       "        -1.74946077e-02,  8.97972675e-01, -1.02171687e+00,\n",
       "        -4.32299962e-01],\n",
       "       [ 4.33673423e-01, -5.49407173e-01,  4.13944504e-01,\n",
       "        -1.54763910e+00,  8.98412157e-01, -3.89708718e-01,\n",
       "        -1.30271349e-02],\n",
       "       [ 1.67856030e-01, -3.60825317e-01,  9.10763337e-01,\n",
       "         8.52592930e-01, -1.33770464e+00, -1.40356427e+00,\n",
       "        -4.69351576e-01],\n",
       "       [-9.77218408e-01, -5.01941114e-01, -1.26346720e+00,\n",
       "         6.18837615e-01,  6.19204199e-01,  9.16989705e-03,\n",
       "         1.01913369e+00],\n",
       "       [ 6.60573991e-01, -6.36454421e-01,  6.44828719e-01,\n",
       "        -4.28931239e-01, -1.90844382e+00, -6.80024548e-01,\n",
       "        -3.34918001e-01],\n",
       "       [ 2.62400313e-01, -5.53277655e-02,  5.34780118e-01,\n",
       "        -1.43326324e+00, -1.37945354e+00, -3.13880983e-02,\n",
       "        -1.56583018e-01],\n",
       "       [ 1.06155689e+00,  6.44777991e-01,  1.25824422e+00,\n",
       "         8.33829657e-01, -1.78857017e+00, -6.83617316e-01,\n",
       "        -1.58167604e+00],\n",
       "       [ 8.97675542e-01,  3.97896443e-01,  4.09623075e-01,\n",
       "        -8.07304143e-01, -5.12420636e-01, -1.45886991e-01,\n",
       "        -9.18045027e-01],\n",
       "       [-3.72968058e-01,  7.48323952e-02, -2.64874600e-01,\n",
       "         1.78406930e+00,  5.88983254e-01,  5.90181751e-01,\n",
       "        -6.71091852e-01],\n",
       "       [-2.90598367e-01, -1.56122816e+00, -1.40741862e-01,\n",
       "         6.04309974e-02, -6.57347341e-02, -1.54319643e+00,\n",
       "         6.67911440e-01],\n",
       "       [ 2.56071466e-01, -9.19948728e-02,  4.66979106e-01,\n",
       "        -5.43786332e-01, -7.31528622e-01,  3.13239138e-01,\n",
       "        -6.97973689e-01],\n",
       "       [-1.77118677e+00,  2.90270142e-02, -1.76205721e+00,\n",
       "        -5.02623388e-01,  1.08434272e+00,  3.03563681e-01,\n",
       "         1.83862189e+00],\n",
       "       [ 1.32664985e-01, -9.76074861e-01,  8.91708342e-01,\n",
       "        -3.81044984e-01, -4.95223948e-01, -6.15413291e-01,\n",
       "        -3.96316786e-01],\n",
       "       [-1.19503179e+00,  1.05286675e-01, -1.79165372e+00,\n",
       "        -6.62524002e-01,  6.24930873e-01, -3.60274963e-01,\n",
       "         1.34007375e+00],\n",
       "       [ 1.84066072e-01,  8.36649335e-01,  1.30752452e-01,\n",
       "         1.35623297e+00,  8.89317405e-01,  2.40333067e-01,\n",
       "        -1.67636163e+00],\n",
       "       [-6.79488771e-01, -1.22838094e+00, -3.99474295e-01,\n",
       "         1.52287830e+00,  2.07914470e+00,  2.15338156e+00,\n",
       "        -7.00497080e-01],\n",
       "       [-1.98310235e-02,  1.65591944e+00, -1.71149658e-01,\n",
       "         2.08645183e-01, -1.36694368e+00,  1.38804129e+00,\n",
       "        -1.42877123e+00],\n",
       "       [-3.54259041e-01,  2.73715709e-01, -1.79253651e+00,\n",
       "        -7.39469622e-01, -1.26746618e+00, -1.42097196e-01,\n",
       "         7.31988499e-01],\n",
       "       [ 6.01289839e-01, -9.93191473e-01,  1.04373150e+00,\n",
       "        -5.11228258e-01, -9.01060063e-01,  2.58768795e-01,\n",
       "        -1.01449044e+00],\n",
       "       [ 9.24805073e-01,  1.01934929e+00,  5.91719535e-01,\n",
       "        -6.38429993e-01, -1.34353893e+00, -7.98403821e-01,\n",
       "        -1.62555519e+00],\n",
       "       [-6.67463643e-01, -3.29153673e-01,  2.61770854e-01,\n",
       "        -5.60553772e-02, -4.08792295e-01,  3.84621043e-01,\n",
       "        -5.00241472e-01],\n",
       "       [-1.16157565e+00, -7.66326394e-01, -2.96252143e-01,\n",
       "         4.89936027e-01,  1.01011807e+00,  3.78985128e-01,\n",
       "         1.34135339e-02],\n",
       "       [ 1.40206914e-01, -1.67615197e+00,  4.79922220e-01,\n",
       "        -1.03652973e+00, -5.06893338e-01, -1.64697709e+00,\n",
       "         3.38376551e-02],\n",
       "       [-6.58796352e-01, -4.58885078e-01,  9.20814795e-02,\n",
       "        -1.15284634e+00,  6.88084494e-01, -9.96063613e-01,\n",
       "        -1.20644969e-01],\n",
       "       [-1.14571927e+00, -2.14525575e+00, -1.75735922e-01,\n",
       "        -5.50919353e-03,  6.35246759e-01,  1.89976578e-01,\n",
       "         7.92021942e-01],\n",
       "       [ 5.45731167e-01, -1.85159686e+00,  2.76433215e-01,\n",
       "        -7.82495248e-01, -6.13334439e-01,  1.81476044e+00,\n",
       "        -7.82497645e-01],\n",
       "       [-1.05835220e-01,  1.02322897e+00,  1.57959964e-01,\n",
       "        -1.11203815e+00, -1.29227702e+00, -4.93337206e-01,\n",
       "        -1.01297716e+00],\n",
       "       [ 4.69622878e-01, -9.17889952e-01, -1.72517368e-01,\n",
       "        -2.56673536e+00,  8.23136167e-01, -1.80896328e-01,\n",
       "        -2.93000264e-01],\n",
       "       [ 2.62274922e-01,  9.12738759e-01, -1.32597057e+00,\n",
       "        -5.61463889e-01, -1.61133471e-03, -9.03269467e-01,\n",
       "        -7.35187358e-01],\n",
       "       [-7.93928534e-01, -1.43396692e+00, -9.48401544e-01,\n",
       "         1.10029956e-01, -9.53966125e-01,  3.90995613e-01,\n",
       "         3.88422348e-01],\n",
       "       [-1.41724205e+00,  6.24366743e-02, -1.15948528e+00,\n",
       "        -1.06346303e+00, -1.56046170e-01, -5.90134643e-02,\n",
       "         6.44999704e-01],\n",
       "       [-1.79158890e+00, -1.03366021e+00, -1.13750007e+00,\n",
       "        -8.84897564e-01, -5.33744669e-01,  5.25037046e-01,\n",
       "         1.29882511e+00],\n",
       "       [-8.54713327e-01, -3.31448984e-02, -1.05426232e+00,\n",
       "        -2.02905043e+00,  9.51296656e-01, -5.05103081e-02,\n",
       "         1.94758408e-01],\n",
       "       [-1.90896202e+00, -9.75790813e-02, -1.74862589e+00,\n",
       "        -1.27523361e+00, -2.45797139e-01,  5.73981418e-01,\n",
       "         1.47521913e+00],\n",
       "       [-1.22911698e+00, -7.28767815e-01, -3.17634181e-01,\n",
       "        -1.94913345e-01, -6.03768738e-01,  1.30246525e+00,\n",
       "        -2.87258685e-01],\n",
       "       [-1.57562468e+00, -1.67685495e+00, -8.13767619e-01,\n",
       "         1.95065880e-01,  1.00672137e+00,  5.21184989e-01,\n",
       "         6.58276454e-01],\n",
       "       [-1.29345356e+00, -3.18605861e-01, -1.92727864e+00,\n",
       "        -4.00046040e-03, -2.00974650e-02,  2.19015319e-01,\n",
       "         7.77293901e-01],\n",
       "       [-1.01571726e+00, -7.09154486e-01, -1.08588326e+00,\n",
       "        -1.17023384e+00,  1.33067435e+00,  2.63748667e-01,\n",
       "         2.05715053e-02],\n",
       "       [-1.21872268e+00, -1.09720784e-01, -9.04543580e-01,\n",
       "         1.00332856e-01, -6.18560756e-01,  1.76841833e+00,\n",
       "        -6.10841071e-01],\n",
       "       [-1.95410577e-01, -1.08221283e+00,  4.38153383e-01,\n",
       "        -1.44949060e+00, -1.06181949e+00, -1.44877067e+00,\n",
       "        -6.61423673e-01],\n",
       "       [ 4.95834618e-01,  4.47899514e-01, -1.84461914e+00,\n",
       "         6.72773466e-01,  6.20159302e-01, -1.09895234e+00,\n",
       "        -1.21716719e+00],\n",
       "       [ 1.20683232e-03, -7.75593910e-03,  3.26583847e-01,\n",
       "         1.02104099e+00,  5.35200756e-02,  2.04302857e+00,\n",
       "        -2.65348775e+00],\n",
       "       [-1.08896735e+00, -6.28623463e-01, -1.43953727e+00,\n",
       "         6.57726702e-01, -6.30123917e-01,  1.23575279e-01,\n",
       "        -2.98018789e-01],\n",
       "       [ 5.56777966e-01,  4.56260963e-01,  6.31777208e-01,\n",
       "        -7.44369619e-01, -1.84580325e+00, -9.09913688e-01,\n",
       "        -2.24514369e+00],\n",
       "       [ 1.42262796e-01, -1.19546466e+00, -1.06826219e-01,\n",
       "        -1.60698938e+00, -5.14122748e-01, -9.90891945e-01,\n",
       "        -9.60872826e-01],\n",
       "       [-7.91652265e-01, -1.42926042e+00, -9.50667129e-01,\n",
       "        -3.92736135e-01, -2.00282367e-01, -1.27545037e+00,\n",
       "        -3.50413363e-01],\n",
       "       [-2.25320494e-01, -7.46154941e-01, -1.60168719e+00,\n",
       "        -2.01194199e+00, -3.47545771e-01, -8.56039556e-01,\n",
       "        -3.00527840e-01],\n",
       "       [-1.43808561e+00,  7.53495853e-02, -1.50988038e+00,\n",
       "        -1.52359444e-01,  6.00687026e-01, -8.04878491e-02,\n",
       "        -5.96911609e-01],\n",
       "       [-4.46218900e-01, -1.48964413e+00, -1.23109926e+00,\n",
       "         4.33510109e-02,  4.92437191e-01, -8.50458334e-01,\n",
       "        -8.07014754e-01],\n",
       "       [-1.48155125e+00, -1.02176508e+00, -1.07205387e+00,\n",
       "        -1.25522526e+00,  1.62498098e+00, -2.36650397e-01,\n",
       "        -2.83931274e-01],\n",
       "       [-1.53660484e+00,  6.08169769e-01, -1.14782720e+00,\n",
       "         3.72270086e-01, -3.17961567e-01,  9.97216685e-01,\n",
       "        -1.28056544e+00],\n",
       "       [-1.21812947e+00, -2.20486977e-01, -8.31886416e-01,\n",
       "        -3.05670103e-01,  3.28166034e-01,  1.48386508e-01,\n",
       "        -1.25033752e+00],\n",
       "       [ 7.16957490e-01, -5.50703757e-01, -8.37767717e-01,\n",
       "        -6.52266969e-01,  3.92867268e-01, -1.59204068e+00,\n",
       "        -2.06643611e+00],\n",
       "       [-1.79465971e+00, -1.09925859e+00, -1.26963263e+00,\n",
       "         5.27849742e-01,  1.08931135e+00, -1.37836838e-02,\n",
       "        -4.34555030e-01],\n",
       "       [-1.00087585e+00, -1.60450094e+00, -1.33610595e-01,\n",
       "         2.11932024e+00, -3.22029870e-01,  2.00460150e+00,\n",
       "        -2.09719156e+00],\n",
       "       [-1.38810415e+00, -9.01984819e-02, -1.01139476e+00,\n",
       "        -5.84667829e-01, -6.38651790e-01,  1.49154579e+00,\n",
       "        -1.36739542e+00],\n",
       "       [-1.54199164e+00, -1.47267639e+00, -7.17788480e-01,\n",
       "        -1.49068223e+00, -1.47255902e-01,  2.02109343e-01,\n",
       "        -4.87146261e-01],\n",
       "       [-1.26833259e+00, -1.14476576e+00, -1.63915884e+00,\n",
       "        -1.21761205e+00, -7.44505288e-01, -1.27531447e-01,\n",
       "        -3.12747941e-01],\n",
       "       [-1.60696301e+00, -2.06315042e+00, -1.42394365e+00,\n",
       "        -2.35936073e-01,  5.66427370e-01,  9.57498708e-01,\n",
       "        -2.19997182e-01],\n",
       "       [-9.89162760e-01, -1.10497021e+00, -1.63529205e+00,\n",
       "         4.62150615e-01,  1.38872767e+00,  7.33471953e-02,\n",
       "        -1.29990612e+00],\n",
       "       [-1.44338006e+00, -7.82104205e-01, -1.34135266e+00,\n",
       "        -1.05047797e-01,  6.76673913e-01,  2.47170986e-01,\n",
       "        -1.21135091e+00],\n",
       "       [-1.88444816e+00, -2.18090640e+00, -1.46503039e+00,\n",
       "        -1.92838032e+00,  2.14023762e-01,  2.44299093e-02,\n",
       "        -5.21162788e-01]])"
      ]
     },
     "execution_count": 490,
     "metadata": {},
     "output_type": "execute_result"
    }
   ],
   "source": [
    "from sklearn.preprocessing import StandardScaler\n",
    "sc=StandardScaler()\n",
    "x=sc.fit_transform(x)\n",
    "x"
   ]
  },
  {
   "cell_type": "code",
   "execution_count": 491,
   "id": "35a42349",
   "metadata": {},
   "outputs": [
    {
     "data": {
      "text/plain": [
       "2.2457102900129587e-17"
      ]
     },
     "execution_count": 491,
     "metadata": {},
     "output_type": "execute_result"
    }
   ],
   "source": [
    "x.mean()"
   ]
  },
  {
   "cell_type": "code",
   "execution_count": 492,
   "id": "550c45be",
   "metadata": {},
   "outputs": [
    {
     "data": {
      "text/plain": [
       "1.0"
      ]
     },
     "execution_count": 492,
     "metadata": {},
     "output_type": "execute_result"
    }
   ],
   "source": [
    "x.std()"
   ]
  },
  {
   "cell_type": "code",
   "execution_count": 493,
   "id": "dd44ae9a",
   "metadata": {},
   "outputs": [],
   "source": [
    "x_data = pd.DataFrame(x,columns = ['Economy (GDP per Capita)', 'Family','Health (Life Expectancy)', 'Freedom', 'Trust (Government Corruption)','Generosity', 'Dystopia Residual'])"
   ]
  },
  {
   "cell_type": "code",
   "execution_count": 494,
   "id": "8f142aca",
   "metadata": {},
   "outputs": [
    {
     "data": {
      "text/html": [
       "<div>\n",
       "<style scoped>\n",
       "    .dataframe tbody tr th:only-of-type {\n",
       "        vertical-align: middle;\n",
       "    }\n",
       "\n",
       "    .dataframe tbody tr th {\n",
       "        vertical-align: top;\n",
       "    }\n",
       "\n",
       "    .dataframe thead th {\n",
       "        text-align: right;\n",
       "    }\n",
       "</style>\n",
       "<table border=\"1\" class=\"dataframe\">\n",
       "  <thead>\n",
       "    <tr style=\"text-align: right;\">\n",
       "      <th></th>\n",
       "      <th>Economy (GDP per Capita)</th>\n",
       "      <th>Family</th>\n",
       "      <th>Health (Life Expectancy)</th>\n",
       "      <th>Freedom</th>\n",
       "      <th>Trust (Government Corruption)</th>\n",
       "      <th>Generosity</th>\n",
       "      <th>Dystopia Residual</th>\n",
       "    </tr>\n",
       "  </thead>\n",
       "  <tbody>\n",
       "    <tr>\n",
       "      <th>0</th>\n",
       "      <td>1.308803</td>\n",
       "      <td>1.154905</td>\n",
       "      <td>1.500361</td>\n",
       "      <td>0.032209</td>\n",
       "      <td>-0.213944</td>\n",
       "      <td>1.382761</td>\n",
       "      <td>1.912189</td>\n",
       "    </tr>\n",
       "    <tr>\n",
       "      <th>1</th>\n",
       "      <td>0.373958</td>\n",
       "      <td>1.243283</td>\n",
       "      <td>1.167595</td>\n",
       "      <td>1.858568</td>\n",
       "      <td>0.305649</td>\n",
       "      <td>0.642125</td>\n",
       "      <td>2.088161</td>\n",
       "    </tr>\n",
       "    <tr>\n",
       "      <th>2</th>\n",
       "      <td>1.716556</td>\n",
       "      <td>1.631820</td>\n",
       "      <td>1.352344</td>\n",
       "      <td>1.774063</td>\n",
       "      <td>1.481189</td>\n",
       "      <td>1.375106</td>\n",
       "      <td>0.822209</td>\n",
       "    </tr>\n",
       "    <tr>\n",
       "      <th>3</th>\n",
       "      <td>1.939638</td>\n",
       "      <td>1.302432</td>\n",
       "      <td>1.176761</td>\n",
       "      <td>1.094754</td>\n",
       "      <td>1.123733</td>\n",
       "      <td>1.983686</td>\n",
       "      <td>0.777333</td>\n",
       "    </tr>\n",
       "    <tr>\n",
       "      <th>4</th>\n",
       "      <td>1.604200</td>\n",
       "      <td>1.555335</td>\n",
       "      <td>1.391422</td>\n",
       "      <td>1.423507</td>\n",
       "      <td>1.910560</td>\n",
       "      <td>0.301519</td>\n",
       "      <td>0.592565</td>\n",
       "    </tr>\n",
       "    <tr>\n",
       "      <th>...</th>\n",
       "      <td>...</td>\n",
       "      <td>...</td>\n",
       "      <td>...</td>\n",
       "      <td>...</td>\n",
       "      <td>...</td>\n",
       "      <td>...</td>\n",
       "      <td>...</td>\n",
       "    </tr>\n",
       "    <tr>\n",
       "      <th>108</th>\n",
       "      <td>-1.268333</td>\n",
       "      <td>-1.144766</td>\n",
       "      <td>-1.639159</td>\n",
       "      <td>-1.217612</td>\n",
       "      <td>-0.744505</td>\n",
       "      <td>-0.127531</td>\n",
       "      <td>-0.312748</td>\n",
       "    </tr>\n",
       "    <tr>\n",
       "      <th>109</th>\n",
       "      <td>-1.606963</td>\n",
       "      <td>-2.063150</td>\n",
       "      <td>-1.423944</td>\n",
       "      <td>-0.235936</td>\n",
       "      <td>0.566427</td>\n",
       "      <td>0.957499</td>\n",
       "      <td>-0.219997</td>\n",
       "    </tr>\n",
       "    <tr>\n",
       "      <th>110</th>\n",
       "      <td>-0.989163</td>\n",
       "      <td>-1.104970</td>\n",
       "      <td>-1.635292</td>\n",
       "      <td>0.462151</td>\n",
       "      <td>1.388728</td>\n",
       "      <td>0.073347</td>\n",
       "      <td>-1.299906</td>\n",
       "    </tr>\n",
       "    <tr>\n",
       "      <th>111</th>\n",
       "      <td>-1.443380</td>\n",
       "      <td>-0.782104</td>\n",
       "      <td>-1.341353</td>\n",
       "      <td>-0.105048</td>\n",
       "      <td>0.676674</td>\n",
       "      <td>0.247171</td>\n",
       "      <td>-1.211351</td>\n",
       "    </tr>\n",
       "    <tr>\n",
       "      <th>112</th>\n",
       "      <td>-1.884448</td>\n",
       "      <td>-2.180906</td>\n",
       "      <td>-1.465030</td>\n",
       "      <td>-1.928380</td>\n",
       "      <td>0.214024</td>\n",
       "      <td>0.024430</td>\n",
       "      <td>-0.521163</td>\n",
       "    </tr>\n",
       "  </tbody>\n",
       "</table>\n",
       "<p>113 rows × 7 columns</p>\n",
       "</div>"
      ],
      "text/plain": [
       "     Economy (GDP per Capita)    Family  Health (Life Expectancy)   Freedom  \\\n",
       "0                    1.308803  1.154905                  1.500361  0.032209   \n",
       "1                    0.373958  1.243283                  1.167595  1.858568   \n",
       "2                    1.716556  1.631820                  1.352344  1.774063   \n",
       "3                    1.939638  1.302432                  1.176761  1.094754   \n",
       "4                    1.604200  1.555335                  1.391422  1.423507   \n",
       "..                        ...       ...                       ...       ...   \n",
       "108                 -1.268333 -1.144766                 -1.639159 -1.217612   \n",
       "109                 -1.606963 -2.063150                 -1.423944 -0.235936   \n",
       "110                 -0.989163 -1.104970                 -1.635292  0.462151   \n",
       "111                 -1.443380 -0.782104                 -1.341353 -0.105048   \n",
       "112                 -1.884448 -2.180906                 -1.465030 -1.928380   \n",
       "\n",
       "     Trust (Government Corruption)  Generosity  Dystopia Residual  \n",
       "0                        -0.213944    1.382761           1.912189  \n",
       "1                         0.305649    0.642125           2.088161  \n",
       "2                         1.481189    1.375106           0.822209  \n",
       "3                         1.123733    1.983686           0.777333  \n",
       "4                         1.910560    0.301519           0.592565  \n",
       "..                             ...         ...                ...  \n",
       "108                      -0.744505   -0.127531          -0.312748  \n",
       "109                       0.566427    0.957499          -0.219997  \n",
       "110                       1.388728    0.073347          -1.299906  \n",
       "111                       0.676674    0.247171          -1.211351  \n",
       "112                       0.214024    0.024430          -0.521163  \n",
       "\n",
       "[113 rows x 7 columns]"
      ]
     },
     "execution_count": 494,
     "metadata": {},
     "output_type": "execute_result"
    }
   ],
   "source": [
    "x_data"
   ]
  },
  {
   "cell_type": "code",
   "execution_count": 495,
   "id": "bd47b57c",
   "metadata": {},
   "outputs": [],
   "source": [
    "y_data = y"
   ]
  },
  {
   "cell_type": "code",
   "execution_count": 496,
   "id": "86ee2ede",
   "metadata": {},
   "outputs": [
    {
     "data": {
      "text/plain": [
       "10     7.278\n",
       "11     7.226\n",
       "12     7.200\n",
       "14     7.119\n",
       "18     6.937\n",
       "       ...  \n",
       "148    3.667\n",
       "149    3.656\n",
       "150    3.655\n",
       "151    3.587\n",
       "156    2.905\n",
       "Name: Happiness Score, Length: 113, dtype: float64"
      ]
     },
     "execution_count": 496,
     "metadata": {},
     "output_type": "execute_result"
    }
   ],
   "source": [
    "y_data"
   ]
  },
  {
   "cell_type": "code",
   "execution_count": 497,
   "id": "c6424a38",
   "metadata": {},
   "outputs": [
    {
     "data": {
      "text/plain": [
       "<AxesSubplot:xlabel='Economy (GDP per Capita)', ylabel='Density'>"
      ]
     },
     "execution_count": 497,
     "metadata": {},
     "output_type": "execute_result"
    },
    {
     "data": {
      "image/png": "[encoded data removed]",
      "text/plain": [
       "<Figure size 432x288 with 1 Axes>"
      ]
     },
     "metadata": {
      "needs_background": "light"
     },
     "output_type": "display_data"
    }
   ],
   "source": [
    "sns.distplot(x_data['Economy (GDP per Capita)'])"
   ]
  },
  {
   "cell_type": "code",
   "execution_count": 498,
   "id": "d3d8b7b6",
   "metadata": {},
   "outputs": [
    {
     "data": {
      "text/plain": [
       "<AxesSubplot:xlabel='Family', ylabel='Density'>"
      ]
     },
     "execution_count": 498,
     "metadata": {},
     "output_type": "execute_result"
    },
    {
     "data": {
      "image/png": "[encoded data removed]",
      "text/plain": [
       "<Figure size 432x288 with 1 Axes>"
      ]
     },
     "metadata": {
      "needs_background": "light"
     },
     "output_type": "display_data"
    }
   ],
   "source": [
    "sns.distplot(x_data['Family'])"
   ]
  },
  {
   "cell_type": "code",
   "execution_count": 499,
   "id": "cfc78845",
   "metadata": {},
   "outputs": [
    {
     "data": {
      "text/plain": [
       "<AxesSubplot:xlabel='Health (Life Expectancy)', ylabel='Density'>"
      ]
     },
     "execution_count": 499,
     "metadata": {},
     "output_type": "execute_result"
    },
    {
     "data": {
      "image/png": "[encoded data removed]",
      "text/plain": [
       "<Figure size 432x288 with 1 Axes>"
      ]
     },
     "metadata": {
      "needs_background": "light"
     },
     "output_type": "display_data"
    }
   ],
   "source": [
    "sns.distplot(x_data['Health (Life Expectancy)'])"
   ]
  },
  {
   "cell_type": "code",
   "execution_count": 500,
   "id": "00c4110a",
   "metadata": {},
   "outputs": [
    {
     "data": {
      "text/plain": [
       "<AxesSubplot:xlabel='Freedom', ylabel='Density'>"
      ]
     },
     "execution_count": 500,
     "metadata": {},
     "output_type": "execute_result"
    },
    {
     "data": {
      "image/png": "[encoded data removed]",
      "text/plain": [
       "<Figure size 432x288 with 1 Axes>"
      ]
     },
     "metadata": {
      "needs_background": "light"
     },
     "output_type": "display_data"
    }
   ],
   "source": [
    "sns.distplot(x_data['Freedom'])"
   ]
  },
  {
   "cell_type": "code",
   "execution_count": 501,
   "id": "a5ea7c78",
   "metadata": {},
   "outputs": [
    {
     "data": {
      "text/plain": [
       "<AxesSubplot:xlabel='Trust (Government Corruption)', ylabel='Density'>"
      ]
     },
     "execution_count": 501,
     "metadata": {},
     "output_type": "execute_result"
    },
    {
     "data": {
      "image/png": "[encoded data removed]",
      "text/plain": [
       "<Figure size 432x288 with 1 Axes>"
      ]
     },
     "metadata": {
      "needs_background": "light"
     },
     "output_type": "display_data"
    }
   ],
   "source": [
    "sns.distplot(x_data['Trust (Government Corruption)'])"
   ]
  },
  {
   "cell_type": "code",
   "execution_count": 502,
   "id": "e96ab05a",
   "metadata": {},
   "outputs": [
    {
     "data": {
      "text/plain": [
       "<AxesSubplot:xlabel='Generosity', ylabel='Density'>"
      ]
     },
     "execution_count": 502,
     "metadata": {},
     "output_type": "execute_result"
    },
    {
     "data": {
      "image/png": "[encoded data removed]",
      "text/plain": [
       "<Figure size 432x288 with 1 Axes>"
      ]
     },
     "metadata": {
      "needs_background": "light"
     },
     "output_type": "display_data"
    }
   ],
   "source": [
    "sns.distplot(x_data['Generosity'])"
   ]
  },
  {
   "cell_type": "code",
   "execution_count": 503,
   "id": "5d85ba82",
   "metadata": {},
   "outputs": [
    {
     "data": {
      "text/plain": [
       "<AxesSubplot:xlabel='Dystopia Residual', ylabel='Density'>"
      ]
     },
     "execution_count": 503,
     "metadata": {},
     "output_type": "execute_result"
    },
    {
     "data": {
      "image/png": "[encoded data removed]",
      "text/plain": [
       "<Figure size 432x288 with 1 Axes>"
      ]
     },
     "metadata": {
      "needs_background": "light"
     },
     "output_type": "display_data"
    }
   ],
   "source": [
    "sns.distplot(x_data['Dystopia Residual'])"
   ]
  },
  {
   "cell_type": "code",
   "execution_count": 504,
   "id": "6ca889fc",
   "metadata": {},
   "outputs": [
    {
     "data": {
      "text/plain": [
       "<AxesSubplot:xlabel='Happiness Score', ylabel='Density'>"
      ]
     },
     "execution_count": 504,
     "metadata": {},
     "output_type": "execute_result"
    },
    {
     "data": {
      "image/png": "[encoded data removed]",
      "text/plain": [
       "<Figure size 432x288 with 1 Axes>"
      ]
     },
     "metadata": {
      "needs_background": "light"
     },
     "output_type": "display_data"
    }
   ],
   "source": [
    "sns.distplot(y)"
   ]
  },
  {
   "cell_type": "code",
   "execution_count": 505,
   "id": "2f3dacc4",
   "metadata": {},
   "outputs": [],
   "source": [
    "y_data=np.sqrt(y_data)"
   ]
  },
  {
   "cell_type": "code",
   "execution_count": 506,
   "id": "dbefbaf4",
   "metadata": {},
   "outputs": [
    {
     "data": {
      "text/plain": [
       "<AxesSubplot:xlabel='Happiness Score', ylabel='Density'>"
      ]
     },
     "execution_count": 506,
     "metadata": {},
     "output_type": "execute_result"
    },
    {
     "data": {
      "image/png": "[encoded data removed]",
      "text/plain": [
       "<Figure size 432x288 with 1 Axes>"
      ]
     },
     "metadata": {
      "needs_background": "light"
     },
     "output_type": "display_data"
    }
   ],
   "source": [
    "sns.distplot(y_data)"
   ]
  },
  {
   "cell_type": "markdown",
   "id": "257dd7f0",
   "metadata": {},
   "source": [
    "* we can see clearly skewness of data is removed"
   ]
  },
  {
   "cell_type": "markdown",
   "id": "a1c38ae6",
   "metadata": {},
   "source": [
    "### let's move to model building and training process"
   ]
  },
  {
   "cell_type": "code",
   "execution_count": 507,
   "id": "5871a147",
   "metadata": {},
   "outputs": [],
   "source": [
    "feature = x_data  \n",
    "target = y_data"
   ]
  },
  {
   "cell_type": "code",
   "execution_count": 508,
   "id": "b0558dbc",
   "metadata": {},
   "outputs": [],
   "source": [
    "from sklearn.preprocessing import MinMaxScaler\n",
    "mms=MinMaxScaler()\n",
    "from sklearn.linear_model import LinearRegression\n",
    "lr=LinearRegression()\n",
    "from sklearn.metrics import r2_score\n",
    "from sklearn.model_selection import train_test_split"
   ]
  },
  {
   "cell_type": "code",
   "execution_count": 509,
   "id": "e2fcf735",
   "metadata": {},
   "outputs": [
    {
     "name": "stdout",
     "output_type": "stream",
     "text": [
      "at random state 0,the training accuracy is : ,0.9857362977687897\n",
      "at random state 0,the testing accuracy is : ,0.9891823999100436\n",
      "\n",
      "\n",
      "at random state 1,the training accuracy is : ,0.9857914792840267\n",
      "at random state 1,the testing accuracy is : ,0.9873476074559303\n",
      "\n",
      "\n",
      "at random state 2,the training accuracy is : ,0.9866174490625549\n",
      "at random state 2,the testing accuracy is : ,0.9749362970419376\n",
      "\n",
      "\n",
      "at random state 3,the training accuracy is : ,0.9846214323508471\n",
      "at random state 3,the testing accuracy is : ,0.9917274326614992\n",
      "\n",
      "\n",
      "at random state 4,the training accuracy is : ,0.985822292509041\n",
      "at random state 4,the testing accuracy is : ,0.9883023061981486\n",
      "\n",
      "\n",
      "at random state 5,the training accuracy is : ,0.9862899721479501\n",
      "at random state 5,the testing accuracy is : ,0.9879740339158838\n",
      "\n",
      "\n",
      "at random state 6,the training accuracy is : ,0.9865235955267287\n",
      "at random state 6,the testing accuracy is : ,0.9862745430932378\n",
      "\n",
      "\n",
      "at random state 7,the training accuracy is : ,0.9854933621491546\n",
      "at random state 7,the testing accuracy is : ,0.9902627755497869\n",
      "\n",
      "\n",
      "at random state 8,the training accuracy is : ,0.9851115901907456\n",
      "at random state 8,the testing accuracy is : ,0.991231129253553\n",
      "\n",
      "\n",
      "at random state 9,the training accuracy is : ,0.9874955791357467\n",
      "at random state 9,the testing accuracy is : ,0.9792596775304865\n",
      "\n",
      "\n",
      "at random state 10,the training accuracy is : ,0.9870888979597918\n",
      "at random state 10,the testing accuracy is : ,0.983696780900027\n",
      "\n",
      "\n",
      "at random state 11,the training accuracy is : ,0.9869523585140029\n",
      "at random state 11,the testing accuracy is : ,0.9830038684929715\n",
      "\n",
      "\n",
      "at random state 12,the training accuracy is : ,0.9860438198965856\n",
      "at random state 12,the testing accuracy is : ,0.9867732495983669\n",
      "\n",
      "\n",
      "at random state 13,the training accuracy is : ,0.9874080781372185\n",
      "at random state 13,the testing accuracy is : ,0.9815811161908481\n",
      "\n",
      "\n",
      "at random state 14,the training accuracy is : ,0.987005215848529\n",
      "at random state 14,the testing accuracy is : ,0.9812408124287683\n",
      "\n",
      "\n",
      "at random state 15,the training accuracy is : ,0.9864361502368446\n",
      "at random state 15,the testing accuracy is : ,0.9847944827954226\n",
      "\n",
      "\n",
      "at random state 16,the training accuracy is : ,0.9860765867450804\n",
      "at random state 16,the testing accuracy is : ,0.9882866817540874\n",
      "\n",
      "\n",
      "at random state 17,the training accuracy is : ,0.9865170760570062\n",
      "at random state 17,the testing accuracy is : ,0.9872160889544316\n",
      "\n",
      "\n",
      "at random state 18,the training accuracy is : ,0.9896443017250277\n",
      "at random state 18,the testing accuracy is : ,0.9783702198907482\n",
      "\n",
      "\n",
      "at random state 19,the training accuracy is : ,0.9859892013728255\n",
      "at random state 19,the testing accuracy is : ,0.9892020016466069\n",
      "\n",
      "\n",
      "at random state 20,the training accuracy is : ,0.9859092329221715\n",
      "at random state 20,the testing accuracy is : ,0.9877833204556642\n",
      "\n",
      "\n",
      "at random state 21,the training accuracy is : ,0.9855703591650614\n",
      "at random state 21,the testing accuracy is : ,0.9906099624875919\n",
      "\n",
      "\n",
      "at random state 22,the training accuracy is : ,0.9904246823164021\n",
      "at random state 22,the testing accuracy is : ,0.9682777667594591\n",
      "\n",
      "\n",
      "at random state 23,the training accuracy is : ,0.9866009479081347\n",
      "at random state 23,the testing accuracy is : ,0.9834898052361943\n",
      "\n",
      "\n",
      "at random state 24,the training accuracy is : ,0.9870116969650128\n",
      "at random state 24,the testing accuracy is : ,0.9836148935134333\n",
      "\n",
      "\n",
      "at random state 25,the training accuracy is : ,0.9877474082810859\n",
      "at random state 25,the testing accuracy is : ,0.9782073109606553\n",
      "\n",
      "\n",
      "at random state 26,the training accuracy is : ,0.9864330285582285\n",
      "at random state 26,the testing accuracy is : ,0.9834687939453397\n",
      "\n",
      "\n",
      "at random state 27,the training accuracy is : ,0.9849282499611427\n",
      "at random state 27,the testing accuracy is : ,0.9904834498929819\n",
      "\n",
      "\n",
      "at random state 28,the training accuracy is : ,0.9869879931259921\n",
      "at random state 28,the testing accuracy is : ,0.9842052880715265\n",
      "\n",
      "\n",
      "at random state 29,the training accuracy is : ,0.9855478393579108\n",
      "at random state 29,the testing accuracy is : ,0.9908953107464549\n",
      "\n",
      "\n",
      "at random state 30,the training accuracy is : ,0.9859864065567895\n",
      "at random state 30,the testing accuracy is : ,0.9880232292195865\n",
      "\n",
      "\n",
      "at random state 31,the training accuracy is : ,0.9857721381564674\n",
      "at random state 31,the testing accuracy is : ,0.9886083075655728\n",
      "\n",
      "\n",
      "at random state 32,the training accuracy is : ,0.9872969884220367\n",
      "at random state 32,the testing accuracy is : ,0.9820529153328198\n",
      "\n",
      "\n",
      "at random state 33,the training accuracy is : ,0.9900555576915383\n",
      "at random state 33,the testing accuracy is : ,0.9731818852607574\n",
      "\n",
      "\n",
      "at random state 34,the training accuracy is : ,0.985894274355292\n",
      "at random state 34,the testing accuracy is : ,0.9863886593923633\n",
      "\n",
      "\n",
      "at random state 35,the training accuracy is : ,0.9901798474767298\n",
      "at random state 35,the testing accuracy is : ,0.9705308002768774\n",
      "\n",
      "\n",
      "at random state 36,the training accuracy is : ,0.9860121529972613\n",
      "at random state 36,the testing accuracy is : ,0.9891796706670116\n",
      "\n",
      "\n",
      "at random state 37,the training accuracy is : ,0.9855791521590282\n",
      "at random state 37,the testing accuracy is : ,0.9917360690486319\n",
      "\n",
      "\n",
      "at random state 38,the training accuracy is : ,0.9860871159220221\n",
      "at random state 38,the testing accuracy is : ,0.9871888396381616\n",
      "\n",
      "\n",
      "at random state 39,the training accuracy is : ,0.9869059725551385\n",
      "at random state 39,the testing accuracy is : ,0.98357479681063\n",
      "\n",
      "\n",
      "at random state 40,the training accuracy is : ,0.9897003824024508\n",
      "at random state 40,the testing accuracy is : ,0.9762091946549749\n",
      "\n",
      "\n",
      "at random state 41,the training accuracy is : ,0.9894274840856142\n",
      "at random state 41,the testing accuracy is : ,0.9776295040268665\n",
      "\n",
      "\n",
      "at random state 42,the training accuracy is : ,0.9860375208586758\n",
      "at random state 42,the testing accuracy is : ,0.9884703645755875\n",
      "\n",
      "\n",
      "at random state 43,the training accuracy is : ,0.9846144505516113\n",
      "at random state 43,the testing accuracy is : ,0.9900203544266811\n",
      "\n",
      "\n",
      "at random state 44,the training accuracy is : ,0.9909875209883378\n",
      "at random state 44,the testing accuracy is : ,0.970347191385603\n",
      "\n",
      "\n",
      "at random state 45,the training accuracy is : ,0.9874808728485057\n",
      "at random state 45,the testing accuracy is : ,0.9804808144393284\n",
      "\n",
      "\n",
      "at random state 46,the training accuracy is : ,0.9869623221220137\n",
      "at random state 46,the testing accuracy is : ,0.982893774176423\n",
      "\n",
      "\n",
      "at random state 47,the training accuracy is : ,0.9860841343634645\n",
      "at random state 47,the testing accuracy is : ,0.983915720695063\n",
      "\n",
      "\n",
      "at random state 48,the training accuracy is : ,0.9857622567481122\n",
      "at random state 48,the testing accuracy is : ,0.9901579638824343\n",
      "\n",
      "\n",
      "at random state 49,the training accuracy is : ,0.9873064222569097\n",
      "at random state 49,the testing accuracy is : ,0.9826417683744624\n",
      "\n",
      "\n",
      "at random state 50,the training accuracy is : ,0.9878218393762503\n",
      "at random state 50,the testing accuracy is : ,0.9756967177196623\n",
      "\n",
      "\n",
      "at random state 51,the training accuracy is : ,0.9876368794897483\n",
      "at random state 51,the testing accuracy is : ,0.9811927708845777\n",
      "\n",
      "\n",
      "at random state 52,the training accuracy is : ,0.9870549806216212\n",
      "at random state 52,the testing accuracy is : ,0.9825085754731607\n",
      "\n",
      "\n",
      "at random state 53,the training accuracy is : ,0.9895600697527791\n",
      "at random state 53,the testing accuracy is : ,0.979025419501228\n",
      "\n",
      "\n",
      "at random state 54,the training accuracy is : ,0.986457852231712\n",
      "at random state 54,the testing accuracy is : ,0.9846660062381362\n",
      "\n",
      "\n",
      "at random state 55,the training accuracy is : ,0.9848514392277185\n",
      "at random state 55,the testing accuracy is : ,0.9920870880223308\n",
      "\n",
      "\n",
      "at random state 56,the training accuracy is : ,0.9894160351384087\n",
      "at random state 56,the testing accuracy is : ,0.9789374331962281\n",
      "\n",
      "\n",
      "at random state 57,the training accuracy is : ,0.9853358066508193\n",
      "at random state 57,the testing accuracy is : ,0.9900853033053114\n",
      "\n",
      "\n",
      "at random state 58,the training accuracy is : ,0.9853523627171255\n",
      "at random state 58,the testing accuracy is : ,0.9917715054917098\n",
      "\n",
      "\n",
      "at random state 59,the training accuracy is : ,0.9891392798310168\n",
      "at random state 59,the testing accuracy is : ,0.9768567665720158\n",
      "\n",
      "\n",
      "at random state 60,the training accuracy is : ,0.9862052107074128\n",
      "at random state 60,the testing accuracy is : ,0.9881243643930312\n",
      "\n",
      "\n",
      "at random state 61,the training accuracy is : ,0.9852797457241652\n",
      "at random state 61,the testing accuracy is : ,0.9883093556457322\n",
      "\n",
      "\n",
      "at random state 62,the training accuracy is : ,0.990198874411197\n",
      "at random state 62,the testing accuracy is : ,0.9721099032235255\n",
      "\n",
      "\n",
      "at random state 63,the training accuracy is : ,0.9873669577566585\n",
      "at random state 63,the testing accuracy is : ,0.976755875566068\n",
      "\n",
      "\n",
      "at random state 64,the training accuracy is : ,0.9851309368979515\n",
      "at random state 64,the testing accuracy is : ,0.9916066081745587\n",
      "\n",
      "\n",
      "at random state 65,the training accuracy is : ,0.9874839348746972\n",
      "at random state 65,the testing accuracy is : ,0.9790590166162141\n",
      "\n",
      "\n",
      "at random state 66,the training accuracy is : ,0.9853105250707723\n",
      "at random state 66,the testing accuracy is : ,0.990701298637258\n",
      "\n",
      "\n",
      "at random state 67,the training accuracy is : ,0.9890431675084855\n",
      "at random state 67,the testing accuracy is : ,0.9798000837921332\n",
      "\n",
      "\n",
      "at random state 68,the training accuracy is : ,0.9868783054415567\n",
      "at random state 68,the testing accuracy is : ,0.9835812141167879\n",
      "\n",
      "\n",
      "at random state 69,the training accuracy is : ,0.9894496906056351\n",
      "at random state 69,the testing accuracy is : ,0.9763244789140454\n",
      "\n",
      "\n",
      "at random state 70,the training accuracy is : ,0.9877550901693335\n",
      "at random state 70,the testing accuracy is : ,0.9775735569156392\n",
      "\n",
      "\n",
      "at random state 71,the training accuracy is : ,0.9859566258996404\n",
      "at random state 71,the testing accuracy is : ,0.9875955090300317\n",
      "\n",
      "\n",
      "at random state 72,the training accuracy is : ,0.9845779385065229\n",
      "at random state 72,the testing accuracy is : ,0.9937109387181775\n",
      "\n",
      "\n",
      "at random state 73,the training accuracy is : ,0.9871942864864608\n",
      "at random state 73,the testing accuracy is : ,0.9808004918481855\n",
      "\n",
      "\n",
      "at random state 74,the training accuracy is : ,0.9870681204711892\n",
      "at random state 74,the testing accuracy is : ,0.982511443315283\n",
      "\n",
      "\n",
      "at random state 75,the training accuracy is : ,0.9866009108648416\n",
      "at random state 75,the testing accuracy is : ,0.9861982671871786\n",
      "\n",
      "\n",
      "at random state 76,the training accuracy is : ,0.9865039204871396\n",
      "at random state 76,the testing accuracy is : ,0.9840129908930426\n",
      "\n",
      "\n",
      "at random state 77,the training accuracy is : ,0.9872327874783504\n",
      "at random state 77,the testing accuracy is : ,0.9791162302788757\n",
      "\n",
      "\n",
      "at random state 78,the training accuracy is : ,0.9865807207393271\n",
      "at random state 78,the testing accuracy is : ,0.9798666326495098\n",
      "\n",
      "\n",
      "at random state 79,the training accuracy is : ,0.9861650361584322\n",
      "at random state 79,the testing accuracy is : ,0.98933076294401\n",
      "\n",
      "\n",
      "at random state 80,the training accuracy is : ,0.9867045445071432\n",
      "at random state 80,the testing accuracy is : ,0.9842909898806118\n",
      "\n",
      "\n",
      "at random state 81,the training accuracy is : ,0.9865318571137204\n",
      "at random state 81,the testing accuracy is : ,0.9857642113126532\n",
      "\n",
      "\n",
      "at random state 82,the training accuracy is : ,0.9867073272538123\n",
      "at random state 82,the testing accuracy is : ,0.9852777371718359\n",
      "\n",
      "\n",
      "at random state 83,the training accuracy is : ,0.9855691476897407\n",
      "at random state 83,the testing accuracy is : ,0.988884385566562\n",
      "\n",
      "\n",
      "at random state 84,the training accuracy is : ,0.9861611867510183\n",
      "at random state 84,the testing accuracy is : ,0.9879834871147087\n",
      "\n",
      "\n",
      "at random state 85,the training accuracy is : ,0.9862787392261005\n",
      "at random state 85,the testing accuracy is : ,0.9879833048954131\n",
      "\n",
      "\n",
      "at random state 86,the training accuracy is : ,0.9896830056171418\n",
      "at random state 86,the testing accuracy is : ,0.9731263115647663\n",
      "\n",
      "\n",
      "at random state 87,the training accuracy is : ,0.9853181704818962\n",
      "at random state 87,the testing accuracy is : ,0.9905850321096844\n",
      "\n",
      "\n",
      "at random state 88,the training accuracy is : ,0.9872504642594131\n",
      "at random state 88,the testing accuracy is : ,0.9815909469396225\n",
      "\n",
      "\n",
      "at random state 89,the training accuracy is : ,0.9849115744014796\n",
      "at random state 89,the testing accuracy is : ,0.991307057536075\n",
      "\n",
      "\n",
      "at random state 90,the training accuracy is : ,0.9851420408104716\n",
      "at random state 90,the testing accuracy is : ,0.9906305327935749\n",
      "\n",
      "\n",
      "at random state 91,the training accuracy is : ,0.9863110556273844\n",
      "at random state 91,the testing accuracy is : ,0.9846358332798871\n",
      "\n",
      "\n",
      "at random state 92,the training accuracy is : ,0.9871738715248004\n",
      "at random state 92,the testing accuracy is : ,0.9835610285514296\n",
      "\n",
      "\n",
      "at random state 93,the training accuracy is : ,0.984639769160016\n",
      "at random state 93,the testing accuracy is : ,0.9930308789632654\n",
      "\n",
      "\n",
      "at random state 94,the training accuracy is : ,0.9865429637661005\n",
      "at random state 94,the testing accuracy is : ,0.986047009357458\n",
      "\n",
      "\n",
      "at random state 95,the training accuracy is : ,0.9860468724439062\n",
      "at random state 95,the testing accuracy is : ,0.9889672432260889\n",
      "\n",
      "\n",
      "at random state 96,the training accuracy is : ,0.9861528296283386\n",
      "at random state 96,the testing accuracy is : ,0.9898585720430899\n",
      "\n",
      "\n",
      "at random state 97,the training accuracy is : ,0.9862396584323281\n",
      "at random state 97,the testing accuracy is : ,0.9878843365076384\n",
      "\n",
      "\n",
      "at random state 98,the training accuracy is : ,0.9870881166009982\n",
      "at random state 98,the testing accuracy is : ,0.9823421223932088\n",
      "\n",
      "\n",
      "at random state 99,the training accuracy is : ,0.9867853442985569\n",
      "at random state 99,the testing accuracy is : ,0.9828558027372057\n",
      "\n",
      "\n"
     ]
    }
   ],
   "source": [
    "for i in range(0,100):\n",
    "    feature_train,feature_test,target_train,target_test=train_test_split(feature,target,test_size=0.2,random_state=i)\n",
    "    lr.fit(feature_train,target_train)\n",
    "    pred_train=lr.predict(feature_train)\n",
    "    pred_test=lr.predict(feature_test)\n",
    "    print(f\"at random state {i},the training accuracy is : ,{r2_score(target_train,pred_train)}\")\n",
    "    print(f\"at random state {i},the testing accuracy is : ,{r2_score(target_test,pred_test)}\")\n",
    "    print(\"\\n\")"
   ]
  },
  {
   "cell_type": "markdown",
   "id": "c493d41c",
   "metadata": {},
   "source": [
    "* I will select random state 1 as the difference between test and train accuracy is minimum"
   ]
  },
  {
   "cell_type": "code",
   "execution_count": 510,
   "id": "49eb15f2",
   "metadata": {},
   "outputs": [],
   "source": [
    "feature_train,feature_test,target_train,target_test=train_test_split(feature,target,test_size=0.2,random_state=1)"
   ]
  },
  {
   "cell_type": "code",
   "execution_count": 511,
   "id": "bc03298c",
   "metadata": {},
   "outputs": [
    {
     "data": {
      "text/plain": [
       "LinearRegression()"
      ]
     },
     "execution_count": 511,
     "metadata": {},
     "output_type": "execute_result"
    }
   ],
   "source": [
    "lr.fit(feature_train,target_train)"
   ]
  },
  {
   "cell_type": "code",
   "execution_count": 512,
   "id": "b538bc02",
   "metadata": {},
   "outputs": [],
   "source": [
    " pred_train=lr.predict(feature_train)"
   ]
  },
  {
   "cell_type": "code",
   "execution_count": 513,
   "id": "a7de8693",
   "metadata": {},
   "outputs": [
    {
     "name": "stdout",
     "output_type": "stream",
     "text": [
      "0.9857914792840267\n"
     ]
    }
   ],
   "source": [
    "print(r2_score(target_train,pred_train))"
   ]
  },
  {
   "cell_type": "markdown",
   "id": "fb300404",
   "metadata": {},
   "source": [
    "* Now, we get R2-score 0.9857914792840267 using LinearRegression model, which is very good"
   ]
  },
  {
   "cell_type": "markdown",
   "id": "21a4c523",
   "metadata": {},
   "source": [
    "### now we will do cross-validation of the model"
   ]
  },
  {
   "cell_type": "code",
   "execution_count": 514,
   "id": "13df51a9",
   "metadata": {},
   "outputs": [
    {
     "name": "stdout",
     "output_type": "stream",
     "text": [
      "at cross fold 2 cv score is 0.6332908440654919 and accuracy score of taining is 0.9857914792840267 and accuracy score of testing is -1.531920757685358\n",
      "\n",
      "\n",
      "at cross fold 3 cv score is 0.6648420898539519 and accuracy score of taining is 0.9857914792840267 and accuracy score of testing is -1.531920757685358\n",
      "\n",
      "\n",
      "at cross fold 4 cv score is 0.6422358293798329 and accuracy score of taining is 0.9857914792840267 and accuracy score of testing is -1.531920757685358\n",
      "\n",
      "\n",
      "at cross fold 5 cv score is 0.42567158184502657 and accuracy score of taining is 0.9857914792840267 and accuracy score of testing is -1.531920757685358\n",
      "\n",
      "\n",
      "at cross fold 6 cv score is 0.3416286219620524 and accuracy score of taining is 0.9857914792840267 and accuracy score of testing is -1.531920757685358\n",
      "\n",
      "\n",
      "at cross fold 7 cv score is 0.17989704528318481 and accuracy score of taining is 0.9857914792840267 and accuracy score of testing is -1.531920757685358\n",
      "\n",
      "\n",
      "at cross fold 8 cv score is 0.03023618066567678 and accuracy score of taining is 0.9857914792840267 and accuracy score of testing is -1.531920757685358\n",
      "\n",
      "\n",
      "at cross fold 9 cv score is -0.2503117143348615 and accuracy score of taining is 0.9857914792840267 and accuracy score of testing is -1.531920757685358\n",
      "\n",
      "\n"
     ]
    }
   ],
   "source": [
    "train_accuracy=r2_score(target_train,pred_train)\n",
    "test_accuracy=r2_score(target_test,pred_test)\n",
    "\n",
    "from sklearn.model_selection import cross_val_score\n",
    "for j in range(2,10):\n",
    "    cv_score=cross_val_score(lr,feature,target,cv=j)\n",
    "    cv_mean=cv_score.mean()\n",
    "    print(f\"at cross fold {j} cv score is {cv_mean} and accuracy score of taining is {train_accuracy} and accuracy score of testing is {test_accuracy}\")\n",
    "    print('\\n')"
   ]
  },
  {
   "cell_type": "markdown",
   "id": "74d7aded",
   "metadata": {},
   "source": [
    "* since number of flod dont have much impact on accurary and cv_score so we select cv=3"
   ]
  },
  {
   "cell_type": "markdown",
   "id": "8a7254bd",
   "metadata": {},
   "source": [
    "#####  over and under fitting"
   ]
  },
  {
   "cell_type": "code",
   "execution_count": 515,
   "id": "3decdcc6",
   "metadata": {},
   "outputs": [
    {
     "data": {
      "image/png": "[encoded data removed]",
      "text/plain": [
       "<Figure size 576x432 with 1 Axes>"
      ]
     },
     "metadata": {
      "needs_background": "light"
     },
     "output_type": "display_data"
    }
   ],
   "source": [
    "import matplotlib.pyplot as plt\n",
    "plt.figure(figsize=(8,6))\n",
    "plt.scatter(x=target_test,y=pred_test,color='r')\n",
    "plt.plot(target_test,target_test,color='b')\n",
    "plt.xlabel('actual charges',fontsize=14)\n",
    "plt.ylabel('predicted charger',fontsize=14)\n",
    "plt.title('linear regression',fontsize=18)\n",
    "plt.savefig('lr.png')\n",
    "plt.show()"
   ]
  },
  {
   "cell_type": "code",
   "execution_count": 516,
   "id": "2dcfe477",
   "metadata": {},
   "outputs": [],
   "source": [
    "from sklearn.model_selection import GridSearchCV\n",
    "from sklearn.model_selection import cross_val_score\n",
    "import warnings\n",
    "warnings.filterwarnings('ignore')"
   ]
  },
  {
   "cell_type": "code",
   "execution_count": 517,
   "id": "848010ec",
   "metadata": {},
   "outputs": [
    {
     "name": "stdout",
     "output_type": "stream",
     "text": [
      "{'alpha': 0.0001, 'random_state': 0}\n"
     ]
    }
   ],
   "source": [
    "from sklearn.linear_model import Lasso\n",
    "\n",
    "parameters = {'alpha':[.0001, .001, .01, .1, 1, 10],\n",
    "             'random_state':list(range(0,10))}\n",
    "ls = Lasso()\n",
    "clf = GridSearchCV(ls,parameters)\n",
    "clf.fit(feature_train,target_train)\n",
    "\n",
    "print(clf.best_params_)\n"
   ]
  },
  {
   "cell_type": "markdown",
   "id": "8e252773",
   "metadata": {},
   "source": [
    "* final model training"
   ]
  },
  {
   "cell_type": "code",
   "execution_count": 520,
   "id": "e048bd52",
   "metadata": {},
   "outputs": [
    {
     "data": {
      "text/plain": [
       "98.57904879830686"
      ]
     },
     "execution_count": 520,
     "metadata": {},
     "output_type": "execute_result"
    }
   ],
   "source": [
    "ls=Lasso(alpha=0.0001,random_state=0)\n",
    "ls.fit(feature_train,target_train)\n",
    "ls_score_training=ls.score(feature_train,target_train)\n",
    "pred_ls=ls.predict(feature_test)\n",
    "ls_score_training*100"
   ]
  },
  {
   "cell_type": "code",
   "execution_count": 521,
   "id": "2793e9a4",
   "metadata": {},
   "outputs": [],
   "source": [
    "pred_ls=ls.predict(feature_test)"
   ]
  },
  {
   "cell_type": "code",
   "execution_count": 522,
   "id": "7c18a621",
   "metadata": {},
   "outputs": [
    {
     "data": {
      "text/plain": [
       "98.73342097828156"
      ]
     },
     "execution_count": 522,
     "metadata": {},
     "output_type": "execute_result"
    }
   ],
   "source": [
    "lss=r2_score(target_test,pred_ls)\n",
    "lss*100"
   ]
  },
  {
   "cell_type": "code",
   "execution_count": 531,
   "id": "1bf1bd19",
   "metadata": {},
   "outputs": [
    {
     "data": {
      "text/plain": [
       "66.83653411585783"
      ]
     },
     "execution_count": 531,
     "metadata": {},
     "output_type": "execute_result"
    }
   ],
   "source": [
    "cv_score=cross_val_score(ls,feature,target,cv=3)\n",
    "cv_mean=cv_score.mean()\n",
    "cv_mean*100"
   ]
  },
  {
   "cell_type": "code",
   "execution_count": 532,
   "id": "773c8a19",
   "metadata": {},
   "outputs": [
    {
     "name": "stdout",
     "output_type": "stream",
     "text": [
      "{'criterion': 'mse', 'max_features': 'log2'}\n"
     ]
    }
   ],
   "source": [
    "from sklearn.model_selection import GridSearchCV\n",
    "from sklearn.ensemble import RandomForestRegressor\n",
    "\n",
    "parameters = {'criterion' :['mse','mae'],\n",
    "             'max_features':[\"auto\",\"sqrt\",\"log2\"]}\n",
    "\n",
    "rf=RandomForestRegressor()\n",
    "clf = GridSearchCV(rf,parameters)\n",
    "clf.fit(feature_train,target_train)\n",
    "\n",
    "print(clf.best_params_)"
   ]
  },
  {
   "cell_type": "code",
   "execution_count": 534,
   "id": "9a1a3ce6",
   "metadata": {},
   "outputs": [
    {
     "name": "stdout",
     "output_type": "stream",
     "text": [
      "R2 score :  79.45530091583177\n",
      "cross val score :  -281.93249525130864\n"
     ]
    }
   ],
   "source": [
    "rf = RandomForestRegressor(criterion=\"mae\",max_features=\"log2\")\n",
    "rf.fit(feature_train,target_train)\n",
    "rf.score(feature_train,target_train)\n",
    "pred_decision = rf.predict(feature_test)\n",
    "\n",
    "rfs = r2_score(target_test,pred_decision)\n",
    "print(\"R2 score : \",rfs*100)\n",
    "\n",
    "rfscore = cross_val_score(rf,feature,target,cv=3)\n",
    "rfc = rfscore.mean()\n",
    "print('cross val score : ',rfc*100)"
   ]
  },
  {
   "cell_type": "markdown",
   "id": "b90299d8",
   "metadata": {},
   "source": [
    "* saving the model"
   ]
  },
  {
   "cell_type": "code",
   "execution_count": 535,
   "id": "afde2558",
   "metadata": {},
   "outputs": [],
   "source": [
    "import pickle\n",
    "filename = 'churn.pkl'\n",
    "pickle.dump(rf, open(filename,'wb'))"
   ]
  },
  {
   "cell_type": "markdown",
   "id": "494e759d",
   "metadata": {},
   "source": [
    "##### conclusion"
   ]
  },
  {
   "cell_type": "markdown",
   "id": "b5786e33",
   "metadata": {},
   "source": [
    "* we will go with linear regression as it give maximum accuracy"
   ]
  },
  {
   "cell_type": "code",
   "execution_count": null,
   "id": "3ded9b73",
   "metadata": {},
   "outputs": [],
   "source": []
  }
 ],
 "metadata": {
  "kernelspec": {
   "display_name": "Python 3 (ipykernel)",
   "language": "python",
   "name": "python3"
  },
  "language_info": {
   "codemirror_mode": {
    "name": "ipython",
    "version": 3
   },
   "file_extension": ".py",
   "mimetype": "text/x-python",
   "name": "python",
   "nbconvert_exporter": "python",
   "pygments_lexer": "ipython3",
   "version": "3.9.7"
  }
 },
 "nbformat": 4,
 "nbformat_minor": 5
}
