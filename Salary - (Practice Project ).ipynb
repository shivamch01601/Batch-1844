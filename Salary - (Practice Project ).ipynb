{
 "cells": [
  {
   "cell_type": "markdown",
   "id": "ca57a6f6",
   "metadata": {},
   "source": [
    "# Salary Project:\n",
    "## Problem Statement\n",
    "### Predict the salary if the employee using the features provided in the data."
   ]
  },
  {
   "cell_type": "code",
   "execution_count": 1,
   "id": "a96f0cb4",
   "metadata": {},
   "outputs": [],
   "source": [
    "# import libraries\n",
    "import pandas as pd \n",
    "import numpy as np"
   ]
  },
  {
   "cell_type": "code",
   "execution_count": 2,
   "id": "17b43ff4",
   "metadata": {},
   "outputs": [
    {
     "data": {
      "text/html": [
       "<div>\n",
       "<style scoped>\n",
       "    .dataframe tbody tr th:only-of-type {\n",
       "        vertical-align: middle;\n",
       "    }\n",
       "\n",
       "    .dataframe tbody tr th {\n",
       "        vertical-align: top;\n",
       "    }\n",
       "\n",
       "    .dataframe thead th {\n",
       "        text-align: right;\n",
       "    }\n",
       "</style>\n",
       "<table border=\"1\" class=\"dataframe\">\n",
       "  <thead>\n",
       "    <tr style=\"text-align: right;\">\n",
       "      <th></th>\n",
       "      <th>rank</th>\n",
       "      <th>discipline</th>\n",
       "      <th>yrs.since.phd</th>\n",
       "      <th>yrs.service</th>\n",
       "      <th>sex</th>\n",
       "      <th>salary</th>\n",
       "    </tr>\n",
       "  </thead>\n",
       "  <tbody>\n",
       "    <tr>\n",
       "      <th>0</th>\n",
       "      <td>Prof</td>\n",
       "      <td>B</td>\n",
       "      <td>19</td>\n",
       "      <td>18</td>\n",
       "      <td>Male</td>\n",
       "      <td>139750</td>\n",
       "    </tr>\n",
       "    <tr>\n",
       "      <th>1</th>\n",
       "      <td>Prof</td>\n",
       "      <td>B</td>\n",
       "      <td>20</td>\n",
       "      <td>16</td>\n",
       "      <td>Male</td>\n",
       "      <td>173200</td>\n",
       "    </tr>\n",
       "    <tr>\n",
       "      <th>2</th>\n",
       "      <td>AsstProf</td>\n",
       "      <td>B</td>\n",
       "      <td>4</td>\n",
       "      <td>3</td>\n",
       "      <td>Male</td>\n",
       "      <td>79750</td>\n",
       "    </tr>\n",
       "    <tr>\n",
       "      <th>3</th>\n",
       "      <td>Prof</td>\n",
       "      <td>B</td>\n",
       "      <td>45</td>\n",
       "      <td>39</td>\n",
       "      <td>Male</td>\n",
       "      <td>115000</td>\n",
       "    </tr>\n",
       "    <tr>\n",
       "      <th>4</th>\n",
       "      <td>Prof</td>\n",
       "      <td>B</td>\n",
       "      <td>40</td>\n",
       "      <td>41</td>\n",
       "      <td>Male</td>\n",
       "      <td>141500</td>\n",
       "    </tr>\n",
       "    <tr>\n",
       "      <th>...</th>\n",
       "      <td>...</td>\n",
       "      <td>...</td>\n",
       "      <td>...</td>\n",
       "      <td>...</td>\n",
       "      <td>...</td>\n",
       "      <td>...</td>\n",
       "    </tr>\n",
       "    <tr>\n",
       "      <th>392</th>\n",
       "      <td>Prof</td>\n",
       "      <td>A</td>\n",
       "      <td>33</td>\n",
       "      <td>30</td>\n",
       "      <td>Male</td>\n",
       "      <td>103106</td>\n",
       "    </tr>\n",
       "    <tr>\n",
       "      <th>393</th>\n",
       "      <td>Prof</td>\n",
       "      <td>A</td>\n",
       "      <td>31</td>\n",
       "      <td>19</td>\n",
       "      <td>Male</td>\n",
       "      <td>150564</td>\n",
       "    </tr>\n",
       "    <tr>\n",
       "      <th>394</th>\n",
       "      <td>Prof</td>\n",
       "      <td>A</td>\n",
       "      <td>42</td>\n",
       "      <td>25</td>\n",
       "      <td>Male</td>\n",
       "      <td>101738</td>\n",
       "    </tr>\n",
       "    <tr>\n",
       "      <th>395</th>\n",
       "      <td>Prof</td>\n",
       "      <td>A</td>\n",
       "      <td>25</td>\n",
       "      <td>15</td>\n",
       "      <td>Male</td>\n",
       "      <td>95329</td>\n",
       "    </tr>\n",
       "    <tr>\n",
       "      <th>396</th>\n",
       "      <td>AsstProf</td>\n",
       "      <td>A</td>\n",
       "      <td>8</td>\n",
       "      <td>4</td>\n",
       "      <td>Male</td>\n",
       "      <td>81035</td>\n",
       "    </tr>\n",
       "  </tbody>\n",
       "</table>\n",
       "<p>397 rows × 6 columns</p>\n",
       "</div>"
      ],
      "text/plain": [
       "         rank discipline  yrs.since.phd  yrs.service   sex  salary\n",
       "0        Prof          B             19           18  Male  139750\n",
       "1        Prof          B             20           16  Male  173200\n",
       "2    AsstProf          B              4            3  Male   79750\n",
       "3        Prof          B             45           39  Male  115000\n",
       "4        Prof          B             40           41  Male  141500\n",
       "..        ...        ...            ...          ...   ...     ...\n",
       "392      Prof          A             33           30  Male  103106\n",
       "393      Prof          A             31           19  Male  150564\n",
       "394      Prof          A             42           25  Male  101738\n",
       "395      Prof          A             25           15  Male   95329\n",
       "396  AsstProf          A              8            4  Male   81035\n",
       "\n",
       "[397 rows x 6 columns]"
      ]
     },
     "execution_count": 2,
     "metadata": {},
     "output_type": "execute_result"
    }
   ],
   "source": [
    "# load the dataset \n",
    "df = pd.read_csv(\"https://raw.githubusercontent.com/dsrscientist/dataset3/main/Salaries.csv\")\n",
    "df"
   ]
  },
  {
   "cell_type": "markdown",
   "id": "14c5b0a7",
   "metadata": {},
   "source": [
    "# EDA"
   ]
  },
  {
   "cell_type": "markdown",
   "id": "9a8e4f34",
   "metadata": {},
   "source": [
    "##### 1. identification of variables and data types"
   ]
  },
  {
   "cell_type": "code",
   "execution_count": 3,
   "id": "f2ec803d",
   "metadata": {},
   "outputs": [
    {
     "data": {
      "text/plain": [
       "rank             object\n",
       "discipline       object\n",
       "yrs.since.phd     int64\n",
       "yrs.service       int64\n",
       "sex              object\n",
       "salary            int64\n",
       "dtype: object"
      ]
     },
     "execution_count": 3,
     "metadata": {},
     "output_type": "execute_result"
    }
   ],
   "source": [
    "df.dtypes"
   ]
  },
  {
   "cell_type": "markdown",
   "id": "74b412bd",
   "metadata": {},
   "source": [
    "here we observe that, [rank,discipline,sex] are object data and rest columns are of int type"
   ]
  },
  {
   "cell_type": "markdown",
   "id": "f34e34b7",
   "metadata": {},
   "source": [
    "##### 2. analysing the basic metrics"
   ]
  },
  {
   "cell_type": "code",
   "execution_count": 5,
   "id": "e81dbc0f",
   "metadata": {},
   "outputs": [
    {
     "data": {
      "text/plain": [
       "(397, 6)"
      ]
     },
     "execution_count": 5,
     "metadata": {},
     "output_type": "execute_result"
    }
   ],
   "source": [
    "df.shape"
   ]
  },
  {
   "cell_type": "markdown",
   "id": "0d17de4b",
   "metadata": {},
   "source": [
    "we have 397 rows and 6 columns "
   ]
  },
  {
   "cell_type": "markdown",
   "id": "8c396e20",
   "metadata": {},
   "source": [
    "##### 3. non-graphical analysis"
   ]
  },
  {
   "cell_type": "code",
   "execution_count": 6,
   "id": "7a4a9811",
   "metadata": {},
   "outputs": [
    {
     "data": {
      "text/html": [
       "<div>\n",
       "<style scoped>\n",
       "    .dataframe tbody tr th:only-of-type {\n",
       "        vertical-align: middle;\n",
       "    }\n",
       "\n",
       "    .dataframe tbody tr th {\n",
       "        vertical-align: top;\n",
       "    }\n",
       "\n",
       "    .dataframe thead th {\n",
       "        text-align: right;\n",
       "    }\n",
       "</style>\n",
       "<table border=\"1\" class=\"dataframe\">\n",
       "  <thead>\n",
       "    <tr style=\"text-align: right;\">\n",
       "      <th></th>\n",
       "      <th>yrs.since.phd</th>\n",
       "      <th>yrs.service</th>\n",
       "      <th>salary</th>\n",
       "    </tr>\n",
       "  </thead>\n",
       "  <tbody>\n",
       "    <tr>\n",
       "      <th>count</th>\n",
       "      <td>397.000000</td>\n",
       "      <td>397.000000</td>\n",
       "      <td>397.000000</td>\n",
       "    </tr>\n",
       "    <tr>\n",
       "      <th>mean</th>\n",
       "      <td>22.314861</td>\n",
       "      <td>17.614610</td>\n",
       "      <td>113706.458438</td>\n",
       "    </tr>\n",
       "    <tr>\n",
       "      <th>std</th>\n",
       "      <td>12.887003</td>\n",
       "      <td>13.006024</td>\n",
       "      <td>30289.038695</td>\n",
       "    </tr>\n",
       "    <tr>\n",
       "      <th>min</th>\n",
       "      <td>1.000000</td>\n",
       "      <td>0.000000</td>\n",
       "      <td>57800.000000</td>\n",
       "    </tr>\n",
       "    <tr>\n",
       "      <th>25%</th>\n",
       "      <td>12.000000</td>\n",
       "      <td>7.000000</td>\n",
       "      <td>91000.000000</td>\n",
       "    </tr>\n",
       "    <tr>\n",
       "      <th>50%</th>\n",
       "      <td>21.000000</td>\n",
       "      <td>16.000000</td>\n",
       "      <td>107300.000000</td>\n",
       "    </tr>\n",
       "    <tr>\n",
       "      <th>75%</th>\n",
       "      <td>32.000000</td>\n",
       "      <td>27.000000</td>\n",
       "      <td>134185.000000</td>\n",
       "    </tr>\n",
       "    <tr>\n",
       "      <th>max</th>\n",
       "      <td>56.000000</td>\n",
       "      <td>60.000000</td>\n",
       "      <td>231545.000000</td>\n",
       "    </tr>\n",
       "  </tbody>\n",
       "</table>\n",
       "</div>"
      ],
      "text/plain": [
       "       yrs.since.phd  yrs.service         salary\n",
       "count     397.000000   397.000000     397.000000\n",
       "mean       22.314861    17.614610  113706.458438\n",
       "std        12.887003    13.006024   30289.038695\n",
       "min         1.000000     0.000000   57800.000000\n",
       "25%        12.000000     7.000000   91000.000000\n",
       "50%        21.000000    16.000000  107300.000000\n",
       "75%        32.000000    27.000000  134185.000000\n",
       "max        56.000000    60.000000  231545.000000"
      ]
     },
     "execution_count": 6,
     "metadata": {},
     "output_type": "execute_result"
    }
   ],
   "source": [
    "df.describe()"
   ]
  },
  {
   "cell_type": "markdown",
   "id": "4ac589b2",
   "metadata": {},
   "source": [
    "here we observe that, all the stats of our data looks good as values in quantile range and value of std and mean looks relatable and satisfied"
   ]
  },
  {
   "cell_type": "markdown",
   "id": "f0e1022f",
   "metadata": {},
   "source": [
    "##### 4. missing value treatment"
   ]
  },
  {
   "cell_type": "code",
   "execution_count": 7,
   "id": "30000e43",
   "metadata": {},
   "outputs": [
    {
     "data": {
      "text/plain": [
       "rank             0\n",
       "discipline       0\n",
       "yrs.since.phd    0\n",
       "yrs.service      0\n",
       "sex              0\n",
       "salary           0\n",
       "dtype: int64"
      ]
     },
     "execution_count": 7,
     "metadata": {},
     "output_type": "execute_result"
    }
   ],
   "source": [
    "# checking null values\n",
    "\n",
    "df.isnull().sum()"
   ]
  },
  {
   "cell_type": "markdown",
   "id": "2e8d19e0",
   "metadata": {},
   "source": [
    "we can see there is no null value in our dataset"
   ]
  },
  {
   "cell_type": "code",
   "execution_count": 10,
   "id": "93db545b",
   "metadata": {},
   "outputs": [
    {
     "data": {
      "text/html": [
       "<div>\n",
       "<style scoped>\n",
       "    .dataframe tbody tr th:only-of-type {\n",
       "        vertical-align: middle;\n",
       "    }\n",
       "\n",
       "    .dataframe tbody tr th {\n",
       "        vertical-align: top;\n",
       "    }\n",
       "\n",
       "    .dataframe thead th {\n",
       "        text-align: right;\n",
       "    }\n",
       "</style>\n",
       "<table border=\"1\" class=\"dataframe\">\n",
       "  <thead>\n",
       "    <tr style=\"text-align: right;\">\n",
       "      <th></th>\n",
       "      <th>rank</th>\n",
       "      <th>discipline</th>\n",
       "      <th>yrs.since.phd</th>\n",
       "      <th>yrs.service</th>\n",
       "      <th>sex</th>\n",
       "      <th>salary</th>\n",
       "    </tr>\n",
       "  </thead>\n",
       "  <tbody>\n",
       "    <tr>\n",
       "      <th>151</th>\n",
       "      <td>AsstProf</td>\n",
       "      <td>B</td>\n",
       "      <td>4</td>\n",
       "      <td>4</td>\n",
       "      <td>Male</td>\n",
       "      <td>92000</td>\n",
       "    </tr>\n",
       "    <tr>\n",
       "      <th>163</th>\n",
       "      <td>AsstProf</td>\n",
       "      <td>B</td>\n",
       "      <td>3</td>\n",
       "      <td>3</td>\n",
       "      <td>Male</td>\n",
       "      <td>89942</td>\n",
       "    </tr>\n",
       "    <tr>\n",
       "      <th>197</th>\n",
       "      <td>AsstProf</td>\n",
       "      <td>B</td>\n",
       "      <td>4</td>\n",
       "      <td>4</td>\n",
       "      <td>Male</td>\n",
       "      <td>92000</td>\n",
       "    </tr>\n",
       "    <tr>\n",
       "      <th>200</th>\n",
       "      <td>AsstProf</td>\n",
       "      <td>B</td>\n",
       "      <td>4</td>\n",
       "      <td>4</td>\n",
       "      <td>Male</td>\n",
       "      <td>92700</td>\n",
       "    </tr>\n",
       "  </tbody>\n",
       "</table>\n",
       "</div>"
      ],
      "text/plain": [
       "         rank discipline  yrs.since.phd  yrs.service   sex  salary\n",
       "151  AsstProf          B              4            4  Male   92000\n",
       "163  AsstProf          B              3            3  Male   89942\n",
       "197  AsstProf          B              4            4  Male   92000\n",
       "200  AsstProf          B              4            4  Male   92700"
      ]
     },
     "execution_count": 10,
     "metadata": {},
     "output_type": "execute_result"
    }
   ],
   "source": [
    "# checking duplicate data\n",
    "\n",
    "df[df.duplicated()]"
   ]
  },
  {
   "cell_type": "code",
   "execution_count": 12,
   "id": "5e5c6062",
   "metadata": {},
   "outputs": [],
   "source": [
    "# dropping duplicate rows\n",
    "\n",
    "df.drop([151,163,197,200],axis=0,inplace = True)"
   ]
  },
  {
   "cell_type": "code",
   "execution_count": 13,
   "id": "733bd3d6",
   "metadata": {},
   "outputs": [
    {
     "data": {
      "text/html": [
       "<div>\n",
       "<style scoped>\n",
       "    .dataframe tbody tr th:only-of-type {\n",
       "        vertical-align: middle;\n",
       "    }\n",
       "\n",
       "    .dataframe tbody tr th {\n",
       "        vertical-align: top;\n",
       "    }\n",
       "\n",
       "    .dataframe thead th {\n",
       "        text-align: right;\n",
       "    }\n",
       "</style>\n",
       "<table border=\"1\" class=\"dataframe\">\n",
       "  <thead>\n",
       "    <tr style=\"text-align: right;\">\n",
       "      <th></th>\n",
       "      <th>rank</th>\n",
       "      <th>discipline</th>\n",
       "      <th>yrs.since.phd</th>\n",
       "      <th>yrs.service</th>\n",
       "      <th>sex</th>\n",
       "      <th>salary</th>\n",
       "    </tr>\n",
       "  </thead>\n",
       "  <tbody>\n",
       "    <tr>\n",
       "      <th>0</th>\n",
       "      <td>Prof</td>\n",
       "      <td>B</td>\n",
       "      <td>19</td>\n",
       "      <td>18</td>\n",
       "      <td>Male</td>\n",
       "      <td>139750</td>\n",
       "    </tr>\n",
       "    <tr>\n",
       "      <th>1</th>\n",
       "      <td>Prof</td>\n",
       "      <td>B</td>\n",
       "      <td>20</td>\n",
       "      <td>16</td>\n",
       "      <td>Male</td>\n",
       "      <td>173200</td>\n",
       "    </tr>\n",
       "    <tr>\n",
       "      <th>2</th>\n",
       "      <td>AsstProf</td>\n",
       "      <td>B</td>\n",
       "      <td>4</td>\n",
       "      <td>3</td>\n",
       "      <td>Male</td>\n",
       "      <td>79750</td>\n",
       "    </tr>\n",
       "    <tr>\n",
       "      <th>3</th>\n",
       "      <td>Prof</td>\n",
       "      <td>B</td>\n",
       "      <td>45</td>\n",
       "      <td>39</td>\n",
       "      <td>Male</td>\n",
       "      <td>115000</td>\n",
       "    </tr>\n",
       "    <tr>\n",
       "      <th>4</th>\n",
       "      <td>Prof</td>\n",
       "      <td>B</td>\n",
       "      <td>40</td>\n",
       "      <td>41</td>\n",
       "      <td>Male</td>\n",
       "      <td>141500</td>\n",
       "    </tr>\n",
       "    <tr>\n",
       "      <th>...</th>\n",
       "      <td>...</td>\n",
       "      <td>...</td>\n",
       "      <td>...</td>\n",
       "      <td>...</td>\n",
       "      <td>...</td>\n",
       "      <td>...</td>\n",
       "    </tr>\n",
       "    <tr>\n",
       "      <th>392</th>\n",
       "      <td>Prof</td>\n",
       "      <td>A</td>\n",
       "      <td>33</td>\n",
       "      <td>30</td>\n",
       "      <td>Male</td>\n",
       "      <td>103106</td>\n",
       "    </tr>\n",
       "    <tr>\n",
       "      <th>393</th>\n",
       "      <td>Prof</td>\n",
       "      <td>A</td>\n",
       "      <td>31</td>\n",
       "      <td>19</td>\n",
       "      <td>Male</td>\n",
       "      <td>150564</td>\n",
       "    </tr>\n",
       "    <tr>\n",
       "      <th>394</th>\n",
       "      <td>Prof</td>\n",
       "      <td>A</td>\n",
       "      <td>42</td>\n",
       "      <td>25</td>\n",
       "      <td>Male</td>\n",
       "      <td>101738</td>\n",
       "    </tr>\n",
       "    <tr>\n",
       "      <th>395</th>\n",
       "      <td>Prof</td>\n",
       "      <td>A</td>\n",
       "      <td>25</td>\n",
       "      <td>15</td>\n",
       "      <td>Male</td>\n",
       "      <td>95329</td>\n",
       "    </tr>\n",
       "    <tr>\n",
       "      <th>396</th>\n",
       "      <td>AsstProf</td>\n",
       "      <td>A</td>\n",
       "      <td>8</td>\n",
       "      <td>4</td>\n",
       "      <td>Male</td>\n",
       "      <td>81035</td>\n",
       "    </tr>\n",
       "  </tbody>\n",
       "</table>\n",
       "<p>393 rows × 6 columns</p>\n",
       "</div>"
      ],
      "text/plain": [
       "         rank discipline  yrs.since.phd  yrs.service   sex  salary\n",
       "0        Prof          B             19           18  Male  139750\n",
       "1        Prof          B             20           16  Male  173200\n",
       "2    AsstProf          B              4            3  Male   79750\n",
       "3        Prof          B             45           39  Male  115000\n",
       "4        Prof          B             40           41  Male  141500\n",
       "..        ...        ...            ...          ...   ...     ...\n",
       "392      Prof          A             33           30  Male  103106\n",
       "393      Prof          A             31           19  Male  150564\n",
       "394      Prof          A             42           25  Male  101738\n",
       "395      Prof          A             25           15  Male   95329\n",
       "396  AsstProf          A              8            4  Male   81035\n",
       "\n",
       "[393 rows x 6 columns]"
      ]
     },
     "execution_count": 13,
     "metadata": {},
     "output_type": "execute_result"
    }
   ],
   "source": [
    "df"
   ]
  },
  {
   "cell_type": "code",
   "execution_count": 28,
   "id": "a3b8bb5c",
   "metadata": {},
   "outputs": [
    {
     "data": {
      "text/html": [
       "<div>\n",
       "<style scoped>\n",
       "    .dataframe tbody tr th:only-of-type {\n",
       "        vertical-align: middle;\n",
       "    }\n",
       "\n",
       "    .dataframe tbody tr th {\n",
       "        vertical-align: top;\n",
       "    }\n",
       "\n",
       "    .dataframe thead th {\n",
       "        text-align: right;\n",
       "    }\n",
       "</style>\n",
       "<table border=\"1\" class=\"dataframe\">\n",
       "  <thead>\n",
       "    <tr style=\"text-align: right;\">\n",
       "      <th></th>\n",
       "      <th>rank</th>\n",
       "      <th>discipline</th>\n",
       "      <th>yrs.since.phd</th>\n",
       "      <th>yrs.service</th>\n",
       "      <th>sex</th>\n",
       "      <th>salary</th>\n",
       "    </tr>\n",
       "  </thead>\n",
       "  <tbody>\n",
       "  </tbody>\n",
       "</table>\n",
       "</div>"
      ],
      "text/plain": [
       "Empty DataFrame\n",
       "Columns: [rank, discipline, yrs.since.phd, yrs.service, sex, salary]\n",
       "Index: []"
      ]
     },
     "execution_count": 28,
     "metadata": {},
     "output_type": "execute_result"
    }
   ],
   "source": [
    "# checking empty spaces\n",
    "\n",
    "df.loc[df['salary']==\" \"]\n"
   ]
  },
  {
   "cell_type": "code",
   "execution_count": 29,
   "id": "3c6e0691",
   "metadata": {},
   "outputs": [
    {
     "data": {
      "text/html": [
       "<div>\n",
       "<style scoped>\n",
       "    .dataframe tbody tr th:only-of-type {\n",
       "        vertical-align: middle;\n",
       "    }\n",
       "\n",
       "    .dataframe tbody tr th {\n",
       "        vertical-align: top;\n",
       "    }\n",
       "\n",
       "    .dataframe thead th {\n",
       "        text-align: right;\n",
       "    }\n",
       "</style>\n",
       "<table border=\"1\" class=\"dataframe\">\n",
       "  <thead>\n",
       "    <tr style=\"text-align: right;\">\n",
       "      <th></th>\n",
       "      <th>rank</th>\n",
       "      <th>discipline</th>\n",
       "      <th>yrs.since.phd</th>\n",
       "      <th>yrs.service</th>\n",
       "      <th>sex</th>\n",
       "      <th>salary</th>\n",
       "    </tr>\n",
       "  </thead>\n",
       "  <tbody>\n",
       "  </tbody>\n",
       "</table>\n",
       "</div>"
      ],
      "text/plain": [
       "Empty DataFrame\n",
       "Columns: [rank, discipline, yrs.since.phd, yrs.service, sex, salary]\n",
       "Index: []"
      ]
     },
     "execution_count": 29,
     "metadata": {},
     "output_type": "execute_result"
    }
   ],
   "source": [
    "df.loc[df['sex']==\" \"]\n"
   ]
  },
  {
   "cell_type": "code",
   "execution_count": 30,
   "id": "55b1533f",
   "metadata": {},
   "outputs": [
    {
     "data": {
      "text/html": [
       "<div>\n",
       "<style scoped>\n",
       "    .dataframe tbody tr th:only-of-type {\n",
       "        vertical-align: middle;\n",
       "    }\n",
       "\n",
       "    .dataframe tbody tr th {\n",
       "        vertical-align: top;\n",
       "    }\n",
       "\n",
       "    .dataframe thead th {\n",
       "        text-align: right;\n",
       "    }\n",
       "</style>\n",
       "<table border=\"1\" class=\"dataframe\">\n",
       "  <thead>\n",
       "    <tr style=\"text-align: right;\">\n",
       "      <th></th>\n",
       "      <th>rank</th>\n",
       "      <th>discipline</th>\n",
       "      <th>yrs.since.phd</th>\n",
       "      <th>yrs.service</th>\n",
       "      <th>sex</th>\n",
       "      <th>salary</th>\n",
       "    </tr>\n",
       "  </thead>\n",
       "  <tbody>\n",
       "  </tbody>\n",
       "</table>\n",
       "</div>"
      ],
      "text/plain": [
       "Empty DataFrame\n",
       "Columns: [rank, discipline, yrs.since.phd, yrs.service, sex, salary]\n",
       "Index: []"
      ]
     },
     "execution_count": 30,
     "metadata": {},
     "output_type": "execute_result"
    }
   ],
   "source": [
    "df.loc[df['yrs.service']==\" \"]\n"
   ]
  },
  {
   "cell_type": "code",
   "execution_count": 31,
   "id": "a8de236a",
   "metadata": {},
   "outputs": [
    {
     "data": {
      "text/html": [
       "<div>\n",
       "<style scoped>\n",
       "    .dataframe tbody tr th:only-of-type {\n",
       "        vertical-align: middle;\n",
       "    }\n",
       "\n",
       "    .dataframe tbody tr th {\n",
       "        vertical-align: top;\n",
       "    }\n",
       "\n",
       "    .dataframe thead th {\n",
       "        text-align: right;\n",
       "    }\n",
       "</style>\n",
       "<table border=\"1\" class=\"dataframe\">\n",
       "  <thead>\n",
       "    <tr style=\"text-align: right;\">\n",
       "      <th></th>\n",
       "      <th>rank</th>\n",
       "      <th>discipline</th>\n",
       "      <th>yrs.since.phd</th>\n",
       "      <th>yrs.service</th>\n",
       "      <th>sex</th>\n",
       "      <th>salary</th>\n",
       "    </tr>\n",
       "  </thead>\n",
       "  <tbody>\n",
       "  </tbody>\n",
       "</table>\n",
       "</div>"
      ],
      "text/plain": [
       "Empty DataFrame\n",
       "Columns: [rank, discipline, yrs.since.phd, yrs.service, sex, salary]\n",
       "Index: []"
      ]
     },
     "execution_count": 31,
     "metadata": {},
     "output_type": "execute_result"
    }
   ],
   "source": [
    "df.loc[df['yrs.since.phd']==\" \"]\n"
   ]
  },
  {
   "cell_type": "code",
   "execution_count": 32,
   "id": "9a7ad3f3",
   "metadata": {},
   "outputs": [
    {
     "data": {
      "text/html": [
       "<div>\n",
       "<style scoped>\n",
       "    .dataframe tbody tr th:only-of-type {\n",
       "        vertical-align: middle;\n",
       "    }\n",
       "\n",
       "    .dataframe tbody tr th {\n",
       "        vertical-align: top;\n",
       "    }\n",
       "\n",
       "    .dataframe thead th {\n",
       "        text-align: right;\n",
       "    }\n",
       "</style>\n",
       "<table border=\"1\" class=\"dataframe\">\n",
       "  <thead>\n",
       "    <tr style=\"text-align: right;\">\n",
       "      <th></th>\n",
       "      <th>rank</th>\n",
       "      <th>discipline</th>\n",
       "      <th>yrs.since.phd</th>\n",
       "      <th>yrs.service</th>\n",
       "      <th>sex</th>\n",
       "      <th>salary</th>\n",
       "    </tr>\n",
       "  </thead>\n",
       "  <tbody>\n",
       "  </tbody>\n",
       "</table>\n",
       "</div>"
      ],
      "text/plain": [
       "Empty DataFrame\n",
       "Columns: [rank, discipline, yrs.since.phd, yrs.service, sex, salary]\n",
       "Index: []"
      ]
     },
     "execution_count": 32,
     "metadata": {},
     "output_type": "execute_result"
    }
   ],
   "source": [
    "df.loc[df['discipline']==\" \"]\n"
   ]
  },
  {
   "cell_type": "code",
   "execution_count": 33,
   "id": "7f737eec",
   "metadata": {},
   "outputs": [
    {
     "data": {
      "text/html": [
       "<div>\n",
       "<style scoped>\n",
       "    .dataframe tbody tr th:only-of-type {\n",
       "        vertical-align: middle;\n",
       "    }\n",
       "\n",
       "    .dataframe tbody tr th {\n",
       "        vertical-align: top;\n",
       "    }\n",
       "\n",
       "    .dataframe thead th {\n",
       "        text-align: right;\n",
       "    }\n",
       "</style>\n",
       "<table border=\"1\" class=\"dataframe\">\n",
       "  <thead>\n",
       "    <tr style=\"text-align: right;\">\n",
       "      <th></th>\n",
       "      <th>rank</th>\n",
       "      <th>discipline</th>\n",
       "      <th>yrs.since.phd</th>\n",
       "      <th>yrs.service</th>\n",
       "      <th>sex</th>\n",
       "      <th>salary</th>\n",
       "    </tr>\n",
       "  </thead>\n",
       "  <tbody>\n",
       "  </tbody>\n",
       "</table>\n",
       "</div>"
      ],
      "text/plain": [
       "Empty DataFrame\n",
       "Columns: [rank, discipline, yrs.since.phd, yrs.service, sex, salary]\n",
       "Index: []"
      ]
     },
     "execution_count": 33,
     "metadata": {},
     "output_type": "execute_result"
    }
   ],
   "source": [
    "df.loc[df['rank']==\" \"]"
   ]
  },
  {
   "cell_type": "markdown",
   "id": "0bb459a1",
   "metadata": {},
   "source": [
    "here we observe that, there are no empty spaces in any row"
   ]
  },
  {
   "cell_type": "markdown",
   "id": "0a676a15",
   "metadata": {},
   "source": [
    "#####  5. draphical analysis"
   ]
  },
  {
   "cell_type": "code",
   "execution_count": 34,
   "id": "e389c2de",
   "metadata": {},
   "outputs": [],
   "source": [
    "# importingne necessary library\n",
    "import seaborn as sns\n",
    "import matplotlib.pyplot as plt"
   ]
  },
  {
   "cell_type": "code",
   "execution_count": 37,
   "id": "1390fa3f",
   "metadata": {},
   "outputs": [
    {
     "name": "stdout",
     "output_type": "stream",
     "text": [
      "Prof         266\n",
      "AssocProf     64\n",
      "AsstProf      63\n",
      "Name: rank, dtype: int64\n"
     ]
    },
    {
     "data": {
      "image/png": "[encoded data removed]",
      "text/plain": [
       "<Figure size 432x288 with 1 Axes>"
      ]
     },
     "metadata": {
      "needs_background": "light"
     },
     "output_type": "display_data"
    }
   ],
   "source": [
    "ax = sns.countplot(x=\"rank\",data=df)\n",
    "print(df[\"rank\"].value_counts())"
   ]
  },
  {
   "cell_type": "markdown",
   "id": "67f5f3e9",
   "metadata": {},
   "source": [
    "rrom above observations total no of prof = 266 , assocprof = 64 , asstprof = 63"
   ]
  },
  {
   "cell_type": "code",
   "execution_count": 39,
   "id": "5150affb",
   "metadata": {},
   "outputs": [
    {
     "name": "stdout",
     "output_type": "stream",
     "text": [
      "B    212\n",
      "A    181\n",
      "Name: discipline, dtype: int64\n"
     ]
    },
    {
     "data": {
      "image/png": "[encoded data removed]",
      "text/plain": [
       "<Figure size 432x288 with 1 Axes>"
      ]
     },
     "metadata": {
      "needs_background": "light"
     },
     "output_type": "display_data"
    }
   ],
   "source": [
    "ax = sns.countplot(x=\"discipline\",data=df)\n",
    "print(df[\"discipline\"].value_counts())"
   ]
  },
  {
   "cell_type": "markdown",
   "id": "24fac295",
   "metadata": {},
   "source": [
    "from above observations type A = 181 and type B = 212"
   ]
  },
  {
   "cell_type": "code",
   "execution_count": 40,
   "id": "006464b1",
   "metadata": {},
   "outputs": [
    {
     "name": "stdout",
     "output_type": "stream",
     "text": [
      "Male      354\n",
      "Female     39\n",
      "Name: sex, dtype: int64\n"
     ]
    },
    {
     "data": {
      "image/png": "[encoded data removed]",
      "text/plain": [
       "<Figure size 432x288 with 1 Axes>"
      ]
     },
     "metadata": {
      "needs_background": "light"
     },
     "output_type": "display_data"
    }
   ],
   "source": [
    "ax = sns.countplot(x=\"sex\",data=df)\n",
    "print(df[\"sex\"].value_counts())"
   ]
  },
  {
   "cell_type": "markdown",
   "id": "8e219b8c",
   "metadata": {},
   "source": [
    "we can see there are very less female tha men that is female = 39 male = 354"
   ]
  },
  {
   "cell_type": "code",
   "execution_count": 43,
   "id": "e477034d",
   "metadata": {},
   "outputs": [],
   "source": [
    "import warnings\n",
    "warnings.filterwarnings('ignore')"
   ]
  },
  {
   "cell_type": "code",
   "execution_count": 44,
   "id": "316ba552",
   "metadata": {},
   "outputs": [
    {
     "data": {
      "image/png": "[encoded data removed]",
      "text/plain": [
       "<Figure size 1008x432 with 2 Axes>"
      ]
     },
     "metadata": {
      "needs_background": "light"
     },
     "output_type": "display_data"
    }
   ],
   "source": [
    "plt.figure(figsize = (14, 6))\n",
    "plt.subplot(1,2,1)\n",
    "sns.boxplot(x='yrs.since.phd',data=df)\n",
    "plt.subplot(1,2,2)\n",
    "sns.distplot(df['yrs.since.phd'], bins=20)\n",
    "plt.show()"
   ]
  },
  {
   "cell_type": "markdown",
   "id": "34d3f6e7",
   "metadata": {},
   "source": [
    "*It can be seen that there is no outlier in 'yrs.since.phd' column\n",
    "\n",
    "*The Distribution of 'yrs.since.phd' is looks like normal distribution, will confirm with Skewness."
   ]
  },
  {
   "cell_type": "code",
   "execution_count": 46,
   "id": "14a4a0fd",
   "metadata": {},
   "outputs": [
    {
     "data": {
      "image/png": "[encoded data removed]",
      "text/plain": [
       "<Figure size 1008x432 with 2 Axes>"
      ]
     },
     "metadata": {
      "needs_background": "light"
     },
     "output_type": "display_data"
    }
   ],
   "source": [
    "plt.figure(figsize = (14, 6))\n",
    "plt.subplot(1,2,1)\n",
    "sns.boxplot(x='yrs.service',data=df)\n",
    "plt.subplot(1,2,2)\n",
    "sns.distplot(df['yrs.service'], bins=20)\n",
    "plt.show()"
   ]
  },
  {
   "cell_type": "markdown",
   "id": "83069356",
   "metadata": {},
   "source": [
    "It can be seen that there are some potential Outliers which we have to deal with.\n",
    "\n",
    "The Distribution of 'yrs.service' is not looks like normal distribution, will confirm with Skewness."
   ]
  },
  {
   "cell_type": "code",
   "execution_count": 56,
   "id": "3226c352",
   "metadata": {
    "scrolled": true
   },
   "outputs": [
    {
     "data": {
      "image/png": "[encoded data removed]",
      "text/plain": [
       "<Figure size 1008x432 with 2 Axes>"
      ]
     },
     "metadata": {
      "needs_background": "light"
     },
     "output_type": "display_data"
    }
   ],
   "source": [
    "plt.figure(figsize = (14, 6))\n",
    "plt.subplot(1,2,1)\n",
    "sns.boxplot(x='salary',data=df)\n",
    "plt.subplot(1,2,2)\n",
    "sns.distplot(df['salary'], bins=20)\n",
    "plt.show()"
   ]
  },
  {
   "cell_type": "markdown",
   "id": "4e080752",
   "metadata": {},
   "source": [
    "*It can be seen that there is no outlier in 'salary' column\n",
    "\n",
    "*The Distribution of 'salary' is looks like normal distribution, will confirm with Skewness."
   ]
  },
  {
   "cell_type": "markdown",
   "id": "75702903",
   "metadata": {},
   "source": [
    "##### 6. bivariate analysis"
   ]
  },
  {
   "cell_type": "code",
   "execution_count": 48,
   "id": "8ed6ddb0",
   "metadata": {},
   "outputs": [
    {
     "data": {
      "text/plain": [
       "Text(0, 0.5, 'salary')"
      ]
     },
     "execution_count": 48,
     "metadata": {},
     "output_type": "execute_result"
    },
    {
     "data": {
      "image/png": "[encoded data removed]",
      "text/plain": [
       "<Figure size 576x432 with 1 Axes>"
      ]
     },
     "metadata": {
      "needs_background": "light"
     },
     "output_type": "display_data"
    }
   ],
   "source": [
    "import matplotlib.pyplot as plt\n",
    "plt.figure(figsize=(8,6))\n",
    "plt.scatter(x='rank',y='salary',color='r',data=df)\n",
    "plt.xlabel('rank',fontsize=14)\n",
    "plt.ylabel('salary',fontsize=14)"
   ]
  },
  {
   "cell_type": "code",
   "execution_count": 49,
   "id": "c5f58b58",
   "metadata": {},
   "outputs": [
    {
     "data": {
      "text/plain": [
       "Text(0, 0.5, 'salary')"
      ]
     },
     "execution_count": 49,
     "metadata": {},
     "output_type": "execute_result"
    },
    {
     "data": {
      "image/png": "[encoded data removed]",
      "text/plain": [
       "<Figure size 576x432 with 1 Axes>"
      ]
     },
     "metadata": {
      "needs_background": "light"
     },
     "output_type": "display_data"
    }
   ],
   "source": [
    "import matplotlib.pyplot as plt\n",
    "plt.figure(figsize=(8,6))\n",
    "plt.scatter(x='discipline',y='salary',color='r',data=df)\n",
    "plt.xlabel('discipline',fontsize=14)\n",
    "plt.ylabel('salary',fontsize=14)"
   ]
  },
  {
   "cell_type": "code",
   "execution_count": 51,
   "id": "f634d861",
   "metadata": {},
   "outputs": [
    {
     "data": {
      "text/plain": [
       "Text(0, 0.5, 'salary')"
      ]
     },
     "execution_count": 51,
     "metadata": {},
     "output_type": "execute_result"
    },
    {
     "data": {
      "image/png": "[encoded data removed]",
      "text/plain": [
       "<Figure size 576x432 with 1 Axes>"
      ]
     },
     "metadata": {
      "needs_background": "light"
     },
     "output_type": "display_data"
    }
   ],
   "source": [
    "import matplotlib.pyplot as plt\n",
    "plt.figure(figsize=(8,6))\n",
    "plt.scatter(x='yrs.since.phd',y='salary',color='r',data=df)\n",
    "plt.xlabel('yrs.since.phd',fontsize=14)\n",
    "plt.ylabel('salary',fontsize=14)"
   ]
  },
  {
   "cell_type": "markdown",
   "id": "929c35e9",
   "metadata": {},
   "source": [
    "here we observe that graph follows a trend which means that there is relation between salary and yrs.scince.pgh"
   ]
  },
  {
   "cell_type": "code",
   "execution_count": 52,
   "id": "f2e898a6",
   "metadata": {},
   "outputs": [
    {
     "data": {
      "text/plain": [
       "Text(0, 0.5, 'salary')"
      ]
     },
     "execution_count": 52,
     "metadata": {},
     "output_type": "execute_result"
    },
    {
     "data": {
      "image/png": "[encoded data removed]",
      "text/plain": [
       "<Figure size 576x432 with 1 Axes>"
      ]
     },
     "metadata": {
      "needs_background": "light"
     },
     "output_type": "display_data"
    }
   ],
   "source": [
    "import matplotlib.pyplot as plt\n",
    "plt.figure(figsize=(8,6))\n",
    "plt.scatter(x='yrs.service',y='salary',color='r',data=df)\n",
    "plt.xlabel('yrs.service',fontsize=14)\n",
    "plt.ylabel('salary',fontsize=14)"
   ]
  },
  {
   "cell_type": "markdown",
   "id": "90d7e74e",
   "metadata": {},
   "source": [
    "here we observe that graph follows a trend which means that there is relation between salary and yrs.service"
   ]
  },
  {
   "cell_type": "code",
   "execution_count": 53,
   "id": "e4961555",
   "metadata": {},
   "outputs": [
    {
     "data": {
      "text/plain": [
       "Text(0, 0.5, 'salary')"
      ]
     },
     "execution_count": 53,
     "metadata": {},
     "output_type": "execute_result"
    },
    {
     "data": {
      "image/png": "[encoded data removed]",
      "text/plain": [
       "<Figure size 576x432 with 1 Axes>"
      ]
     },
     "metadata": {
      "needs_background": "light"
     },
     "output_type": "display_data"
    }
   ],
   "source": [
    "import matplotlib.pyplot as plt\n",
    "plt.figure(figsize=(8,6))\n",
    "plt.scatter(x='sex',y='salary',color='r',data=df)\n",
    "plt.xlabel('sex',fontsize=14)\n",
    "plt.ylabel('salary',fontsize=14)"
   ]
  },
  {
   "cell_type": "markdown",
   "id": "82f81cf1",
   "metadata": {},
   "source": [
    "##### 7. variable transformation"
   ]
  },
  {
   "cell_type": "code",
   "execution_count": 54,
   "id": "08cdd96a",
   "metadata": {},
   "outputs": [],
   "source": [
    "# importing OrdinalEncoder\n",
    "\n",
    "from sklearn.preprocessing import OrdinalEncoder\n",
    "enc=OrdinalEncoder()"
   ]
  },
  {
   "cell_type": "code",
   "execution_count": 55,
   "id": "3aa0715d",
   "metadata": {},
   "outputs": [
    {
     "data": {
      "text/html": [
       "<div>\n",
       "<style scoped>\n",
       "    .dataframe tbody tr th:only-of-type {\n",
       "        vertical-align: middle;\n",
       "    }\n",
       "\n",
       "    .dataframe tbody tr th {\n",
       "        vertical-align: top;\n",
       "    }\n",
       "\n",
       "    .dataframe thead th {\n",
       "        text-align: right;\n",
       "    }\n",
       "</style>\n",
       "<table border=\"1\" class=\"dataframe\">\n",
       "  <thead>\n",
       "    <tr style=\"text-align: right;\">\n",
       "      <th></th>\n",
       "      <th>rank</th>\n",
       "      <th>discipline</th>\n",
       "      <th>yrs.since.phd</th>\n",
       "      <th>yrs.service</th>\n",
       "      <th>sex</th>\n",
       "      <th>salary</th>\n",
       "    </tr>\n",
       "  </thead>\n",
       "  <tbody>\n",
       "    <tr>\n",
       "      <th>0</th>\n",
       "      <td>2.0</td>\n",
       "      <td>1.0</td>\n",
       "      <td>19</td>\n",
       "      <td>18</td>\n",
       "      <td>1.0</td>\n",
       "      <td>139750</td>\n",
       "    </tr>\n",
       "    <tr>\n",
       "      <th>1</th>\n",
       "      <td>2.0</td>\n",
       "      <td>1.0</td>\n",
       "      <td>20</td>\n",
       "      <td>16</td>\n",
       "      <td>1.0</td>\n",
       "      <td>173200</td>\n",
       "    </tr>\n",
       "    <tr>\n",
       "      <th>2</th>\n",
       "      <td>1.0</td>\n",
       "      <td>1.0</td>\n",
       "      <td>4</td>\n",
       "      <td>3</td>\n",
       "      <td>1.0</td>\n",
       "      <td>79750</td>\n",
       "    </tr>\n",
       "    <tr>\n",
       "      <th>3</th>\n",
       "      <td>2.0</td>\n",
       "      <td>1.0</td>\n",
       "      <td>45</td>\n",
       "      <td>39</td>\n",
       "      <td>1.0</td>\n",
       "      <td>115000</td>\n",
       "    </tr>\n",
       "    <tr>\n",
       "      <th>4</th>\n",
       "      <td>2.0</td>\n",
       "      <td>1.0</td>\n",
       "      <td>40</td>\n",
       "      <td>41</td>\n",
       "      <td>1.0</td>\n",
       "      <td>141500</td>\n",
       "    </tr>\n",
       "    <tr>\n",
       "      <th>...</th>\n",
       "      <td>...</td>\n",
       "      <td>...</td>\n",
       "      <td>...</td>\n",
       "      <td>...</td>\n",
       "      <td>...</td>\n",
       "      <td>...</td>\n",
       "    </tr>\n",
       "    <tr>\n",
       "      <th>392</th>\n",
       "      <td>2.0</td>\n",
       "      <td>0.0</td>\n",
       "      <td>33</td>\n",
       "      <td>30</td>\n",
       "      <td>1.0</td>\n",
       "      <td>103106</td>\n",
       "    </tr>\n",
       "    <tr>\n",
       "      <th>393</th>\n",
       "      <td>2.0</td>\n",
       "      <td>0.0</td>\n",
       "      <td>31</td>\n",
       "      <td>19</td>\n",
       "      <td>1.0</td>\n",
       "      <td>150564</td>\n",
       "    </tr>\n",
       "    <tr>\n",
       "      <th>394</th>\n",
       "      <td>2.0</td>\n",
       "      <td>0.0</td>\n",
       "      <td>42</td>\n",
       "      <td>25</td>\n",
       "      <td>1.0</td>\n",
       "      <td>101738</td>\n",
       "    </tr>\n",
       "    <tr>\n",
       "      <th>395</th>\n",
       "      <td>2.0</td>\n",
       "      <td>0.0</td>\n",
       "      <td>25</td>\n",
       "      <td>15</td>\n",
       "      <td>1.0</td>\n",
       "      <td>95329</td>\n",
       "    </tr>\n",
       "    <tr>\n",
       "      <th>396</th>\n",
       "      <td>1.0</td>\n",
       "      <td>0.0</td>\n",
       "      <td>8</td>\n",
       "      <td>4</td>\n",
       "      <td>1.0</td>\n",
       "      <td>81035</td>\n",
       "    </tr>\n",
       "  </tbody>\n",
       "</table>\n",
       "<p>393 rows × 6 columns</p>\n",
       "</div>"
      ],
      "text/plain": [
       "     rank  discipline  yrs.since.phd  yrs.service  sex  salary\n",
       "0     2.0         1.0             19           18  1.0  139750\n",
       "1     2.0         1.0             20           16  1.0  173200\n",
       "2     1.0         1.0              4            3  1.0   79750\n",
       "3     2.0         1.0             45           39  1.0  115000\n",
       "4     2.0         1.0             40           41  1.0  141500\n",
       "..    ...         ...            ...          ...  ...     ...\n",
       "392   2.0         0.0             33           30  1.0  103106\n",
       "393   2.0         0.0             31           19  1.0  150564\n",
       "394   2.0         0.0             42           25  1.0  101738\n",
       "395   2.0         0.0             25           15  1.0   95329\n",
       "396   1.0         0.0              8            4  1.0   81035\n",
       "\n",
       "[393 rows x 6 columns]"
      ]
     },
     "execution_count": 55,
     "metadata": {},
     "output_type": "execute_result"
    }
   ],
   "source": [
    "for i in df.columns:\n",
    "    if df[i].dtypes==\"object\":\n",
    "        df[i]=enc.fit_transform(df[i].values.reshape(-1,1))\n",
    "df        "
   ]
  },
  {
   "cell_type": "markdown",
   "id": "60e4dafc",
   "metadata": {},
   "source": [
    "checking skewness"
   ]
  },
  {
   "cell_type": "code",
   "execution_count": 57,
   "id": "035b167f",
   "metadata": {},
   "outputs": [
    {
     "data": {
      "text/plain": [
       "rank            -1.170826\n",
       "discipline      -0.158861\n",
       "yrs.since.phd    0.295915\n",
       "yrs.service      0.638491\n",
       "sex             -2.691158\n",
       "salary           0.698471\n",
       "dtype: float64"
      ]
     },
     "execution_count": 57,
     "metadata": {},
     "output_type": "execute_result"
    }
   ],
   "source": [
    "df.skew()"
   ]
  },
  {
   "cell_type": "markdown",
   "id": "49354fd4",
   "metadata": {},
   "source": [
    "skewness threshhold is between +/-0.30 , so we can see data in rank, yrs.service, salary are skewed"
   ]
  },
  {
   "cell_type": "markdown",
   "id": "27b8dde0",
   "metadata": {},
   "source": [
    "##### 8. data cleaning "
   ]
  },
  {
   "cell_type": "code",
   "execution_count": 59,
   "id": "538dffe8",
   "metadata": {},
   "outputs": [
    {
     "data": {
      "text/plain": [
       "sex              0.141521\n",
       "discipline       0.164018\n",
       "yrs.service      0.329624\n",
       "yrs.since.phd    0.414042\n",
       "rank             0.519823\n",
       "salary           1.000000\n",
       "Name: salary, dtype: float64"
      ]
     },
     "execution_count": 59,
     "metadata": {},
     "output_type": "execute_result"
    }
   ],
   "source": [
    "#checking correlation\n",
    "df.corr()['salary'].sort_values()"
   ]
  },
  {
   "cell_type": "code",
   "execution_count": 1,
   "id": "25592e91",
   "metadata": {},
   "outputs": [],
   "source": [
    "# removing outliers using z score"
   ]
  },
  {
   "cell_type": "code",
   "execution_count": 61,
   "id": "81c7664a",
   "metadata": {},
   "outputs": [],
   "source": [
    "from scipy.stats import zscore"
   ]
  },
  {
   "cell_type": "code",
   "execution_count": 62,
   "id": "3bbecb7f",
   "metadata": {},
   "outputs": [
    {
     "data": {
      "text/html": [
       "<div>\n",
       "<style scoped>\n",
       "    .dataframe tbody tr th:only-of-type {\n",
       "        vertical-align: middle;\n",
       "    }\n",
       "\n",
       "    .dataframe tbody tr th {\n",
       "        vertical-align: top;\n",
       "    }\n",
       "\n",
       "    .dataframe thead th {\n",
       "        text-align: right;\n",
       "    }\n",
       "</style>\n",
       "<table border=\"1\" class=\"dataframe\">\n",
       "  <thead>\n",
       "    <tr style=\"text-align: right;\">\n",
       "      <th></th>\n",
       "      <th>rank</th>\n",
       "      <th>discipline</th>\n",
       "      <th>yrs.since.phd</th>\n",
       "      <th>yrs.service</th>\n",
       "      <th>sex</th>\n",
       "      <th>salary</th>\n",
       "    </tr>\n",
       "  </thead>\n",
       "  <tbody>\n",
       "    <tr>\n",
       "      <th>0</th>\n",
       "      <td>0.640644</td>\n",
       "      <td>0.923999</td>\n",
       "      <td>0.273772</td>\n",
       "      <td>0.018820</td>\n",
       "      <td>0.331918</td>\n",
       "      <td>0.851500</td>\n",
       "    </tr>\n",
       "    <tr>\n",
       "      <th>1</th>\n",
       "      <td>0.640644</td>\n",
       "      <td>0.923999</td>\n",
       "      <td>0.195636</td>\n",
       "      <td>0.135268</td>\n",
       "      <td>0.331918</td>\n",
       "      <td>1.954661</td>\n",
       "    </tr>\n",
       "    <tr>\n",
       "      <th>2</th>\n",
       "      <td>0.677540</td>\n",
       "      <td>0.923999</td>\n",
       "      <td>1.445800</td>\n",
       "      <td>1.136841</td>\n",
       "      <td>0.331918</td>\n",
       "      <td>1.127264</td>\n",
       "    </tr>\n",
       "    <tr>\n",
       "      <th>3</th>\n",
       "      <td>0.640644</td>\n",
       "      <td>0.923999</td>\n",
       "      <td>1.757745</td>\n",
       "      <td>1.636745</td>\n",
       "      <td>0.331918</td>\n",
       "      <td>0.035260</td>\n",
       "    </tr>\n",
       "    <tr>\n",
       "      <th>4</th>\n",
       "      <td>0.640644</td>\n",
       "      <td>0.923999</td>\n",
       "      <td>1.367068</td>\n",
       "      <td>1.790834</td>\n",
       "      <td>0.331918</td>\n",
       "      <td>0.909214</td>\n",
       "    </tr>\n",
       "    <tr>\n",
       "      <th>...</th>\n",
       "      <td>...</td>\n",
       "      <td>...</td>\n",
       "      <td>...</td>\n",
       "      <td>...</td>\n",
       "      <td>...</td>\n",
       "      <td>...</td>\n",
       "    </tr>\n",
       "    <tr>\n",
       "      <th>392</th>\n",
       "      <td>0.640644</td>\n",
       "      <td>1.082253</td>\n",
       "      <td>0.820122</td>\n",
       "      <td>0.943349</td>\n",
       "      <td>0.331918</td>\n",
       "      <td>0.356997</td>\n",
       "    </tr>\n",
       "    <tr>\n",
       "      <th>393</th>\n",
       "      <td>0.640644</td>\n",
       "      <td>1.082253</td>\n",
       "      <td>0.663851</td>\n",
       "      <td>0.095864</td>\n",
       "      <td>0.331918</td>\n",
       "      <td>1.208140</td>\n",
       "    </tr>\n",
       "    <tr>\n",
       "      <th>394</th>\n",
       "      <td>0.640644</td>\n",
       "      <td>1.082253</td>\n",
       "      <td>1.523339</td>\n",
       "      <td>0.558128</td>\n",
       "      <td>0.331918</td>\n",
       "      <td>0.402113</td>\n",
       "    </tr>\n",
       "    <tr>\n",
       "      <th>395</th>\n",
       "      <td>0.640644</td>\n",
       "      <td>1.082253</td>\n",
       "      <td>0.195040</td>\n",
       "      <td>0.212312</td>\n",
       "      <td>0.331918</td>\n",
       "      <td>0.613478</td>\n",
       "    </tr>\n",
       "    <tr>\n",
       "      <th>396</th>\n",
       "      <td>0.677540</td>\n",
       "      <td>1.082253</td>\n",
       "      <td>1.133259</td>\n",
       "      <td>1.059797</td>\n",
       "      <td>0.331918</td>\n",
       "      <td>1.084885</td>\n",
       "    </tr>\n",
       "  </tbody>\n",
       "</table>\n",
       "<p>393 rows × 6 columns</p>\n",
       "</div>"
      ],
      "text/plain": [
       "         rank  discipline  yrs.since.phd  yrs.service       sex    salary\n",
       "0    0.640644    0.923999       0.273772     0.018820  0.331918  0.851500\n",
       "1    0.640644    0.923999       0.195636     0.135268  0.331918  1.954661\n",
       "2    0.677540    0.923999       1.445800     1.136841  0.331918  1.127264\n",
       "3    0.640644    0.923999       1.757745     1.636745  0.331918  0.035260\n",
       "4    0.640644    0.923999       1.367068     1.790834  0.331918  0.909214\n",
       "..        ...         ...            ...          ...       ...       ...\n",
       "392  0.640644    1.082253       0.820122     0.943349  0.331918  0.356997\n",
       "393  0.640644    1.082253       0.663851     0.095864  0.331918  1.208140\n",
       "394  0.640644    1.082253       1.523339     0.558128  0.331918  0.402113\n",
       "395  0.640644    1.082253       0.195040     0.212312  0.331918  0.613478\n",
       "396  0.677540    1.082253       1.133259     1.059797  0.331918  1.084885\n",
       "\n",
       "[393 rows x 6 columns]"
      ]
     },
     "execution_count": 62,
     "metadata": {},
     "output_type": "execute_result"
    }
   ],
   "source": [
    "z = np.abs(zscore(df))\n",
    "z"
   ]
  },
  {
   "cell_type": "code",
   "execution_count": 64,
   "id": "09d0c566",
   "metadata": {},
   "outputs": [
    {
     "data": {
      "text/plain": [
       "(array([  9,  19,  24,  34,  35,  43,  47,  48,  52,  63,  68,  84,  90,\n",
       "        103, 114, 119, 123, 127, 131, 132, 133, 148, 152, 177, 184, 214,\n",
       "        226, 227, 229, 233, 241, 249, 250, 270, 312, 319, 326, 328, 330,\n",
       "        337, 354, 357, 360], dtype=int64),\n",
       " array([4, 4, 4, 4, 4, 5, 4, 4, 4, 4, 4, 4, 4, 4, 4, 4, 4, 4, 3, 4, 4, 4,\n",
       "        4, 4, 4, 4, 4, 4, 4, 4, 4, 4, 4, 4, 4, 4, 3, 4, 4, 4, 4, 4, 5],\n",
       "       dtype=int64))"
      ]
     },
     "execution_count": 64,
     "metadata": {},
     "output_type": "execute_result"
    }
   ],
   "source": [
    "np.where(z>3)"
   ]
  },
  {
   "cell_type": "code",
   "execution_count": 65,
   "id": "f4bdbaff",
   "metadata": {},
   "outputs": [],
   "source": [
    "new_df = df[(z<3).all(axis=1)]\n"
   ]
  },
  {
   "cell_type": "code",
   "execution_count": 66,
   "id": "6d934e49",
   "metadata": {},
   "outputs": [
    {
     "name": "stdout",
     "output_type": "stream",
     "text": [
      "old data frame (393, 6)\n",
      "new data frame (350, 6)\n"
     ]
    }
   ],
   "source": [
    "print(\"old data frame\",df.shape)\n",
    "print(\"new data frame\",new_df.shape)"
   ]
  },
  {
   "cell_type": "markdown",
   "id": "284edd80",
   "metadata": {},
   "source": [
    "spliting data into independent and dependent COLUMNS"
   ]
  },
  {
   "cell_type": "code",
   "execution_count": 67,
   "id": "b37f05d2",
   "metadata": {},
   "outputs": [],
   "source": [
    "from sklearn.preprocessing import power_transform"
   ]
  },
  {
   "cell_type": "code",
   "execution_count": 72,
   "id": "9ea58d84",
   "metadata": {},
   "outputs": [],
   "source": [
    "x = new_df.iloc[:,:-1]"
   ]
  },
  {
   "cell_type": "code",
   "execution_count": 69,
   "id": "e5e25025",
   "metadata": {},
   "outputs": [],
   "source": [
    "y = new_df.iloc[:,-1]"
   ]
  },
  {
   "cell_type": "code",
   "execution_count": 74,
   "id": "04d26b4c",
   "metadata": {},
   "outputs": [],
   "source": [
    "x = power_transform(x,method='yeo-johnson')"
   ]
  },
  {
   "cell_type": "code",
   "execution_count": 75,
   "id": "631e80f3",
   "metadata": {},
   "outputs": [
    {
     "data": {
      "text/plain": [
       "numpy.ndarray"
      ]
     },
     "execution_count": 75,
     "metadata": {},
     "output_type": "execute_result"
    }
   ],
   "source": [
    "type(x)"
   ]
  },
  {
   "cell_type": "code",
   "execution_count": 76,
   "id": "61ac3e2d",
   "metadata": {},
   "outputs": [
    {
     "data": {
      "text/plain": [
       "array([[ 0.65114532,  0.92295821, -0.19498882,  0.19513   ,  0.        ],\n",
       "       [ 0.65114532,  0.92295821, -0.1155064 ,  0.04589326,  0.        ],\n",
       "       [-1.21186053,  0.92295821, -1.67435269, -1.3392448 ,  0.        ],\n",
       "       ...,\n",
       "       [ 0.65114532, -1.08347268,  1.38546425,  0.65917957,  0.        ],\n",
       "       [ 0.65114532, -1.08347268,  0.26287215, -0.03231518,  0.        ],\n",
       "       [-1.21186053, -1.08347268, -1.1999892 , -1.18051518,  0.        ]])"
      ]
     },
     "execution_count": 76,
     "metadata": {},
     "output_type": "execute_result"
    }
   ],
   "source": [
    "x"
   ]
  },
  {
   "cell_type": "markdown",
   "id": "54bde191",
   "metadata": {},
   "source": [
    "transform my dataset into standart normal distribution"
   ]
  },
  {
   "cell_type": "code",
   "execution_count": 78,
   "id": "79c6d95a",
   "metadata": {},
   "outputs": [],
   "source": [
    "from sklearn.preprocessing import StandardScaler"
   ]
  },
  {
   "cell_type": "code",
   "execution_count": 79,
   "id": "d77b2a57",
   "metadata": {},
   "outputs": [
    {
     "data": {
      "text/plain": [
       "array([[ 0.65114532,  0.92295821, -0.19498882,  0.19513   ,  0.        ],\n",
       "       [ 0.65114532,  0.92295821, -0.1155064 ,  0.04589326,  0.        ],\n",
       "       [-1.21186053,  0.92295821, -1.67435269, -1.3392448 ,  0.        ],\n",
       "       ...,\n",
       "       [ 0.65114532, -1.08347268,  1.38546425,  0.65917957,  0.        ],\n",
       "       [ 0.65114532, -1.08347268,  0.26287215, -0.03231518,  0.        ],\n",
       "       [-1.21186053, -1.08347268, -1.1999892 , -1.18051518,  0.        ]])"
      ]
     },
     "execution_count": 79,
     "metadata": {},
     "output_type": "execute_result"
    }
   ],
   "source": [
    "sc=StandardScaler()\n",
    "x=sc.fit_transform(x)\n",
    "x"
   ]
  },
  {
   "cell_type": "code",
   "execution_count": 83,
   "id": "ef74bdb0",
   "metadata": {},
   "outputs": [],
   "source": [
    "# removing skewness from target column\n",
    "y=np.sqrt(y)"
   ]
  },
  {
   "cell_type": "code",
   "execution_count": 84,
   "id": "2c18ddb6",
   "metadata": {},
   "outputs": [
    {
     "data": {
      "text/plain": [
       "0.3199963412122632"
      ]
     },
     "execution_count": 84,
     "metadata": {},
     "output_type": "execute_result"
    }
   ],
   "source": [
    "y.skew()"
   ]
  },
  {
   "cell_type": "markdown",
   "id": "7092cc7f",
   "metadata": {},
   "source": [
    "we can see skewness is removed"
   ]
  },
  {
   "cell_type": "markdown",
   "id": "3aa92739",
   "metadata": {},
   "source": [
    "### now selcting target and features"
   ]
  },
  {
   "cell_type": "code",
   "execution_count": 91,
   "id": "e72810d3",
   "metadata": {},
   "outputs": [],
   "source": [
    "feature = x"
   ]
  },
  {
   "cell_type": "code",
   "execution_count": 86,
   "id": "cb539442",
   "metadata": {},
   "outputs": [],
   "source": [
    "target = y"
   ]
  },
  {
   "cell_type": "markdown",
   "id": "686a83d3",
   "metadata": {},
   "source": [
    "performing train_test_split"
   ]
  },
  {
   "cell_type": "code",
   "execution_count": 88,
   "id": "41bdf711",
   "metadata": {},
   "outputs": [],
   "source": [
    "from sklearn.preprocessing import MinMaxScaler\n",
    "mms=MinMaxScaler()\n",
    "from sklearn.linear_model import LinearRegression\n",
    "lr=LinearRegression()\n",
    "from sklearn.metrics import r2_score\n",
    "from sklearn.model_selection import train_test_split"
   ]
  },
  {
   "cell_type": "code",
   "execution_count": 89,
   "id": "156b42af",
   "metadata": {},
   "outputs": [],
   "source": [
    "import warnings\n",
    "warnings.filterwarnings(\"ignore\")"
   ]
  },
  {
   "cell_type": "code",
   "execution_count": 93,
   "id": "16fa7a2e",
   "metadata": {},
   "outputs": [
    {
     "name": "stdout",
     "output_type": "stream",
     "text": [
      "at random state 0,the training accuracy is : ,0.3825077335922691\n",
      "at random state 0,the testing accuracy is : ,0.47515222847018\n",
      "\n",
      "\n",
      "at random state 1,the training accuracy is : ,0.38704978045614125\n",
      "at random state 1,the testing accuracy is : ,0.47793041723921126\n",
      "\n",
      "\n",
      "at random state 2,the training accuracy is : ,0.42366032275091436\n",
      "at random state 2,the testing accuracy is : ,0.3437212929163378\n",
      "\n",
      "\n",
      "at random state 3,the training accuracy is : ,0.40425201490996965\n",
      "at random state 3,the testing accuracy is : ,0.422486592459947\n",
      "\n",
      "\n",
      "at random state 4,the training accuracy is : ,0.3978935547543736\n",
      "at random state 4,the testing accuracy is : ,0.45096411251014834\n",
      "\n",
      "\n",
      "at random state 5,the training accuracy is : ,0.43417625351101097\n",
      "at random state 5,the testing accuracy is : ,0.31527337369938213\n",
      "\n",
      "\n",
      "at random state 6,the training accuracy is : ,0.40317656301046845\n",
      "at random state 6,the testing accuracy is : ,0.4280947869052535\n",
      "\n",
      "\n",
      "at random state 7,the training accuracy is : ,0.44336413805090713\n",
      "at random state 7,the testing accuracy is : ,0.25765549922391007\n",
      "\n",
      "\n",
      "at random state 8,the training accuracy is : ,0.41636032698187275\n",
      "at random state 8,the testing accuracy is : ,0.38502353222516406\n",
      "\n",
      "\n",
      "at random state 9,the training accuracy is : ,0.40455732196758076\n",
      "at random state 9,the testing accuracy is : ,0.421397069158968\n",
      "\n",
      "\n",
      "at random state 10,the training accuracy is : ,0.38050314993480516\n",
      "at random state 10,the testing accuracy is : ,0.4536414153959215\n",
      "\n",
      "\n",
      "at random state 11,the training accuracy is : ,0.394065239506997\n",
      "at random state 11,the testing accuracy is : ,0.4661684364877925\n",
      "\n",
      "\n",
      "at random state 12,the training accuracy is : ,0.3959124130689874\n",
      "at random state 12,the testing accuracy is : ,0.46838116400516105\n",
      "\n",
      "\n",
      "at random state 13,the training accuracy is : ,0.37010016110550703\n",
      "at random state 13,the testing accuracy is : ,0.579418136332976\n",
      "\n",
      "\n",
      "at random state 14,the training accuracy is : ,0.43247010303244793\n",
      "at random state 14,the testing accuracy is : ,0.26170421285934775\n",
      "\n",
      "\n",
      "at random state 15,the training accuracy is : ,0.4040636123465091\n",
      "at random state 15,the testing accuracy is : ,0.42110129107119454\n",
      "\n",
      "\n",
      "at random state 16,the training accuracy is : ,0.40404493273663\n",
      "at random state 16,the testing accuracy is : ,0.4164587637920232\n",
      "\n",
      "\n",
      "at random state 17,the training accuracy is : ,0.3831307523586954\n",
      "at random state 17,the testing accuracy is : ,0.5146542709375188\n",
      "\n",
      "\n",
      "at random state 18,the training accuracy is : ,0.3910739827368547\n",
      "at random state 18,the testing accuracy is : ,0.4521218144186945\n",
      "\n",
      "\n",
      "at random state 19,the training accuracy is : ,0.3896299703190611\n",
      "at random state 19,the testing accuracy is : ,0.47290012138929216\n",
      "\n",
      "\n",
      "at random state 20,the training accuracy is : ,0.3913042807695637\n",
      "at random state 20,the testing accuracy is : ,0.44797045678639813\n",
      "\n",
      "\n",
      "at random state 21,the training accuracy is : ,0.40596378430014346\n",
      "at random state 21,the testing accuracy is : ,0.4174445726442939\n",
      "\n",
      "\n",
      "at random state 22,the training accuracy is : ,0.4078400904647097\n",
      "at random state 22,the testing accuracy is : ,0.38211171355155515\n",
      "\n",
      "\n",
      "at random state 23,the training accuracy is : ,0.42200631218058815\n",
      "at random state 23,the testing accuracy is : ,0.3497274755549088\n",
      "\n",
      "\n",
      "at random state 24,the training accuracy is : ,0.4113227610549609\n",
      "at random state 24,the testing accuracy is : ,0.35015786306763275\n",
      "\n",
      "\n",
      "at random state 25,the training accuracy is : ,0.42325735158051137\n",
      "at random state 25,the testing accuracy is : ,0.3382907761622789\n",
      "\n",
      "\n",
      "at random state 26,the training accuracy is : ,0.38631710252061\n",
      "at random state 26,the testing accuracy is : ,0.46708701361816396\n",
      "\n",
      "\n",
      "at random state 27,the training accuracy is : ,0.45668733339896805\n",
      "at random state 27,the testing accuracy is : ,0.13843482364690096\n",
      "\n",
      "\n",
      "at random state 28,the training accuracy is : ,0.4125623560632872\n",
      "at random state 28,the testing accuracy is : ,0.35199156411601495\n",
      "\n",
      "\n",
      "at random state 29,the training accuracy is : ,0.4277286004722637\n",
      "at random state 29,the testing accuracy is : ,0.3158179947394255\n",
      "\n",
      "\n",
      "at random state 30,the training accuracy is : ,0.38808141185057143\n",
      "at random state 30,the testing accuracy is : ,0.47143929605899404\n",
      "\n",
      "\n",
      "at random state 31,the training accuracy is : ,0.4304334282357515\n",
      "at random state 31,the testing accuracy is : ,0.2412918190454485\n",
      "\n",
      "\n",
      "at random state 32,the training accuracy is : ,0.4299509036515523\n",
      "at random state 32,the testing accuracy is : ,0.3042573256415898\n",
      "\n",
      "\n",
      "at random state 33,the training accuracy is : ,0.4377695212630771\n",
      "at random state 33,the testing accuracy is : ,0.2416279839765363\n",
      "\n",
      "\n",
      "at random state 34,the training accuracy is : ,0.37964989558471196\n",
      "at random state 34,the testing accuracy is : ,0.46584186449515297\n",
      "\n",
      "\n",
      "at random state 35,the training accuracy is : ,0.39065203980410534\n",
      "at random state 35,the testing accuracy is : ,0.49003097889510594\n",
      "\n",
      "\n",
      "at random state 36,the training accuracy is : ,0.422769124090977\n",
      "at random state 36,the testing accuracy is : ,0.2334312325824689\n",
      "\n",
      "\n",
      "at random state 37,the training accuracy is : ,0.3864540483162634\n",
      "at random state 37,the testing accuracy is : ,0.48180833090248343\n",
      "\n",
      "\n",
      "at random state 38,the training accuracy is : ,0.4337428382327636\n",
      "at random state 38,the testing accuracy is : ,0.27348070654648526\n",
      "\n",
      "\n",
      "at random state 39,the training accuracy is : ,0.4339595676646779\n",
      "at random state 39,the testing accuracy is : ,0.29308126479331553\n",
      "\n",
      "\n",
      "at random state 40,the training accuracy is : ,0.4187446413182754\n",
      "at random state 40,the testing accuracy is : ,0.3623110738913843\n",
      "\n",
      "\n",
      "at random state 41,the training accuracy is : ,0.4357394025365672\n",
      "at random state 41,the testing accuracy is : ,0.25205070843390487\n",
      "\n",
      "\n",
      "at random state 42,the training accuracy is : ,0.44789165129463426\n",
      "at random state 42,the testing accuracy is : ,0.2032476297932756\n",
      "\n",
      "\n",
      "at random state 43,the training accuracy is : ,0.42656055287792427\n",
      "at random state 43,the testing accuracy is : ,0.3272921892576379\n",
      "\n",
      "\n",
      "at random state 44,the training accuracy is : ,0.40121302267335934\n",
      "at random state 44,the testing accuracy is : ,0.4384178282571354\n",
      "\n",
      "\n",
      "at random state 45,the training accuracy is : ,0.41819004650946323\n",
      "at random state 45,the testing accuracy is : ,0.3710131341096423\n",
      "\n",
      "\n",
      "at random state 46,the training accuracy is : ,0.38525566825812063\n",
      "at random state 46,the testing accuracy is : ,0.5356459204824127\n",
      "\n",
      "\n",
      "at random state 47,the training accuracy is : ,0.4266425834169124\n",
      "at random state 47,the testing accuracy is : ,0.3080057242655615\n",
      "\n",
      "\n",
      "at random state 48,the training accuracy is : ,0.40621359636427534\n",
      "at random state 48,the testing accuracy is : ,0.4252829692238147\n",
      "\n",
      "\n",
      "at random state 49,the training accuracy is : ,0.4164268552096586\n",
      "at random state 49,the testing accuracy is : ,0.36192032788327355\n",
      "\n",
      "\n",
      "at random state 50,the training accuracy is : ,0.38770687176124563\n",
      "at random state 50,the testing accuracy is : ,0.47646556464623024\n",
      "\n",
      "\n",
      "at random state 51,the training accuracy is : ,0.41049536421863275\n",
      "at random state 51,the testing accuracy is : ,0.36856369487525176\n",
      "\n",
      "\n",
      "at random state 52,the training accuracy is : ,0.40725738120442156\n",
      "at random state 52,the testing accuracy is : ,0.37927436094875255\n",
      "\n",
      "\n",
      "at random state 53,the training accuracy is : ,0.4509316397906118\n",
      "at random state 53,the testing accuracy is : ,0.11654785809593471\n",
      "\n",
      "\n",
      "at random state 54,the training accuracy is : ,0.4046321725843163\n",
      "at random state 54,the testing accuracy is : ,0.4297342604195281\n",
      "\n",
      "\n",
      "at random state 55,the training accuracy is : ,0.4050743029128835\n",
      "at random state 55,the testing accuracy is : ,0.4331912364909968\n",
      "\n",
      "\n",
      "at random state 56,the training accuracy is : ,0.3771565110771731\n",
      "at random state 56,the testing accuracy is : ,0.5238366728894082\n",
      "\n",
      "\n",
      "at random state 57,the training accuracy is : ,0.4424065321843972\n",
      "at random state 57,the testing accuracy is : ,0.2932878779484973\n",
      "\n",
      "\n",
      "at random state 58,the training accuracy is : ,0.42273422284387474\n",
      "at random state 58,the testing accuracy is : ,0.3393472459368808\n",
      "\n",
      "\n",
      "at random state 59,the training accuracy is : ,0.391141173547229\n",
      "at random state 59,the testing accuracy is : ,0.46756702850111886\n",
      "\n",
      "\n",
      "at random state 60,the training accuracy is : ,0.4066859947939181\n",
      "at random state 60,the testing accuracy is : ,0.4162808213407301\n",
      "\n",
      "\n",
      "at random state 61,the training accuracy is : ,0.3893380229894553\n",
      "at random state 61,the testing accuracy is : ,0.49383690573268957\n",
      "\n",
      "\n",
      "at random state 62,the training accuracy is : ,0.41469403343171296\n",
      "at random state 62,the testing accuracy is : ,0.37830682412069205\n",
      "\n",
      "\n",
      "at random state 63,the training accuracy is : ,0.4645324641054275\n",
      "at random state 63,the testing accuracy is : ,0.18315496212919558\n",
      "\n",
      "\n",
      "at random state 64,the training accuracy is : ,0.41069580377881976\n",
      "at random state 64,the testing accuracy is : ,0.40626653383048306\n",
      "\n",
      "\n",
      "at random state 65,the training accuracy is : ,0.4381230091381101\n",
      "at random state 65,the testing accuracy is : ,0.3012764712179222\n",
      "\n",
      "\n",
      "at random state 66,the training accuracy is : ,0.3880872077573445\n",
      "at random state 66,the testing accuracy is : ,0.48707218514734185\n",
      "\n",
      "\n",
      "at random state 67,the training accuracy is : ,0.40295903593073445\n",
      "at random state 67,the testing accuracy is : ,0.41533623395704666\n",
      "\n",
      "\n",
      "at random state 68,the training accuracy is : ,0.40831486718307775\n",
      "at random state 68,the testing accuracy is : ,0.4188328881132831\n",
      "\n",
      "\n",
      "at random state 69,the training accuracy is : ,0.4329235260018016\n",
      "at random state 69,the testing accuracy is : ,0.2996392007043832\n",
      "\n",
      "\n",
      "at random state 70,the training accuracy is : ,0.41112324703645975\n",
      "at random state 70,the testing accuracy is : ,0.4024606171717111\n",
      "\n",
      "\n",
      "at random state 71,the training accuracy is : ,0.41299127166815786\n",
      "at random state 71,the testing accuracy is : ,0.3836878721852869\n",
      "\n",
      "\n",
      "at random state 72,the training accuracy is : ,0.430323892593378\n",
      "at random state 72,the testing accuracy is : ,0.3273932617023846\n",
      "\n",
      "\n",
      "at random state 73,the training accuracy is : ,0.407435596416305\n",
      "at random state 73,the testing accuracy is : ,0.40664720233663454\n",
      "\n",
      "\n",
      "at random state 74,the training accuracy is : ,0.39942576343446823\n",
      "at random state 74,the testing accuracy is : ,0.4525345993435511\n",
      "\n",
      "\n",
      "at random state 75,the training accuracy is : ,0.4216333380364795\n",
      "at random state 75,the testing accuracy is : ,0.36917778763226883\n",
      "\n",
      "\n",
      "at random state 76,the training accuracy is : ,0.40636606642060025\n",
      "at random state 76,the testing accuracy is : ,0.4228374667639656\n",
      "\n",
      "\n",
      "at random state 77,the training accuracy is : ,0.3858125240752771\n",
      "at random state 77,the testing accuracy is : ,0.5073572886053421\n",
      "\n",
      "\n",
      "at random state 78,the training accuracy is : ,0.4168701472224243\n",
      "at random state 78,the testing accuracy is : ,0.3550822536385765\n",
      "\n",
      "\n",
      "at random state 79,the training accuracy is : ,0.39843633765722697\n",
      "at random state 79,the testing accuracy is : ,0.4543426852052499\n",
      "\n",
      "\n",
      "at random state 80,the training accuracy is : ,0.43062984002480564\n",
      "at random state 80,the testing accuracy is : ,0.2784751619008978\n",
      "\n",
      "\n",
      "at random state 81,the training accuracy is : ,0.4225448018146387\n",
      "at random state 81,the testing accuracy is : ,0.3310260508709221\n",
      "\n",
      "\n",
      "at random state 82,the training accuracy is : ,0.42176075122664425\n",
      "at random state 82,the testing accuracy is : ,0.3350426365614666\n",
      "\n",
      "\n",
      "at random state 83,the training accuracy is : ,0.42680151877159966\n",
      "at random state 83,the testing accuracy is : ,0.34663522957911075\n",
      "\n",
      "\n",
      "at random state 84,the training accuracy is : ,0.42221538325466246\n",
      "at random state 84,the testing accuracy is : ,0.3487045755368785\n",
      "\n",
      "\n",
      "at random state 85,the training accuracy is : ,0.38728374449921144\n",
      "at random state 85,the testing accuracy is : ,0.4926668257707474\n",
      "\n",
      "\n",
      "at random state 86,the training accuracy is : ,0.42451596808326053\n",
      "at random state 86,the testing accuracy is : ,0.3303136105353046\n",
      "\n",
      "\n",
      "at random state 87,the training accuracy is : ,0.3865216519162811\n",
      "at random state 87,the testing accuracy is : ,0.4877069419821879\n",
      "\n",
      "\n",
      "at random state 88,the training accuracy is : ,0.39967572606741564\n",
      "at random state 88,the testing accuracy is : ,0.4310086759776376\n",
      "\n",
      "\n",
      "at random state 89,the training accuracy is : ,0.36874111102637286\n",
      "at random state 89,the testing accuracy is : ,0.5826047205317471\n",
      "\n",
      "\n",
      "at random state 90,the training accuracy is : ,0.4075095458128912\n",
      "at random state 90,the testing accuracy is : ,0.412812259703599\n",
      "\n",
      "\n",
      "at random state 91,the training accuracy is : ,0.4173362000799219\n",
      "at random state 91,the testing accuracy is : ,0.3746202746291676\n",
      "\n",
      "\n",
      "at random state 92,the training accuracy is : ,0.4036787141683458\n",
      "at random state 92,the testing accuracy is : ,0.42222601092632195\n",
      "\n",
      "\n",
      "at random state 93,the training accuracy is : ,0.40182542219976947\n",
      "at random state 93,the testing accuracy is : ,0.43557130863436977\n",
      "\n",
      "\n",
      "at random state 94,the training accuracy is : ,0.414104654164848\n",
      "at random state 94,the testing accuracy is : ,0.38292779227447893\n",
      "\n",
      "\n",
      "at random state 95,the training accuracy is : ,0.4150351543623355\n",
      "at random state 95,the testing accuracy is : ,0.39266181943323986\n",
      "\n",
      "\n",
      "at random state 96,the training accuracy is : ,0.3945350568529158\n",
      "at random state 96,the testing accuracy is : ,0.46250476874222723\n",
      "\n",
      "\n",
      "at random state 97,the training accuracy is : ,0.4173835122421755\n",
      "at random state 97,the testing accuracy is : ,0.32730511005348206\n",
      "\n",
      "\n",
      "at random state 98,the training accuracy is : ,0.40448114624738996\n",
      "at random state 98,the testing accuracy is : ,0.43205702465344265\n",
      "\n",
      "\n",
      "at random state 99,the training accuracy is : ,0.397942414881719\n",
      "at random state 99,the testing accuracy is : ,0.453349658860158\n",
      "\n",
      "\n"
     ]
    }
   ],
   "source": [
    "for i in range(0,100):\n",
    "    feature_train,feature_test,target_train,target_test=train_test_split(feature,target,test_size=0.2,random_state=i)\n",
    "    lr.fit(feature_train,target_train)\n",
    "    pred_train=lr.predict(feature_train)\n",
    "    pred_test=lr.predict(feature_test)\n",
    "    print(f\"at random state {i},the training accuracy is : ,{r2_score(target_train,pred_train)}\")\n",
    "    print(f\"at random state {i},the testing accuracy is : ,{r2_score(target_test,pred_test)}\")\n",
    "    print(\"\\n\")"
   ]
  },
  {
   "cell_type": "markdown",
   "id": "21f48347",
   "metadata": {},
   "source": [
    "##### we will select random state = 60 as difference between testing and training accuracy is very less"
   ]
  },
  {
   "cell_type": "code",
   "execution_count": 94,
   "id": "ba5f0bcb",
   "metadata": {},
   "outputs": [],
   "source": [
    "feature_train,feature_test,target_train,target_test=train_test_split(feature,target,test_size=0.2,random_state=60)"
   ]
  },
  {
   "cell_type": "code",
   "execution_count": 95,
   "id": "5f577a81",
   "metadata": {},
   "outputs": [
    {
     "data": {
      "text/plain": [
       "LinearRegression()"
      ]
     },
     "execution_count": 95,
     "metadata": {},
     "output_type": "execute_result"
    }
   ],
   "source": [
    "lr.fit(feature_train,target_train)"
   ]
  },
  {
   "cell_type": "code",
   "execution_count": 96,
   "id": "324c2791",
   "metadata": {},
   "outputs": [],
   "source": [
    " pred_train=lr.predict(feature_train)"
   ]
  },
  {
   "cell_type": "code",
   "execution_count": 97,
   "id": "067062f6",
   "metadata": {},
   "outputs": [
    {
     "name": "stdout",
     "output_type": "stream",
     "text": [
      "0.4066859947939181\n"
     ]
    }
   ],
   "source": [
    "print(r2_score(target_train,pred_train))"
   ]
  },
  {
   "cell_type": "markdown",
   "id": "04aeafb7",
   "metadata": {},
   "source": [
    "we get r2_score = 0.4066859947939181"
   ]
  },
  {
   "cell_type": "markdown",
   "id": "4a0dc17d",
   "metadata": {},
   "source": [
    "###  cross-validation of the model"
   ]
  },
  {
   "cell_type": "code",
   "execution_count": 98,
   "id": "2d75552c",
   "metadata": {},
   "outputs": [
    {
     "name": "stdout",
     "output_type": "stream",
     "text": [
      "at cross fold 2 cv score is 0.3638465722137146 and accuracy score of taining is 0.4066859947939181 and accuracy score of testing is -0.40764145792935746\n",
      "\n",
      "\n",
      "at cross fold 3 cv score is 0.3494556286318164 and accuracy score of taining is 0.4066859947939181 and accuracy score of testing is -0.40764145792935746\n",
      "\n",
      "\n",
      "at cross fold 4 cv score is 0.3534421297971818 and accuracy score of taining is 0.4066859947939181 and accuracy score of testing is -0.40764145792935746\n",
      "\n",
      "\n",
      "at cross fold 5 cv score is 0.3427301725992527 and accuracy score of taining is 0.4066859947939181 and accuracy score of testing is -0.40764145792935746\n",
      "\n",
      "\n",
      "at cross fold 6 cv score is 0.3521522336777474 and accuracy score of taining is 0.4066859947939181 and accuracy score of testing is -0.40764145792935746\n",
      "\n",
      "\n",
      "at cross fold 7 cv score is 0.3630037566133821 and accuracy score of taining is 0.4066859947939181 and accuracy score of testing is -0.40764145792935746\n",
      "\n",
      "\n",
      "at cross fold 8 cv score is 0.368217720841426 and accuracy score of taining is 0.4066859947939181 and accuracy score of testing is -0.40764145792935746\n",
      "\n",
      "\n",
      "at cross fold 9 cv score is 0.3597544531118635 and accuracy score of taining is 0.4066859947939181 and accuracy score of testing is -0.40764145792935746\n",
      "\n",
      "\n"
     ]
    }
   ],
   "source": [
    "train_accuracy=r2_score(target_train,pred_train)\n",
    "test_accuracy=r2_score(target_test,pred_test)\n",
    "\n",
    "from sklearn.model_selection import cross_val_score\n",
    "for j in range(2,10):\n",
    "    cv_score=cross_val_score(lr,feature,target,cv=j)\n",
    "    cv_mean=cv_score.mean()\n",
    "    print(f\"at cross fold {j} cv score is {cv_mean} and accuracy score of taining is {train_accuracy} and accuracy score of testing is {test_accuracy}\")\n",
    "    print('\\n')"
   ]
  },
  {
   "cell_type": "markdown",
   "id": "260f7169",
   "metadata": {},
   "source": [
    "since number of flod dont have much impact on accurary and cv_score so we select cv=2"
   ]
  },
  {
   "cell_type": "markdown",
   "id": "5c9006e8",
   "metadata": {},
   "source": [
    "over and under fitting checking"
   ]
  },
  {
   "cell_type": "code",
   "execution_count": 100,
   "id": "6c1616bb",
   "metadata": {},
   "outputs": [
    {
     "data": {
      "image/png": "[encoded data removed]",
      "text/plain": [
       "<Figure size 576x432 with 1 Axes>"
      ]
     },
     "metadata": {
      "needs_background": "light"
     },
     "output_type": "display_data"
    }
   ],
   "source": [
    "import matplotlib.pyplot as plt\n",
    "plt.figure(figsize=(8,6))\n",
    "plt.scatter(x=target_test,y=pred_test,color='r')\n",
    "plt.plot(target_test,target_test,color='b')\n",
    "plt.xlabel('actual charges',fontsize=14)\n",
    "plt.ylabel('predicted charger',fontsize=14)\n",
    "plt.title('linear regression',fontsize=18)\n",
    "plt.savefig('lr.png')\n",
    "plt.show()"
   ]
  },
  {
   "cell_type": "code",
   "execution_count": 101,
   "id": "30b55a52",
   "metadata": {},
   "outputs": [],
   "source": [
    "from sklearn.model_selection import GridSearchCV\n",
    "from sklearn.model_selection import cross_val_score\n",
    "import warnings\n",
    "warnings.filterwarnings('ignore')"
   ]
  },
  {
   "cell_type": "code",
   "execution_count": 102,
   "id": "78a9ab7e",
   "metadata": {},
   "outputs": [
    {
     "name": "stdout",
     "output_type": "stream",
     "text": [
      "{'alpha': 0.01, 'random_state': 0}\n"
     ]
    }
   ],
   "source": [
    "from sklearn.linear_model import Lasso\n",
    "\n",
    "parameters = {'alpha':[.0001, .001, .01, .1, 1, 10],\n",
    "             'random_state':list(range(0,10))}\n",
    "ls = Lasso()\n",
    "clf = GridSearchCV(ls,parameters)\n",
    "clf.fit(feature_train,target_train)\n",
    "\n",
    "print(clf.best_params_)\n"
   ]
  },
  {
   "cell_type": "code",
   "execution_count": 103,
   "id": "1b5e219d",
   "metadata": {},
   "outputs": [
    {
     "data": {
      "text/plain": [
       "40.668459169498725"
      ]
     },
     "execution_count": 103,
     "metadata": {},
     "output_type": "execute_result"
    }
   ],
   "source": [
    "ls=Lasso(alpha=0.01,random_state=0)\n",
    "ls.fit(feature_train,target_train)\n",
    "ls_score_training=ls.score(feature_train,target_train)\n",
    "pred_ls=ls.predict(feature_test)\n",
    "ls_score_training*100"
   ]
  },
  {
   "cell_type": "code",
   "execution_count": 104,
   "id": "7eda71d7",
   "metadata": {},
   "outputs": [],
   "source": [
    "pred_ls=ls.predict(feature_test)"
   ]
  },
  {
   "cell_type": "code",
   "execution_count": 105,
   "id": "55ff35eb",
   "metadata": {},
   "outputs": [
    {
     "data": {
      "text/plain": [
       "41.63827516184702"
      ]
     },
     "execution_count": 105,
     "metadata": {},
     "output_type": "execute_result"
    }
   ],
   "source": [
    "lss=r2_score(target_test,pred_ls)\n",
    "lss*100"
   ]
  },
  {
   "cell_type": "code",
   "execution_count": 106,
   "id": "3569eeec",
   "metadata": {},
   "outputs": [
    {
     "data": {
      "text/plain": [
       "34.30097817159393"
      ]
     },
     "execution_count": 106,
     "metadata": {},
     "output_type": "execute_result"
    }
   ],
   "source": [
    "cv_score=cross_val_score(ls,feature,target,cv=5)\n",
    "cv_mean=cv_score.mean()\n",
    "cv_mean*100"
   ]
  },
  {
   "cell_type": "code",
   "execution_count": 107,
   "id": "6ae7ce05",
   "metadata": {},
   "outputs": [
    {
     "name": "stdout",
     "output_type": "stream",
     "text": [
      "{'criterion': 'mae', 'max_features': 'auto'}\n"
     ]
    }
   ],
   "source": [
    "from sklearn.model_selection import GridSearchCV\n",
    "from sklearn.ensemble import RandomForestRegressor\n",
    "\n",
    "parameters = {'criterion' :['mse','mae'],\n",
    "             'max_features':[\"auto\",\"sqrt\",\"log2\"]}\n",
    "\n",
    "rf=RandomForestRegressor()\n",
    "clf = GridSearchCV(rf,parameters)\n",
    "clf.fit(feature_train,target_train)\n",
    "\n",
    "print(clf.best_params_)"
   ]
  },
  {
   "cell_type": "code",
   "execution_count": 108,
   "id": "0888da0c",
   "metadata": {},
   "outputs": [
    {
     "name": "stdout",
     "output_type": "stream",
     "text": [
      "R2 score :  26.718347768699925\n",
      "cross val score :  28.670261362116527\n"
     ]
    }
   ],
   "source": [
    "rf = RandomForestRegressor(criterion=\"mae\",max_features=\"auto\")\n",
    "rf.fit(feature_train,target_train)\n",
    "rf.score(feature_train,target_train)\n",
    "pred_decision = rf.predict(feature_test)\n",
    "\n",
    "rfs = r2_score(target_test,pred_decision)\n",
    "print(\"R2 score : \",rfs*100)\n",
    "\n",
    "rfscore = cross_val_score(rf,feature,target,cv=5)\n",
    "rfc = rfscore.mean()\n",
    "print('cross val score : ',rfc*100)"
   ]
  },
  {
   "cell_type": "markdown",
   "id": "619f9cb8",
   "metadata": {},
   "source": [
    "##### we will go with lasso  as it gives more accuracy"
   ]
  },
  {
   "cell_type": "markdown",
   "id": "3b0bf596",
   "metadata": {},
   "source": [
    "### saving model"
   ]
  },
  {
   "cell_type": "code",
   "execution_count": 110,
   "id": "c1c508d8",
   "metadata": {},
   "outputs": [],
   "source": [
    "import pickle\n",
    "filename = 'churn.pkl'\n",
    "pickle.dump(rf, open(filename,'wb'))"
   ]
  }
 ],
 "metadata": {
  "kernelspec": {
   "display_name": "Python 3 (ipykernel)",
   "language": "python",
   "name": "python3"
  },
  "language_info": {
   "codemirror_mode": {
    "name": "ipython",
    "version": 3
   },
   "file_extension": ".py",
   "mimetype": "text/x-python",
   "name": "python",
   "nbconvert_exporter": "python",
   "pygments_lexer": "ipython3",
   "version": "3.9.7"
  }
 },
 "nbformat": 4,
 "nbformat_minor": 5
}
