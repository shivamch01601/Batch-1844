{
 "cells": [
  {
   "cell_type": "markdown",
   "id": "40aa70d5",
   "metadata": {},
   "source": [
    "####  Practice Project - 4"
   ]
  },
  {
   "cell_type": "markdown",
   "id": "34403d1a",
   "metadata": {},
   "source": [
    "# Rings of Abalone"
   ]
  },
  {
   "cell_type": "markdown",
   "id": "abcabcdf",
   "metadata": {},
   "source": [
    "* You have to predict the rings of each abalone which will lead us to the age of that abalone. "
   ]
  },
  {
   "cell_type": "code",
   "execution_count": 1,
   "id": "b7a962d7",
   "metadata": {},
   "outputs": [],
   "source": [
    "# import important libraries\n",
    "\n",
    "import pandas as pd\n",
    "import numpy as np\n",
    "import seaborn as sns \n",
    "import matplotlib.pyplot as plt\n",
    "from sklearn.preprocessing import StandardScaler\n",
    "from sklearn.linear_model import LogisticRegression\n",
    "from sklearn.model_selection import train_test_split\n",
    "from statsmodels.stats.outliers_influence import variance_inflation_factor\n",
    "from sklearn.metrics import accuracy_score, confusion_matrix, roc_curve, roc_auc_score\n",
    "\n",
    "import warnings \n",
    "warnings.filterwarnings('ignore')\n"
   ]
  },
  {
   "cell_type": "code",
   "execution_count": 2,
   "id": "a9a59d06",
   "metadata": {},
   "outputs": [
    {
     "data": {
      "text/html": [
       "<div>\n",
       "<style scoped>\n",
       "    .dataframe tbody tr th:only-of-type {\n",
       "        vertical-align: middle;\n",
       "    }\n",
       "\n",
       "    .dataframe tbody tr th {\n",
       "        vertical-align: top;\n",
       "    }\n",
       "\n",
       "    .dataframe thead th {\n",
       "        text-align: right;\n",
       "    }\n",
       "</style>\n",
       "<table border=\"1\" class=\"dataframe\">\n",
       "  <thead>\n",
       "    <tr style=\"text-align: right;\">\n",
       "      <th></th>\n",
       "      <th>Sex</th>\n",
       "      <th>Length</th>\n",
       "      <th>Diameter</th>\n",
       "      <th>Height</th>\n",
       "      <th>Whole weight</th>\n",
       "      <th>Shucked weight</th>\n",
       "      <th>Viscera weight</th>\n",
       "      <th>Shell weight</th>\n",
       "      <th>Rings</th>\n",
       "    </tr>\n",
       "  </thead>\n",
       "  <tbody>\n",
       "    <tr>\n",
       "      <th>0</th>\n",
       "      <td>M</td>\n",
       "      <td>0.455</td>\n",
       "      <td>0.365</td>\n",
       "      <td>0.095</td>\n",
       "      <td>0.5140</td>\n",
       "      <td>0.2245</td>\n",
       "      <td>0.1010</td>\n",
       "      <td>0.150</td>\n",
       "      <td>15</td>\n",
       "    </tr>\n",
       "    <tr>\n",
       "      <th>1</th>\n",
       "      <td>M</td>\n",
       "      <td>0.350</td>\n",
       "      <td>0.265</td>\n",
       "      <td>0.090</td>\n",
       "      <td>0.2255</td>\n",
       "      <td>0.0995</td>\n",
       "      <td>0.0485</td>\n",
       "      <td>0.070</td>\n",
       "      <td>7</td>\n",
       "    </tr>\n",
       "    <tr>\n",
       "      <th>2</th>\n",
       "      <td>F</td>\n",
       "      <td>0.530</td>\n",
       "      <td>0.420</td>\n",
       "      <td>0.135</td>\n",
       "      <td>0.6770</td>\n",
       "      <td>0.2565</td>\n",
       "      <td>0.1415</td>\n",
       "      <td>0.210</td>\n",
       "      <td>9</td>\n",
       "    </tr>\n",
       "    <tr>\n",
       "      <th>3</th>\n",
       "      <td>M</td>\n",
       "      <td>0.440</td>\n",
       "      <td>0.365</td>\n",
       "      <td>0.125</td>\n",
       "      <td>0.5160</td>\n",
       "      <td>0.2155</td>\n",
       "      <td>0.1140</td>\n",
       "      <td>0.155</td>\n",
       "      <td>10</td>\n",
       "    </tr>\n",
       "    <tr>\n",
       "      <th>4</th>\n",
       "      <td>I</td>\n",
       "      <td>0.330</td>\n",
       "      <td>0.255</td>\n",
       "      <td>0.080</td>\n",
       "      <td>0.2050</td>\n",
       "      <td>0.0895</td>\n",
       "      <td>0.0395</td>\n",
       "      <td>0.055</td>\n",
       "      <td>7</td>\n",
       "    </tr>\n",
       "  </tbody>\n",
       "</table>\n",
       "</div>"
      ],
      "text/plain": [
       "  Sex  Length  Diameter  Height  Whole weight  Shucked weight  Viscera weight  \\\n",
       "0   M   0.455     0.365   0.095        0.5140          0.2245          0.1010   \n",
       "1   M   0.350     0.265   0.090        0.2255          0.0995          0.0485   \n",
       "2   F   0.530     0.420   0.135        0.6770          0.2565          0.1415   \n",
       "3   M   0.440     0.365   0.125        0.5160          0.2155          0.1140   \n",
       "4   I   0.330     0.255   0.080        0.2050          0.0895          0.0395   \n",
       "\n",
       "   Shell weight  Rings  \n",
       "0         0.150     15  \n",
       "1         0.070      7  \n",
       "2         0.210      9  \n",
       "3         0.155     10  \n",
       "4         0.055      7  "
      ]
     },
     "execution_count": 2,
     "metadata": {},
     "output_type": "execute_result"
    }
   ],
   "source": [
    "df = pd.read_csv(\"https://raw.githubusercontent.com/dsrscientist/dataset1/master/abalone.csv\")\n",
    "df.head()"
   ]
  },
  {
   "cell_type": "markdown",
   "id": "0f2d856c",
   "metadata": {},
   "source": [
    "* Data Description\n",
    "1. Sex: Sex (M: Male, F: Female, I: Infant)\n",
    "2. Length: Longest Shell measurement (millimetres - mm)\n",
    "3. Diameter: Diameter - perpendicular to length (mm)\n",
    "4. Height: Height - with meat in shell (mm)\n",
    "5. Whole weight: Weight of whole abalone (grams)\n",
    "6. Shucked weight: Weight of meat (grams)\n",
    "7. Viscera weight: Gut weight after bleeding (grams)\n",
    "8. Shell weight: Shell weight - after being dried (grams)\n",
    "9. Rings: Rings - value + 1.5 gives age in years (eg. 4 = 5.5 years)"
   ]
  },
  {
   "cell_type": "code",
   "execution_count": 3,
   "id": "c08edc51",
   "metadata": {},
   "outputs": [
    {
     "name": "stdout",
     "output_type": "stream",
     "text": [
      "<class 'pandas.core.frame.DataFrame'>\n",
      "RangeIndex: 4177 entries, 0 to 4176\n",
      "Data columns (total 9 columns):\n",
      " #   Column          Non-Null Count  Dtype  \n",
      "---  ------          --------------  -----  \n",
      " 0   Sex             4177 non-null   object \n",
      " 1   Length          4177 non-null   float64\n",
      " 2   Diameter        4177 non-null   float64\n",
      " 3   Height          4177 non-null   float64\n",
      " 4   Whole weight    4177 non-null   float64\n",
      " 5   Shucked weight  4177 non-null   float64\n",
      " 6   Viscera weight  4177 non-null   float64\n",
      " 7   Shell weight    4177 non-null   float64\n",
      " 8   Rings           4177 non-null   int64  \n",
      "dtypes: float64(7), int64(1), object(1)\n",
      "memory usage: 293.8+ KB\n"
     ]
    }
   ],
   "source": [
    "# checking infromation of df\n",
    "df.info()"
   ]
  },
  {
   "cell_type": "markdown",
   "id": "bbdc6b9b",
   "metadata": {},
   "source": [
    "* there is no null value. 'sex' column contains object type data. 'rings' are integer. and all other columns are float"
   ]
  },
  {
   "cell_type": "code",
   "execution_count": 4,
   "id": "48059f1d",
   "metadata": {},
   "outputs": [
    {
     "data": {
      "text/plain": [
       "(4177, 9)"
      ]
     },
     "execution_count": 4,
     "metadata": {},
     "output_type": "execute_result"
    }
   ],
   "source": [
    "# checking shape of df\n",
    "df.shape"
   ]
  },
  {
   "cell_type": "markdown",
   "id": "78fd9412",
   "metadata": {},
   "source": [
    "#### EDA"
   ]
  },
  {
   "cell_type": "code",
   "execution_count": 5,
   "id": "135f3359",
   "metadata": {},
   "outputs": [
    {
     "data": {
      "text/html": [
       "<div>\n",
       "<style scoped>\n",
       "    .dataframe tbody tr th:only-of-type {\n",
       "        vertical-align: middle;\n",
       "    }\n",
       "\n",
       "    .dataframe tbody tr th {\n",
       "        vertical-align: top;\n",
       "    }\n",
       "\n",
       "    .dataframe thead th {\n",
       "        text-align: right;\n",
       "    }\n",
       "</style>\n",
       "<table border=\"1\" class=\"dataframe\">\n",
       "  <thead>\n",
       "    <tr style=\"text-align: right;\">\n",
       "      <th></th>\n",
       "      <th>Length</th>\n",
       "      <th>Diameter</th>\n",
       "      <th>Height</th>\n",
       "      <th>Whole weight</th>\n",
       "      <th>Shucked weight</th>\n",
       "      <th>Viscera weight</th>\n",
       "      <th>Shell weight</th>\n",
       "      <th>Rings</th>\n",
       "    </tr>\n",
       "  </thead>\n",
       "  <tbody>\n",
       "    <tr>\n",
       "      <th>count</th>\n",
       "      <td>4177.000000</td>\n",
       "      <td>4177.000000</td>\n",
       "      <td>4177.000000</td>\n",
       "      <td>4177.000000</td>\n",
       "      <td>4177.000000</td>\n",
       "      <td>4177.000000</td>\n",
       "      <td>4177.000000</td>\n",
       "      <td>4177.000000</td>\n",
       "    </tr>\n",
       "    <tr>\n",
       "      <th>mean</th>\n",
       "      <td>0.523992</td>\n",
       "      <td>0.407881</td>\n",
       "      <td>0.139516</td>\n",
       "      <td>0.828742</td>\n",
       "      <td>0.359367</td>\n",
       "      <td>0.180594</td>\n",
       "      <td>0.238831</td>\n",
       "      <td>9.933684</td>\n",
       "    </tr>\n",
       "    <tr>\n",
       "      <th>std</th>\n",
       "      <td>0.120093</td>\n",
       "      <td>0.099240</td>\n",
       "      <td>0.041827</td>\n",
       "      <td>0.490389</td>\n",
       "      <td>0.221963</td>\n",
       "      <td>0.109614</td>\n",
       "      <td>0.139203</td>\n",
       "      <td>3.224169</td>\n",
       "    </tr>\n",
       "    <tr>\n",
       "      <th>min</th>\n",
       "      <td>0.075000</td>\n",
       "      <td>0.055000</td>\n",
       "      <td>0.000000</td>\n",
       "      <td>0.002000</td>\n",
       "      <td>0.001000</td>\n",
       "      <td>0.000500</td>\n",
       "      <td>0.001500</td>\n",
       "      <td>1.000000</td>\n",
       "    </tr>\n",
       "    <tr>\n",
       "      <th>25%</th>\n",
       "      <td>0.450000</td>\n",
       "      <td>0.350000</td>\n",
       "      <td>0.115000</td>\n",
       "      <td>0.441500</td>\n",
       "      <td>0.186000</td>\n",
       "      <td>0.093500</td>\n",
       "      <td>0.130000</td>\n",
       "      <td>8.000000</td>\n",
       "    </tr>\n",
       "    <tr>\n",
       "      <th>50%</th>\n",
       "      <td>0.545000</td>\n",
       "      <td>0.425000</td>\n",
       "      <td>0.140000</td>\n",
       "      <td>0.799500</td>\n",
       "      <td>0.336000</td>\n",
       "      <td>0.171000</td>\n",
       "      <td>0.234000</td>\n",
       "      <td>9.000000</td>\n",
       "    </tr>\n",
       "    <tr>\n",
       "      <th>75%</th>\n",
       "      <td>0.615000</td>\n",
       "      <td>0.480000</td>\n",
       "      <td>0.165000</td>\n",
       "      <td>1.153000</td>\n",
       "      <td>0.502000</td>\n",
       "      <td>0.253000</td>\n",
       "      <td>0.329000</td>\n",
       "      <td>11.000000</td>\n",
       "    </tr>\n",
       "    <tr>\n",
       "      <th>max</th>\n",
       "      <td>0.815000</td>\n",
       "      <td>0.650000</td>\n",
       "      <td>1.130000</td>\n",
       "      <td>2.825500</td>\n",
       "      <td>1.488000</td>\n",
       "      <td>0.760000</td>\n",
       "      <td>1.005000</td>\n",
       "      <td>29.000000</td>\n",
       "    </tr>\n",
       "  </tbody>\n",
       "</table>\n",
       "</div>"
      ],
      "text/plain": [
       "            Length     Diameter       Height  Whole weight  Shucked weight  \\\n",
       "count  4177.000000  4177.000000  4177.000000   4177.000000     4177.000000   \n",
       "mean      0.523992     0.407881     0.139516      0.828742        0.359367   \n",
       "std       0.120093     0.099240     0.041827      0.490389        0.221963   \n",
       "min       0.075000     0.055000     0.000000      0.002000        0.001000   \n",
       "25%       0.450000     0.350000     0.115000      0.441500        0.186000   \n",
       "50%       0.545000     0.425000     0.140000      0.799500        0.336000   \n",
       "75%       0.615000     0.480000     0.165000      1.153000        0.502000   \n",
       "max       0.815000     0.650000     1.130000      2.825500        1.488000   \n",
       "\n",
       "       Viscera weight  Shell weight        Rings  \n",
       "count     4177.000000   4177.000000  4177.000000  \n",
       "mean         0.180594      0.238831     9.933684  \n",
       "std          0.109614      0.139203     3.224169  \n",
       "min          0.000500      0.001500     1.000000  \n",
       "25%          0.093500      0.130000     8.000000  \n",
       "50%          0.171000      0.234000     9.000000  \n",
       "75%          0.253000      0.329000    11.000000  \n",
       "max          0.760000      1.005000    29.000000  "
      ]
     },
     "execution_count": 5,
     "metadata": {},
     "output_type": "execute_result"
    }
   ],
   "source": [
    "# checking stats of df\n",
    "df.describe()"
   ]
  },
  {
   "cell_type": "markdown",
   "id": "3b3739a2",
   "metadata": {},
   "source": [
    "The analysis shows that the Ring attribute values ranges from 2 to 29 rings on an abalone specimen. However, the most frequent values of Rings are highly concentrated around the median of the distribution, so that, the 2nd and 3rd quartiles are defined in a range of less than 1 std deviation. I observe that its possible to approximate the distribution of this attribute to a normal curve."
   ]
  },
  {
   "cell_type": "code",
   "execution_count": 6,
   "id": "88e8885d",
   "metadata": {},
   "outputs": [
    {
     "data": {
      "text/plain": [
       "0"
      ]
     },
     "execution_count": 6,
     "metadata": {},
     "output_type": "execute_result"
    }
   ],
   "source": [
    "# chceking duplicate rows\n",
    "df.duplicated().sum()"
   ]
  },
  {
   "cell_type": "code",
   "execution_count": 7,
   "id": "78d7af55",
   "metadata": {},
   "outputs": [
    {
     "data": {
      "image/png": "[encoded data removed]",
      "text/plain": [
       "<Figure size 1440x1080 with 8 Axes>"
      ]
     },
     "metadata": {
      "needs_background": "light"
     },
     "output_type": "display_data"
    }
   ],
   "source": [
    "# checking outliers\n",
    "df1 = df.drop(columns=['Sex'])\n",
    "plt.figure(figsize=(20,15))\n",
    "point = 1\n",
    "for column in df1:\n",
    "    if point<=8:\n",
    "        plt.subplot(2,5,point)\n",
    "        ax = sns.boxplot(data = df1[column])\n",
    "        plt.xlabel(column,fontsize=10)\n",
    "    point+=1\n",
    "plt.show()    "
   ]
  },
  {
   "cell_type": "markdown",
   "id": "5e9f3aa6",
   "metadata": {},
   "source": [
    "* i observe that all columns contain much outliers. i will remove them in data cleaning phase"
   ]
  },
  {
   "cell_type": "code",
   "execution_count": 8,
   "id": "5122218e",
   "metadata": {},
   "outputs": [
    {
     "data": {
      "image/png": "[encoded data removed]",
      "text/plain": [
       "<Figure size 360x360 with 1 Axes>"
      ]
     },
     "metadata": {
      "needs_background": "light"
     },
     "output_type": "display_data"
    }
   ],
   "source": [
    "# analysing sex column\n",
    "plt.figure(figsize=(5,5))\n",
    "sns.countplot(df.Sex);"
   ]
  },
  {
   "cell_type": "code",
   "execution_count": 9,
   "id": "bc2213dc",
   "metadata": {},
   "outputs": [
    {
     "data": {
      "image/png": "[encoded data removed]",
      "text/plain": [
       "<Figure size 1440x1080 with 8 Axes>"
      ]
     },
     "metadata": {
      "needs_background": "light"
     },
     "output_type": "display_data"
    }
   ],
   "source": [
    "# let's see data distribution for every row\n",
    "plt.figure(figsize=(20,15))\n",
    "plotnumber = 1\n",
    "for column in df1:\n",
    "    if plotnumber<=8:\n",
    "        plt.subplot(2,4,plotnumber)\n",
    "        sns.distplot(df1[column])\n",
    "        plt.xlabel(column,fontsize = 15)\n",
    "    plotnumber+=1\n",
    "plt.show() "
   ]
  },
  {
   "cell_type": "code",
   "execution_count": 10,
   "id": "26297fda",
   "metadata": {},
   "outputs": [
    {
     "data": {
      "text/plain": [
       "Length           -0.639873\n",
       "Diameter         -0.609198\n",
       "Height            3.128817\n",
       "Whole weight      0.530959\n",
       "Shucked weight    0.719098\n",
       "Viscera weight    0.591852\n",
       "Shell weight      0.620927\n",
       "Rings             1.114102\n",
       "dtype: float64"
      ]
     },
     "execution_count": 10,
     "metadata": {},
     "output_type": "execute_result"
    }
   ],
   "source": [
    "df.skew()"
   ]
  },
  {
   "cell_type": "markdown",
   "id": "a089de34",
   "metadata": {},
   "source": [
    "* I can observe that most of the data in columns are skewed"
   ]
  },
  {
   "cell_type": "code",
   "execution_count": 11,
   "id": "db8d8979",
   "metadata": {},
   "outputs": [
    {
     "data": {
      "text/plain": [
       "<AxesSubplot:>"
      ]
     },
     "execution_count": 11,
     "metadata": {},
     "output_type": "execute_result"
    },
    {
     "data": {
      "image/png": "[encoded data removed]",
      "text/plain": [
       "<Figure size 1584x504 with 2 Axes>"
      ]
     },
     "metadata": {
      "needs_background": "light"
     },
     "output_type": "display_data"
    }
   ],
   "source": [
    "# checcking correlation \n",
    "plt.figure(figsize=(22,7))\n",
    "sns.heatmap(df.corr(),annot=True,linewidths=0.1,linecolor=\"black\",fmt=\"0.2f\")"
   ]
  },
  {
   "cell_type": "markdown",
   "id": "c3aced8d",
   "metadata": {},
   "source": [
    "* i observe that all columns are correlated to rings and other columns as well but rings number depends on all of these factors so, i will not drop any column as all are important and less columns will affect the accuracy"
   ]
  },
  {
   "cell_type": "markdown",
   "id": "f0597078",
   "metadata": {},
   "source": [
    "###  Data Cleaning"
   ]
  },
  {
   "cell_type": "code",
   "execution_count": 12,
   "id": "0c9cd109",
   "metadata": {},
   "outputs": [
    {
     "data": {
      "text/html": [
       "<div>\n",
       "<style scoped>\n",
       "    .dataframe tbody tr th:only-of-type {\n",
       "        vertical-align: middle;\n",
       "    }\n",
       "\n",
       "    .dataframe tbody tr th {\n",
       "        vertical-align: top;\n",
       "    }\n",
       "\n",
       "    .dataframe thead th {\n",
       "        text-align: right;\n",
       "    }\n",
       "</style>\n",
       "<table border=\"1\" class=\"dataframe\">\n",
       "  <thead>\n",
       "    <tr style=\"text-align: right;\">\n",
       "      <th></th>\n",
       "      <th>Sex</th>\n",
       "      <th>Length</th>\n",
       "      <th>Diameter</th>\n",
       "      <th>Height</th>\n",
       "      <th>Whole weight</th>\n",
       "      <th>Shucked weight</th>\n",
       "      <th>Viscera weight</th>\n",
       "      <th>Shell weight</th>\n",
       "      <th>Rings</th>\n",
       "    </tr>\n",
       "  </thead>\n",
       "  <tbody>\n",
       "    <tr>\n",
       "      <th>0</th>\n",
       "      <td>2</td>\n",
       "      <td>0.455</td>\n",
       "      <td>0.365</td>\n",
       "      <td>0.095</td>\n",
       "      <td>0.5140</td>\n",
       "      <td>0.2245</td>\n",
       "      <td>0.1010</td>\n",
       "      <td>0.150</td>\n",
       "      <td>15</td>\n",
       "    </tr>\n",
       "    <tr>\n",
       "      <th>1</th>\n",
       "      <td>2</td>\n",
       "      <td>0.350</td>\n",
       "      <td>0.265</td>\n",
       "      <td>0.090</td>\n",
       "      <td>0.2255</td>\n",
       "      <td>0.0995</td>\n",
       "      <td>0.0485</td>\n",
       "      <td>0.070</td>\n",
       "      <td>7</td>\n",
       "    </tr>\n",
       "    <tr>\n",
       "      <th>2</th>\n",
       "      <td>0</td>\n",
       "      <td>0.530</td>\n",
       "      <td>0.420</td>\n",
       "      <td>0.135</td>\n",
       "      <td>0.6770</td>\n",
       "      <td>0.2565</td>\n",
       "      <td>0.1415</td>\n",
       "      <td>0.210</td>\n",
       "      <td>9</td>\n",
       "    </tr>\n",
       "    <tr>\n",
       "      <th>3</th>\n",
       "      <td>2</td>\n",
       "      <td>0.440</td>\n",
       "      <td>0.365</td>\n",
       "      <td>0.125</td>\n",
       "      <td>0.5160</td>\n",
       "      <td>0.2155</td>\n",
       "      <td>0.1140</td>\n",
       "      <td>0.155</td>\n",
       "      <td>10</td>\n",
       "    </tr>\n",
       "    <tr>\n",
       "      <th>4</th>\n",
       "      <td>1</td>\n",
       "      <td>0.330</td>\n",
       "      <td>0.255</td>\n",
       "      <td>0.080</td>\n",
       "      <td>0.2050</td>\n",
       "      <td>0.0895</td>\n",
       "      <td>0.0395</td>\n",
       "      <td>0.055</td>\n",
       "      <td>7</td>\n",
       "    </tr>\n",
       "  </tbody>\n",
       "</table>\n",
       "</div>"
      ],
      "text/plain": [
       "   Sex  Length  Diameter  Height  Whole weight  Shucked weight  \\\n",
       "0    2   0.455     0.365   0.095        0.5140          0.2245   \n",
       "1    2   0.350     0.265   0.090        0.2255          0.0995   \n",
       "2    0   0.530     0.420   0.135        0.6770          0.2565   \n",
       "3    2   0.440     0.365   0.125        0.5160          0.2155   \n",
       "4    1   0.330     0.255   0.080        0.2050          0.0895   \n",
       "\n",
       "   Viscera weight  Shell weight  Rings  \n",
       "0          0.1010         0.150     15  \n",
       "1          0.0485         0.070      7  \n",
       "2          0.1415         0.210      9  \n",
       "3          0.1140         0.155     10  \n",
       "4          0.0395         0.055      7  "
      ]
     },
     "execution_count": 12,
     "metadata": {},
     "output_type": "execute_result"
    }
   ],
   "source": [
    "# Convert categorical data to numerical data for machine learning model using label encoder\n",
    "from sklearn.preprocessing import LabelEncoder\n",
    "le = LabelEncoder()\n",
    "df['Sex']= le.fit_transform(df['Sex'])\n",
    "df.head()\n"
   ]
  },
  {
   "cell_type": "code",
   "execution_count": 13,
   "id": "1de918bd",
   "metadata": {},
   "outputs": [
    {
     "name": "stdout",
     "output_type": "stream",
     "text": [
      "           Sex    Length  Diameter    Height  Whole weight  Shucked weight  \\\n",
      "0     1.151980  0.574558  0.432149  1.064424      0.641898        0.607685   \n",
      "1     1.151980  1.448986  1.439929  1.183978      1.230277        1.170910   \n",
      "2     1.280690  0.050033  0.122130  0.107991      0.309469        0.463500   \n",
      "3     1.151980  0.699476  0.432149  0.347099      0.637819        0.648238   \n",
      "4     0.064355  1.615544  1.540707  1.423087      1.272086        1.215968   \n",
      "...        ...       ...       ...       ...           ...             ...   \n",
      "4172  1.280690  0.341509  0.424464  0.609334      0.118813        0.047908   \n",
      "4173  1.151980  0.549706  0.323686  0.107991      0.279929        0.358808   \n",
      "4174  1.151980  0.632985  0.676409  1.565767      0.708212        0.748559   \n",
      "4175  1.280690  0.841182  0.777187  0.250672      0.541998        0.773341   \n",
      "4176  1.151980  1.549052  1.482634  1.326659      2.283681        2.640993   \n",
      "\n",
      "      Viscera weight  Shell weight     Rings  \n",
      "0           0.726212      0.638217  1.571544  \n",
      "1           1.205221      1.212987  0.910013  \n",
      "2           0.356690      0.207139  0.289624  \n",
      "3           0.607600      0.602294  0.020571  \n",
      "4           1.287337      1.320757  0.910013  \n",
      "...              ...           ...       ...  \n",
      "4172        0.532900      0.073062  0.330765  \n",
      "4173        0.309362      0.155685  0.020571  \n",
      "4174        0.975413      0.496955  0.289624  \n",
      "4175        0.733627      0.410739  0.020571  \n",
      "4176        1.787449      1.840481  0.640960  \n",
      "\n",
      "[4177 rows x 9 columns]\n"
     ]
    }
   ],
   "source": [
    "# Outlier detection and removal using z sccore\n",
    "from scipy import stats\n",
    "df_outlier= df.copy()\n",
    "z = np.abs(stats.zscore(df_outlier))\n",
    "print(z)"
   ]
  },
  {
   "cell_type": "markdown",
   "id": "6e12a3ea",
   "metadata": {},
   "source": [
    "Looking the code and the output above, it is difficult to say which data point is an outlier. Let’s try and define a threshold to identify an outlier."
   ]
  },
  {
   "cell_type": "code",
   "execution_count": 14,
   "id": "2af34996",
   "metadata": {},
   "outputs": [
    {
     "name": "stdout",
     "output_type": "stream",
     "text": [
      "(array([   6,   72,   81,   83,  129,  163,  164,  165,  165,  165,  166,\n",
      "        166,  167,  168,  170,  181,  232,  236,  236,  236,  237,  237,\n",
      "        238,  238,  239,  270,  275,  277,  278,  294,  310,  313,  314,\n",
      "        334,  351,  355,  358,  358,  362,  375,  416,  417,  428,  431,\n",
      "        433,  469,  478,  480,  501,  526,  526,  530,  572,  628,  673,\n",
      "        674,  675,  678,  694,  696,  696,  719,  719,  720,  720,  744,\n",
      "        754,  756,  811,  891,  891,  891, 1048, 1051, 1051, 1052, 1193,\n",
      "       1197, 1199, 1202, 1204, 1206, 1206, 1207, 1207, 1207, 1207, 1209,\n",
      "       1209, 1257, 1417, 1417, 1418, 1422, 1426, 1427, 1427, 1427, 1428,\n",
      "       1429, 1429, 1528, 1754, 1756, 1757, 1759, 1761, 1762, 1762, 1762,\n",
      "       1763, 1763, 1763, 1821, 1982, 1986, 1987, 1987, 2051, 2090, 2108,\n",
      "       2108, 2114, 2114, 2157, 2161, 2176, 2180, 2199, 2201, 2208, 2209,\n",
      "       2274, 2275, 2305, 2334, 2334, 2334, 2335, 2344, 2358, 2368, 2381,\n",
      "       2436, 2459, 2471, 2544, 2623, 2624, 2624, 2624, 2625, 2709, 2710,\n",
      "       2710, 2810, 2810, 2811, 2811, 2811, 2862, 2863, 2863, 2863, 3007,\n",
      "       3008, 3140, 3148, 3149, 3149, 3151, 3151, 3188, 3193, 3280, 3359,\n",
      "       3427, 3427, 3427, 3599, 3599, 3628, 3713, 3715, 3715, 3715, 3715,\n",
      "       3800, 3837, 3899, 3899, 3902, 3924, 3930, 3944, 3961, 3962, 3996,\n",
      "       4145, 4148], dtype=int64), array([8, 8, 7, 8, 7, 7, 7, 4, 5, 7, 7, 8, 8, 7, 6, 8, 8, 1, 2, 3, 1, 2,\n",
      "       1, 2, 1, 8, 8, 7, 8, 8, 8, 8, 8, 7, 8, 8, 4, 7, 8, 8, 8, 8, 8, 8,\n",
      "       8, 8, 8, 8, 8, 1, 2, 8, 8, 8, 8, 8, 8, 8, 2, 1, 2, 1, 2, 1, 2, 8,\n",
      "       8, 8, 8, 4, 5, 7, 6, 4, 5, 4, 5, 5, 5, 5, 6, 5, 6, 4, 5, 6, 7, 4,\n",
      "       5, 3, 3, 5, 5, 6, 5, 4, 5, 6, 7, 1, 2, 5, 5, 5, 6, 6, 5, 4, 5, 6,\n",
      "       4, 5, 6, 5, 5, 1, 1, 2, 3, 7, 7, 8, 1, 2, 7, 7, 8, 8, 8, 8, 7, 8,\n",
      "       7, 8, 8, 4, 6, 8, 8, 8, 8, 7, 1, 8, 8, 8, 5, 4, 4, 5, 6, 5, 6, 5,\n",
      "       6, 5, 6, 4, 5, 6, 5, 4, 5, 6, 5, 7, 8, 7, 7, 8, 7, 8, 7, 8, 8, 8,\n",
      "       4, 5, 6, 4, 5, 6, 5, 4, 5, 6, 7, 4, 2, 1, 2, 1, 8, 8, 8, 5, 5, 3,\n",
      "       7, 6], dtype=int64))\n"
     ]
    }
   ],
   "source": [
    "threshold = 3\n",
    "print(np.where(z > 3))"
   ]
  },
  {
   "cell_type": "markdown",
   "id": "5b5dc082",
   "metadata": {},
   "source": [
    "The above data shows outlier where z score more than 3. "
   ]
  },
  {
   "cell_type": "code",
   "execution_count": 15,
   "id": "b40d9efc",
   "metadata": {},
   "outputs": [
    {
     "data": {
      "text/plain": [
       "(4177, 9)"
      ]
     },
     "execution_count": 15,
     "metadata": {},
     "output_type": "execute_result"
    }
   ],
   "source": [
    "# filter the outliers and get the clean data.\n",
    "df_outlier= df_outlier[(z < 3).all(axis=1)]\n",
    "df.shape"
   ]
  },
  {
   "cell_type": "code",
   "execution_count": 16,
   "id": "702df9e7",
   "metadata": {},
   "outputs": [
    {
     "data": {
      "text/plain": [
       "(4027, 9)"
      ]
     },
     "execution_count": 16,
     "metadata": {},
     "output_type": "execute_result"
    }
   ],
   "source": [
    "df_outlier.shape"
   ]
  },
  {
   "cell_type": "markdown",
   "id": "fb1a76b5",
   "metadata": {},
   "source": [
    "So, above code removed around 150 rows from the dataset i.e. outliers have been removed."
   ]
  },
  {
   "cell_type": "code",
   "execution_count": 17,
   "id": "a73af22d",
   "metadata": {},
   "outputs": [
    {
     "data": {
      "text/plain": [
       "Sex              -0.094886\n",
       "Length           -0.623076\n",
       "Diameter         -0.598650\n",
       "Height           -0.244251\n",
       "Whole weight      0.334204\n",
       "Shucked weight    0.458295\n",
       "Viscera weight    0.437116\n",
       "Shell weight      0.349471\n",
       "Rings             0.725464\n",
       "dtype: float64"
      ]
     },
     "execution_count": 17,
     "metadata": {},
     "output_type": "execute_result"
    }
   ],
   "source": [
    "df_outlier.skew()"
   ]
  },
  {
   "cell_type": "code",
   "execution_count": 18,
   "id": "25633b33",
   "metadata": {},
   "outputs": [],
   "source": [
    "# lets remove skewness using yeo-johnson\n",
    "from sklearn.preprocessing import power_transform"
   ]
  },
  {
   "cell_type": "code",
   "execution_count": 19,
   "id": "8deeb574",
   "metadata": {},
   "outputs": [],
   "source": [
    "# split data into features and columns\n",
    "x = df_outlier.drop(columns=['Rings'])\n",
    "y = df_outlier.Rings"
   ]
  },
  {
   "cell_type": "code",
   "execution_count": 20,
   "id": "a06cfef2",
   "metadata": {},
   "outputs": [],
   "source": [
    "x=power_transform(x,method='yeo-johnson')"
   ]
  },
  {
   "cell_type": "markdown",
   "id": "63b2df2d",
   "metadata": {},
   "source": [
    "* scaling the data"
   ]
  },
  {
   "cell_type": "code",
   "execution_count": 21,
   "id": "e7f336b1",
   "metadata": {},
   "outputs": [],
   "source": [
    "scaler = StandardScaler()\n",
    "x_scaled = scaler.fit_transform(x)"
   ]
  },
  {
   "cell_type": "code",
   "execution_count": 22,
   "id": "2ba3bb37",
   "metadata": {},
   "outputs": [],
   "source": [
    "# import train_test_split\n",
    "from sklearn.model_selection import train_test_split\n",
    "# split the data\n",
    "x_train, x_test, y_train, y_test = train_test_split(x_scaled,y,test_size=0.3, random_state = 42)"
   ]
  },
  {
   "cell_type": "markdown",
   "id": "023daf79",
   "metadata": {},
   "source": [
    "### Model Building"
   ]
  },
  {
   "cell_type": "code",
   "execution_count": 23,
   "id": "5699fddd",
   "metadata": {},
   "outputs": [
    {
     "data": {
      "text/plain": [
       "LogisticRegression()"
      ]
     },
     "execution_count": 23,
     "metadata": {},
     "output_type": "execute_result"
    }
   ],
   "source": [
    "# logistic regression\n",
    "log_reg = LogisticRegression()\n",
    "log_reg.fit(x_train,y_train)"
   ]
  },
  {
   "cell_type": "code",
   "execution_count": 24,
   "id": "66f362af",
   "metadata": {},
   "outputs": [],
   "source": [
    "y_pred = log_reg.predict(x_test)"
   ]
  },
  {
   "cell_type": "code",
   "execution_count": 25,
   "id": "4b9a0da6",
   "metadata": {},
   "outputs": [
    {
     "data": {
      "text/plain": [
       "0.2696443341604632"
      ]
     },
     "execution_count": 25,
     "metadata": {},
     "output_type": "execute_result"
    }
   ],
   "source": [
    "# checking model accuracy\n",
    "accuracy = accuracy_score(y_test,y_pred)\n",
    "accuracy"
   ]
  },
  {
   "cell_type": "code",
   "execution_count": 26,
   "id": "78679167",
   "metadata": {},
   "outputs": [
    {
     "data": {
      "text/plain": [
       "array([[ 0,  2,  1,  0,  0,  0,  0,  0,  0,  0,  0,  0,  0,  0,  0,  0,\n",
       "         0],\n",
       "       [ 0,  2, 10,  3,  1,  0,  0,  0,  0,  0,  0,  0,  0,  0,  0,  0,\n",
       "         0],\n",
       "       [ 0,  1, 12,  8,  2,  0,  0,  0,  0,  0,  0,  0,  0,  0,  0,  0,\n",
       "         0],\n",
       "       [ 0,  0, 10, 15, 35,  8,  2,  0,  0,  0,  0,  0,  0,  0,  0,  0,\n",
       "         0],\n",
       "       [ 0,  0,  1, 14, 53, 22,  9,  3,  0,  0,  0,  0,  0,  0,  0,  0,\n",
       "         0],\n",
       "       [ 0,  0,  1,  6, 28, 60, 69, 12,  1,  0,  0,  0,  0,  0,  0,  0,\n",
       "         0],\n",
       "       [ 0,  0,  0,  3, 15, 33, 90, 47,  9,  1,  4,  0,  0,  0,  0,  0,\n",
       "         0],\n",
       "       [ 0,  0,  0,  3, 12, 14, 76, 55, 23,  0,  8,  0,  0,  1,  0,  0,\n",
       "         0],\n",
       "       [ 0,  0,  0,  2,  5,  7, 39, 60, 27,  0,  4,  0,  0,  0,  0,  0,\n",
       "         0],\n",
       "       [ 0,  0,  0,  0,  2,  1, 28, 26, 21,  0, 12,  0,  0,  1,  0,  0,\n",
       "         0],\n",
       "       [ 0,  0,  0,  0,  1,  2, 10, 19, 14,  0, 12,  0,  0,  0,  0,  0,\n",
       "         0],\n",
       "       [ 0,  0,  0,  0,  0,  5,  5, 15,  6,  0,  8,  0,  0,  0,  1,  0,\n",
       "         0],\n",
       "       [ 0,  0,  0,  0,  0,  1, 11,  8,  4,  0,  7,  0,  0,  0,  1,  0,\n",
       "         0],\n",
       "       [ 0,  0,  0,  0,  0,  1,  3,  4,  2,  0, 10,  0,  0,  0,  1,  0,\n",
       "         0],\n",
       "       [ 0,  0,  0,  0,  0,  0,  2,  3,  5,  0,  4,  0,  0,  0,  0,  0,\n",
       "         0],\n",
       "       [ 0,  0,  0,  0,  0,  0,  0,  2,  2,  0,  3,  0,  0,  0,  0,  0,\n",
       "         0],\n",
       "       [ 0,  0,  0,  0,  0,  0,  1,  3,  6,  0,  7,  0,  0,  0,  0,  0,\n",
       "         0]], dtype=int64)"
      ]
     },
     "execution_count": 26,
     "metadata": {},
     "output_type": "execute_result"
    }
   ],
   "source": [
    "con_mat = confusion_matrix(y_test,y_pred)\n",
    "con_mat"
   ]
  },
  {
   "cell_type": "code",
   "execution_count": 27,
   "id": "26a3a507",
   "metadata": {},
   "outputs": [
    {
     "name": "stdout",
     "output_type": "stream",
     "text": [
      "              precision    recall  f1-score   support\n",
      "\n",
      "           3       0.00      0.00      0.00         3\n",
      "           4       0.40      0.12      0.19        16\n",
      "           5       0.34      0.52      0.41        23\n",
      "           6       0.28      0.21      0.24        70\n",
      "           7       0.34      0.52      0.41       102\n",
      "           8       0.39      0.34      0.36       177\n",
      "           9       0.26      0.45      0.33       202\n",
      "          10       0.21      0.29      0.24       192\n",
      "          11       0.23      0.19      0.20       144\n",
      "          12       0.00      0.00      0.00        91\n",
      "          13       0.15      0.21      0.18        58\n",
      "          14       0.00      0.00      0.00        40\n",
      "          15       0.00      0.00      0.00        32\n",
      "          16       0.00      0.00      0.00        21\n",
      "          17       0.00      0.00      0.00        14\n",
      "          18       0.00      0.00      0.00         7\n",
      "          19       0.00      0.00      0.00        17\n",
      "\n",
      "    accuracy                           0.27      1209\n",
      "   macro avg       0.15      0.17      0.15      1209\n",
      "weighted avg       0.23      0.27      0.24      1209\n",
      "\n"
     ]
    }
   ],
   "source": [
    "from sklearn.metrics import classification_report\n",
    "print(classification_report(y_test,y_pred))"
   ]
  },
  {
   "cell_type": "markdown",
   "id": "180cac33",
   "metadata": {},
   "source": [
    "* randomforest"
   ]
  },
  {
   "cell_type": "code",
   "execution_count": 29,
   "id": "35d1c1a1",
   "metadata": {},
   "outputs": [
    {
     "name": "stdout",
     "output_type": "stream",
     "text": [
      "{'criterion': 'mse', 'max_features': 'log2'}\n"
     ]
    }
   ],
   "source": [
    "from sklearn.model_selection import GridSearchCV\n",
    "from sklearn.ensemble import RandomForestRegressor\n",
    "\n",
    "parameters = {'criterion' :['mse','mae'],\n",
    "             'max_features':[\"auto\",\"sqrt\",\"log2\"]}\n",
    "\n",
    "rf=RandomForestRegressor()\n",
    "clf = GridSearchCV(rf,parameters)\n",
    "clf.fit(x_train,y_train)\n",
    "\n",
    "print(clf.best_params_)"
   ]
  },
  {
   "cell_type": "code",
   "execution_count": 31,
   "id": "e12b4075",
   "metadata": {},
   "outputs": [
    {
     "data": {
      "text/plain": [
       "array([ 8.14, 10.56, 12.76, ..., 10.04,  6.16, 12.79])"
      ]
     },
     "execution_count": 31,
     "metadata": {},
     "output_type": "execute_result"
    }
   ],
   "source": [
    "rf = RandomForestRegressor(criterion=\"mse\",max_features=\"log2\")\n",
    "rf.fit(x_train,y_train)\n",
    "rf.score(x_train,y_train)\n",
    "pred_decision = rf.predict(x_test)\n",
    "\n",
    "pred_decision\n"
   ]
  },
  {
   "cell_type": "markdown",
   "id": "579f0f1e",
   "metadata": {},
   "source": [
    "### decision tree"
   ]
  },
  {
   "cell_type": "code",
   "execution_count": 35,
   "id": "6ff43086",
   "metadata": {},
   "outputs": [
    {
     "data": {
      "text/plain": [
       "DecisionTreeClassifier()"
      ]
     },
     "execution_count": 35,
     "metadata": {},
     "output_type": "execute_result"
    }
   ],
   "source": [
    "from sklearn.tree import DecisionTreeClassifier\n",
    "clf = DecisionTreeClassifier()\n",
    "clf.fit(x_train,y_train)"
   ]
  },
  {
   "cell_type": "code",
   "execution_count": 36,
   "id": "e7c3c219",
   "metadata": {},
   "outputs": [
    {
     "data": {
      "text/plain": [
       "1.0"
      ]
     },
     "execution_count": 36,
     "metadata": {},
     "output_type": "execute_result"
    }
   ],
   "source": [
    "clf.score(x_train,y_train)"
   ]
  },
  {
   "cell_type": "code",
   "execution_count": 37,
   "id": "9c47fde7",
   "metadata": {},
   "outputs": [
    {
     "data": {
      "text/plain": [
       "0.18982630272952852"
      ]
     },
     "execution_count": 37,
     "metadata": {},
     "output_type": "execute_result"
    }
   ],
   "source": [
    "# move to prediction part\n",
    "y_pred = clf.predict(x_test)\n",
    "\n",
    "# check the accuracy\n",
    "accuracy_score(y_test,y_pred)"
   ]
  },
  {
   "cell_type": "code",
   "execution_count": 38,
   "id": "eb8bce0d",
   "metadata": {},
   "outputs": [],
   "source": [
    "# we are tuning hyper parameter now by passing different values for both parameters\n",
    "drid_param = {\n",
    "    'criterion':['gini','entropy'],\n",
    "    'max_depth': range(10,15),\n",
    "    'min_samples_leaf': range(2,10),\n",
    "    'min_samples_split': range(3,10),\n",
    "    'max_leaf_nodes': range(5,10)\n",
    "}"
   ]
  },
  {
   "cell_type": "code",
   "execution_count": 39,
   "id": "72972c98",
   "metadata": {},
   "outputs": [],
   "source": [
    "grid_search = GridSearchCV(estimator=clf,param_grid=drid_param,cv=5,\n",
    "                           n_jobs=-1)"
   ]
  },
  {
   "cell_type": "code",
   "execution_count": 40,
   "id": "a8d0820c",
   "metadata": {},
   "outputs": [
    {
     "data": {
      "text/plain": [
       "GridSearchCV(cv=5, estimator=DecisionTreeClassifier(), n_jobs=-1,\n",
       "             param_grid={'criterion': ['gini', 'entropy'],\n",
       "                         'max_depth': range(10, 15),\n",
       "                         'max_leaf_nodes': range(5, 10),\n",
       "                         'min_samples_leaf': range(2, 10),\n",
       "                         'min_samples_split': range(3, 10)})"
      ]
     },
     "execution_count": 40,
     "metadata": {},
     "output_type": "execute_result"
    }
   ],
   "source": [
    "grid_search.fit(x_train,y_train)"
   ]
  },
  {
   "cell_type": "code",
   "execution_count": 41,
   "id": "b1c33759",
   "metadata": {},
   "outputs": [
    {
     "name": "stdout",
     "output_type": "stream",
     "text": [
      "{'criterion': 'entropy', 'max_depth': 10, 'max_leaf_nodes': 9, 'min_samples_leaf': 2, 'min_samples_split': 3}\n"
     ]
    }
   ],
   "source": [
    "best_parameters = grid_search.best_params_\n",
    "print(best_parameters)"
   ]
  },
  {
   "cell_type": "code",
   "execution_count": 42,
   "id": "cab936f0",
   "metadata": {},
   "outputs": [],
   "source": [
    "#  one function and call as many as times to check accuracy score of different model\n",
    "def metric_score(clf, x_train,x_test,y_train,y_test, train=True):\n",
    "    if train:\n",
    "        y_pred = clf.predict(x_train)\n",
    "        \n",
    "        print(\"\\n==================== Train Result =======================\")\n",
    "        \n",
    "        print(f\"Accuracy score :{accuracy_score(y_train,y_pred)*100:.2f}%\")\n",
    "        \n",
    "    elif train==False:\n",
    "        pred = clf.predict(x_test)\n",
    "        \n",
    "        print(\"\\n===================== Test Result =======================\")\n",
    "        \n",
    "        print(f\"Accuracy score :{accuracy_score(y_test, pred)*100:.2f}%\")\n",
    "        \n",
    "        print('\\n \\n Test Classification Report \\n',classification_report(y_test, pred,digits=2))"
   ]
  },
  {
   "cell_type": "code",
   "execution_count": 43,
   "id": "cc3fd23b",
   "metadata": {},
   "outputs": [
    {
     "data": {
      "text/plain": [
       "DecisionTreeClassifier(criterion='entropy', max_depth=10, max_leaf_nodes=9,\n",
       "                       min_samples_leaf=2, min_samples_split=3)"
      ]
     },
     "execution_count": 43,
     "metadata": {},
     "output_type": "execute_result"
    }
   ],
   "source": [
    "# initaiting DecisionTreeClassifier with new parameters and train\n",
    "clf = DecisionTreeClassifier(criterion = 'entropy',min_samples_split=3,max_depth=10,min_samples_leaf=2,max_leaf_nodes=9)\n",
    "\n",
    "# train the model\n",
    "clf.fit(x_train,y_train)"
   ]
  },
  {
   "cell_type": "code",
   "execution_count": 44,
   "id": "0834e697",
   "metadata": {},
   "outputs": [
    {
     "name": "stdout",
     "output_type": "stream",
     "text": [
      "\n",
      "==================== Train Result =======================\n",
      "Accuracy score :28.03%\n",
      "\n",
      "===================== Test Result =======================\n",
      "Accuracy score :25.68%\n",
      "\n",
      " \n",
      " Test Classification Report \n",
      "               precision    recall  f1-score   support\n",
      "\n",
      "           3       0.00      0.00      0.00         2\n",
      "           4       0.00      0.00      0.00         4\n",
      "           5       0.38      0.78      0.51        23\n",
      "           6       0.00      0.00      0.00        51\n",
      "           7       0.30      0.68      0.41        80\n",
      "           8       0.22      0.22      0.22       100\n",
      "           9       0.24      0.40      0.30       126\n",
      "          10       0.21      0.21      0.21       121\n",
      "          11       0.30      0.31      0.30       100\n",
      "          12       0.00      0.00      0.00        54\n",
      "          13       0.12      0.12      0.12        41\n",
      "          14       0.00      0.00      0.00        28\n",
      "          15       0.00      0.00      0.00        19\n",
      "          16       0.00      0.00      0.00        17\n",
      "          17       0.00      0.00      0.00        18\n",
      "          18       0.00      0.00      0.00        12\n",
      "          19       0.00      0.00      0.00        10\n",
      "\n",
      "    accuracy                           0.26       806\n",
      "   macro avg       0.10      0.16      0.12       806\n",
      "weighted avg       0.18      0.26      0.21       806\n",
      "\n"
     ]
    }
   ],
   "source": [
    "# call the function and pass dataset to check the train and test score\n",
    "metric_score(clf,x_train,x_test,y_train,y_test, train=True) # for tarining score\n",
    "\n",
    "metric_score(clf,x_train,x_test,y_train,y_test, train=False) # for testing score\n"
   ]
  },
  {
   "cell_type": "code",
   "execution_count": 45,
   "id": "ef4ba684",
   "metadata": {},
   "outputs": [],
   "source": [
    "# logistic regression has max accuracy so i will go with it"
   ]
  },
  {
   "cell_type": "code",
   "execution_count": 46,
   "id": "b5ed7847",
   "metadata": {},
   "outputs": [],
   "source": [
    "# saving the model"
   ]
  },
  {
   "cell_type": "code",
   "execution_count": 47,
   "id": "34f0d383",
   "metadata": {},
   "outputs": [],
   "source": [
    "import pickle\n",
    "filename = 'rings'\n",
    "pickle.dump(log_reg, open(filename,'wb'))"
   ]
  },
  {
   "cell_type": "code",
   "execution_count": null,
   "id": "23a093d4",
   "metadata": {},
   "outputs": [],
   "source": []
  }
 ],
 "metadata": {
  "kernelspec": {
   "display_name": "Python 3 (ipykernel)",
   "language": "python",
   "name": "python3"
  },
  "language_info": {
   "codemirror_mode": {
    "name": "ipython",
    "version": 3
   },
   "file_extension": ".py",
   "mimetype": "text/x-python",
   "name": "python",
   "nbconvert_exporter": "python",
   "pygments_lexer": "ipython3",
   "version": "3.9.7"
  }
 },
 "nbformat": 4,
 "nbformat_minor": 5
}
